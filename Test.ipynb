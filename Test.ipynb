{
 "cells": [
  {
   "cell_type": "markdown",
   "id": "7cc7f313-3b98-4511-ac34-96a94f9c0abf",
   "metadata": {},
   "source": [
    "## Liczby zespolone"
   ]
  },
  {
   "cell_type": "code",
   "execution_count": 1,
   "id": "c23eda2e-64bc-4fa2-976a-135a96b70370",
   "metadata": {},
   "outputs": [],
   "source": [
    "import numpy as np                                      # Importowanie biblioteki numerycznej: numpy\n",
    "import sympy as sp                                      # Importowanie biblioteki symbolicznej: sympy"
   ]
  },
  {
   "cell_type": "code",
   "execution_count": 2,
   "id": "747bc037-a01e-4866-88df-7549d6e0d668",
   "metadata": {},
   "outputs": [],
   "source": [
    "from sympy import I                                     # importowanie jednostki urojonej I z bilbioteki sympy\n",
    "sp.init_printing()                                      # elegancki wygląd wyników"
   ]
  },
  {
   "cell_type": "code",
   "execution_count": 3,
   "id": "eb17b988-5564-4e4f-9fc1-851590956ff8",
   "metadata": {},
   "outputs": [
    {
     "data": {
      "text/plain": [
       "((21-1j), (2 + 3*I)*(3 - 5*I))"
      ]
     },
     "execution_count": 3,
     "metadata": {},
     "output_type": "execute_result"
    }
   ],
   "source": [
    "(2+3j)*(3-5j), (2+3*I)*(3-5*I)"
   ]
  },
  {
   "cell_type": "code",
   "execution_count": 4,
   "id": "1f5f7cc7-694c-43b9-a566-5a9547c1ef46",
   "metadata": {},
   "outputs": [
    {
     "data": {
      "text/plain": [
       "((4.583873691629638-0.10907804918643871j), (2+1j))"
      ]
     },
     "execution_count": 4,
     "metadata": {},
     "output_type": "execute_result"
    }
   ],
   "source": [
    "np.sqrt(21-1j), np.sqrt(3+4j)"
   ]
  },
  {
   "cell_type": "code",
   "execution_count": 5,
   "id": "d33ada66-b015-4172-b60b-98d31bf1c0bb",
   "metadata": {},
   "outputs": [
    {
     "data": {
      "image/png": "[encoded data removed]",
      "text/latex": [
       "$\\displaystyle \\frac{\\left(2 + i\\right) \\left(3 + i\\right)}{10}$"
      ],
      "text/plain": [
       "(2 + ⅈ)⋅(3 + ⅈ)\n",
       "───────────────\n",
       "       10      "
      ]
     },
     "execution_count": 5,
     "metadata": {},
     "output_type": "execute_result"
    }
   ],
   "source": [
    "(2+I)/(3-I) "
   ]
  },
  {
   "cell_type": "code",
   "execution_count": 6,
   "id": "22fc18d4-a593-4ef9-b919-7e337e35ad52",
   "metadata": {},
   "outputs": [
    {
     "data": {
      "image/png": "[encoded data removed]",
      "text/latex": [
       "$\\displaystyle \\frac{1}{2} + \\frac{i}{2}$"
      ],
      "text/plain": [
       "1   ⅈ\n",
       "─ + ─\n",
       "2   2"
      ]
     },
     "execution_count": 6,
     "metadata": {},
     "output_type": "execute_result"
    }
   ],
   "source": [
    "sp.expand(_)"
   ]
  },
  {
   "cell_type": "code",
   "execution_count": 7,
   "id": "a6026297-7210-4b87-941e-4629fdbebe10",
   "metadata": {},
   "outputs": [
    {
     "name": "stdout",
     "output_type": "stream",
     "text": [
      "7.64 µs ± 888 ns per loop (mean ± std. dev. of 7 runs, 100,000 loops each)\n"
     ]
    }
   ],
   "source": [
    "%timeit [np.sqrt((2+2*np.sqrt(3)*1j)**2)]"
   ]
  },
  {
   "cell_type": "code",
   "execution_count": 8,
   "id": "afd0e422-493f-4ec2-b712-3c9ffe696b55",
   "metadata": {},
   "outputs": [
    {
     "name": "stdout",
     "output_type": "stream",
     "text": [
      "19.2 µs ± 1.43 µs per loop (mean ± std. dev. of 7 runs, 100,000 loops each)\n"
     ]
    }
   ],
   "source": [
    "%timeit [sp.sqrt((2+2*sp.sqrt(3)*I)**2)]"
   ]
  },
  {
   "cell_type": "code",
   "execution_count": 9,
   "id": "ee8d4dbe-32ba-48f1-9a16-7f7c82818510",
   "metadata": {},
   "outputs": [
    {
     "data": {
      "image/png": "[encoded data removed]",
      "text/latex": [
       "$\\displaystyle 3 + i$"
      ],
      "text/plain": [
       "3 + ⅈ"
      ]
     },
     "execution_count": 9,
     "metadata": {},
     "output_type": "execute_result"
    }
   ],
   "source": [
    "3+I"
   ]
  },
  {
   "cell_type": "code",
   "execution_count": 10,
   "id": "f66b5b74-983b-445c-b31c-12a55e7ef223",
   "metadata": {},
   "outputs": [
    {
     "data": {
      "text/plain": [
       "array([[1, 2, 3],\n",
       "       [3, 4, 5],\n",
       "       [5, 6, 7]])"
      ]
     },
     "execution_count": 10,
     "metadata": {},
     "output_type": "execute_result"
    }
   ],
   "source": [
    "np.array([[1, 2,3], [3, 4,5], [5, 6,7]])"
   ]
  },
  {
   "cell_type": "code",
   "execution_count": 11,
   "id": "9ddb5249-d35c-444f-96d8-419b5b300dd6",
   "metadata": {},
   "outputs": [
    {
     "data": {
      "image/png": "[encoded data removed]",
      "text/latex": [
       "$\\displaystyle 1.22464679914735 \\cdot 10^{-16}$"
      ],
      "text/plain": [
       "1.2246467991473532e-16"
      ]
     },
     "execution_count": 11,
     "metadata": {},
     "output_type": "execute_result"
    }
   ],
   "source": [
    "np.sin(np.pi)"
   ]
  },
  {
   "cell_type": "code",
   "execution_count": 12,
   "id": "45a5fa48-5f22-40a2-8f62-fe64591a3940",
   "metadata": {},
   "outputs": [
    {
     "data": {
      "image/png": "[encoded data removed]",
      "text/latex": [
       "$\\displaystyle 0$"
      ],
      "text/plain": [
       "0"
      ]
     },
     "execution_count": 12,
     "metadata": {},
     "output_type": "execute_result"
    }
   ],
   "source": [
    "sp.sin(sp.pi)"
   ]
  },
  {
   "cell_type": "code",
   "execution_count": 13,
   "id": "759aa0b7-a9ad-4543-949a-9d0b00e11cdf",
   "metadata": {},
   "outputs": [
    {
     "data": {
      "image/png": "[encoded data removed]",
      "text/latex": [
       "$\\displaystyle 1.22464679914735 \\cdot 10^{-16}$"
      ],
      "text/plain": [
       "1.22464679914735e-16"
      ]
     },
     "execution_count": 13,
     "metadata": {},
     "output_type": "execute_result"
    }
   ],
   "source": [
    "sp.sin(np.pi)"
   ]
  },
  {
   "cell_type": "code",
   "execution_count": 14,
   "id": "467dc542-a61c-4be8-8430-00293209e48a",
   "metadata": {},
   "outputs": [
    {
     "data": {
      "image/png": "[encoded data removed]",
      "text/latex": [
       "$\\displaystyle -3.14159265358979 + \\pi$"
      ],
      "text/plain": [
       "-3.14159265358979 + π"
      ]
     },
     "execution_count": 14,
     "metadata": {},
     "output_type": "execute_result"
    }
   ],
   "source": [
    "sp.pi-np.pi"
   ]
  },
  {
   "cell_type": "code",
   "execution_count": 15,
   "id": "9f4ed02a-6a10-485d-b899-e6eb2263a25f",
   "metadata": {},
   "outputs": [
    {
     "data": {
      "image/png": "[encoded data removed]",
      "text/latex": [
       "$\\displaystyle 0.0000000000000001224646799147353177226065932275001058209749445923078164062862089986280348253421170679821480865132823$"
      ],
      "text/plain": [
       "0.0000000000000001224646799147353177226065932275001058209749445923078164062862\n",
       "089986280348253421170679821480865132823"
      ]
     },
     "execution_count": 15,
     "metadata": {},
     "output_type": "execute_result"
    }
   ],
   "source": [
    "sp.N(_,100)"
   ]
  },
  {
   "cell_type": "code",
   "execution_count": null,
   "id": "5e8b83a5-eaeb-4261-a346-f8468e287ff2",
   "metadata": {},
   "outputs": [],
   "source": []
  }
 ],
 "metadata": {
  "kernelspec": {
   "display_name": "Python 3 (ipykernel)",
   "language": "python",
   "name": "python3"
  },
  "language_info": {
   "codemirror_mode": {
    "name": "ipython",
    "version": 3
   },
   "file_extension": ".py",
   "mimetype": "text/x-python",
   "name": "python",
   "nbconvert_exporter": "python",
   "pygments_lexer": "ipython3",
   "version": "3.9.12"
  }
 },
 "nbformat": 4,
 "nbformat_minor": 5
}
