{
 "cells": [
  {
   "cell_type": "markdown",
   "id": "7cc7f313-3b98-4511-ac34-96a94f9c0abf",
   "metadata": {},
   "source": [
    "## Liczby zespolone"
   ]
  },
  {
   "cell_type": "code",
   "execution_count": 1,
   "id": "c23eda2e-64bc-4fa2-976a-135a96b70370",
   "metadata": {},
   "outputs": [],
   "source": [
    "import numpy as np                                      # Importowanie biblioteki numerycznej: numpy\n",
    "import sympy as sp                                      # Importowanie biblioteki symbolicznej: sympy"
   ]
  },
  {
   "cell_type": "code",
   "execution_count": 2,
   "id": "747bc037-a01e-4866-88df-7549d6e0d668",
   "metadata": {},
   "outputs": [],
   "source": [
    "from sympy import I                                     # importowanie jednostki urojonej I z bilbioteki sympy\n",
    "sp.init_printing()                                      # elegancki wygląd wyników"
   ]
  },
  {
   "cell_type": "code",
   "execution_count": 3,
   "id": "eb17b988-5564-4e4f-9fc1-851590956ff8",
   "metadata": {},
   "outputs": [
    {
     "data": {
      "text/plain": [
       "((21-1j), (2 + 3*I)*(3 - 5*I))"
      ]
     },
     "execution_count": 3,
     "metadata": {},
     "output_type": "execute_result"
    }
   ],
   "source": [
    "(2+3j)*(3-5j),(2+3*I)*(3-5*I)"
   ]
  },
  {
   "cell_type": "code",
   "execution_count": 4,
   "id": "5e065ff0-7896-44f8-a5a7-0bbcc95c1bc4",
   "metadata": {},
   "outputs": [
    {
     "data": {
      "image/png": "[encoded data removed]",
      "text/latex": [
       "$\\displaystyle \\left( 21.0 - 1.0 i, \\  21 - i\\right)$"
      ],
      "text/plain": [
       "(21.0 - ⅈ, 21 - ⅈ)"
      ]
     },
     "execution_count": 4,
     "metadata": {},
     "output_type": "execute_result"
    }
   ],
   "source": [
    "sp.simplify((2+3j)*(3-5j)), sp.simplify((2+3*I)*(3-5*I))"
   ]
  },
  {
   "cell_type": "code",
   "execution_count": 26,
   "id": "3f140117-ac79-4731-83f2-1006f95ba479",
   "metadata": {},
   "outputs": [
    {
     "data": {
      "image/png": "[encoded data removed]",
      "text/latex": [
       "$\\displaystyle \\left( 2.82842712474619, \\  2 \\sqrt{2}\\right)$"
      ],
      "text/plain": [
       "(2.8284271247461903, 2⋅√2)"
      ]
     },
     "execution_count": 26,
     "metadata": {},
     "output_type": "execute_result"
    }
   ],
   "source": [
    "np.sqrt(8), sp.sqrt(8)"
   ]
  },
  {
   "cell_type": "code",
   "execution_count": 5,
   "id": "1f5f7cc7-694c-43b9-a566-5a9547c1ef46",
   "metadata": {
    "tags": []
   },
   "outputs": [
    {
     "data": {
      "text/plain": [
       "((4.583873691629638-0.10907804918643871j),\n",
       " (2+1j),\n",
       " 2 + I,\n",
       " sqrt(I),\n",
       " (0.7071067811865476+0.7071067811865475j))"
      ]
     },
     "execution_count": 5,
     "metadata": {},
     "output_type": "execute_result"
    }
   ],
   "source": [
    "np.sqrt(21-1j), np.sqrt(3+4j), sp.sqrt(3+4*I), sp.sqrt(I), np.sqrt(1j)"
   ]
  },
  {
   "cell_type": "code",
   "execution_count": 6,
   "id": "0b3095ee-820f-4ae7-8908-18b72f5aba81",
   "metadata": {},
   "outputs": [
    {
     "data": {
      "image/png": "[encoded data removed]",
      "text/latex": [
       "$\\displaystyle \\sqrt{i}$"
      ],
      "text/plain": [
       "√ⅈ"
      ]
     },
     "execution_count": 6,
     "metadata": {},
     "output_type": "execute_result"
    }
   ],
   "source": [
    "sp.simplify(sp.sqrt(I))"
   ]
  },
  {
   "cell_type": "code",
   "execution_count": 7,
   "id": "d33ada66-b015-4172-b60b-98d31bf1c0bb",
   "metadata": {},
   "outputs": [
    {
     "data": {
      "image/png": "[encoded data removed]",
      "text/latex": [
       "$\\displaystyle \\frac{\\left(2 + i\\right) \\left(3 + i\\right)}{10}$"
      ],
      "text/plain": [
       "(2 + ⅈ)⋅(3 + ⅈ)\n",
       "───────────────\n",
       "       10      "
      ]
     },
     "execution_count": 7,
     "metadata": {},
     "output_type": "execute_result"
    }
   ],
   "source": [
    "(2+I)/(3-I)"
   ]
  },
  {
   "cell_type": "code",
   "execution_count": 8,
   "id": "e393b4b8-b5fc-49eb-b15c-1238ce83a88b",
   "metadata": {},
   "outputs": [
    {
     "data": {
      "image/png": "[encoded data removed]",
      "text/latex": [
       "$\\displaystyle \\frac{1}{2} + \\frac{i}{2}$"
      ],
      "text/plain": [
       "1   ⅈ\n",
       "─ + ─\n",
       "2   2"
      ]
     },
     "execution_count": 8,
     "metadata": {},
     "output_type": "execute_result"
    }
   ],
   "source": [
    "sp.simplify(_)"
   ]
  },
  {
   "cell_type": "code",
   "execution_count": 9,
   "id": "0fb78f2d-5398-418b-a2e7-229595e08975",
   "metadata": {},
   "outputs": [
    {
     "data": {
      "text/plain": [
       "(0.5+0.49999999999999994j)"
      ]
     },
     "execution_count": 9,
     "metadata": {},
     "output_type": "execute_result"
    }
   ],
   "source": [
    "(2+1j)/(3-1j)"
   ]
  },
  {
   "cell_type": "code",
   "execution_count": 10,
   "id": "1b677ad7-2c6e-4914-96aa-caf092b3c04b",
   "metadata": {},
   "outputs": [
    {
     "data": {
      "image/png": "[encoded data removed]",
      "text/latex": [
       "$\\displaystyle 0.5 + 0.5 i$"
      ],
      "text/plain": [
       "0.5 + 0.5⋅ⅈ"
      ]
     },
     "execution_count": 10,
     "metadata": {},
     "output_type": "execute_result"
    }
   ],
   "source": [
    "sp.simplify(_)"
   ]
  },
  {
   "cell_type": "code",
   "execution_count": 11,
   "id": "a6026297-7210-4b87-941e-4629fdbebe10",
   "metadata": {},
   "outputs": [
    {
     "name": "stdout",
     "output_type": "stream",
     "text": [
      "7.29 µs ± 814 ns per loop (mean ± std. dev. of 7 runs, 100,000 loops each)\n"
     ]
    }
   ],
   "source": [
    "%timeit [np.sqrt((2+2*np.sqrt(3)*1j)**2)]"
   ]
  },
  {
   "cell_type": "code",
   "execution_count": 12,
   "id": "afd0e422-493f-4ec2-b712-3c9ffe696b55",
   "metadata": {},
   "outputs": [
    {
     "name": "stdout",
     "output_type": "stream",
     "text": [
      "22.3 µs ± 2.63 µs per loop (mean ± std. dev. of 7 runs, 10,000 loops each)\n"
     ]
    }
   ],
   "source": [
    "%timeit [sp.sqrt((2+2*sp.sqrt(3)*I)**2)]"
   ]
  },
  {
   "cell_type": "markdown",
   "id": "9decc5bc-06d7-406a-899c-74c1ba50264e",
   "metadata": {},
   "source": [
    "# Pierwiastek kwadratowy z liczby \"z\""
   ]
  },
  {
   "cell_type": "code",
   "execution_count": null,
   "id": "89e72b5f-965a-44ba-9ebc-1b4baa27ad54",
   "metadata": {},
   "outputs": [],
   "source": []
  },
  {
   "cell_type": "code",
   "execution_count": 14,
   "id": "9a3334af-9716-4a40-9b5b-bae1100905ab",
   "metadata": {},
   "outputs": [],
   "source": [
    "z = 1+I"
   ]
  },
  {
   "cell_type": "code",
   "execution_count": 15,
   "id": "5e8b83a5-eaeb-4261-a346-f8468e287ff2",
   "metadata": {},
   "outputs": [],
   "source": [
    "x, y = sp.symbols('x y', real=True)"
   ]
  },
  {
   "cell_type": "code",
   "execution_count": 16,
   "id": "15a8e05f-9915-4e0c-b164-0d5f6032ec27",
   "metadata": {},
   "outputs": [],
   "source": [
    "result = sp.solve((x+I*y)**2 - z, (x, y))"
   ]
  },
  {
   "cell_type": "code",
   "execution_count": 17,
   "id": "2bd03e5e-3c23-4a36-86f2-9a844fe33b7b",
   "metadata": {},
   "outputs": [
    {
     "data": {
      "image/png": "[encoded data removed]",
      "text/latex": [
       "$\\displaystyle 2$"
      ],
      "text/plain": [
       "2"
      ]
     },
     "execution_count": 17,
     "metadata": {},
     "output_type": "execute_result"
    }
   ],
   "source": [
    "len(result)"
   ]
  },
  {
   "cell_type": "code",
   "execution_count": 18,
   "id": "7dd7470a-65f0-46dd-9203-ae487655f91b",
   "metadata": {},
   "outputs": [
    {
     "data": {
      "image/png": "[encoded data removed]",
      "text/latex": [
       "$\\displaystyle \\left[ \\left( - 2 \\sqrt{- \\frac{1}{2} + \\frac{\\sqrt{2}}{2}} \\cdot \\left(\\frac{1}{2} + \\frac{\\sqrt{2}}{2}\\right), \\  - \\sqrt{- \\frac{1}{2} + \\frac{\\sqrt{2}}{2}}\\right), \\  \\left( 2 \\sqrt{- \\frac{1}{2} + \\frac{\\sqrt{2}}{2}} \\cdot \\left(\\frac{1}{2} + \\frac{\\sqrt{2}}{2}\\right), \\  \\sqrt{- \\frac{1}{2} + \\frac{\\sqrt{2}}{2}}\\right)\\right]$"
      ],
      "text/plain": [
       "⎡⎛       __________                __________⎞  ⎛      __________             \n",
       "⎢⎜      ╱   1   √2  ⎛1   √2⎞      ╱   1   √2 ⎟  ⎜     ╱   1   √2  ⎛1   √2⎞    \n",
       "⎢⎜-2⋅  ╱  - ─ + ── ⋅⎜─ + ──⎟, -  ╱  - ─ + ── ⎟, ⎜2⋅  ╱  - ─ + ── ⋅⎜─ + ──⎟,   \n",
       "⎣⎝   ╲╱     2   2   ⎝2   2 ⎠   ╲╱     2   2  ⎠  ⎝  ╲╱     2   2   ⎝2   2 ⎠  ╲╱\n",
       "\n",
       "  __________⎞⎤\n",
       " ╱   1   √2 ⎟⎥\n",
       "╱  - ─ + ── ⎟⎥\n",
       "     2   2  ⎠⎦"
      ]
     },
     "execution_count": 18,
     "metadata": {},
     "output_type": "execute_result"
    }
   ],
   "source": [
    "result"
   ]
  },
  {
   "cell_type": "code",
   "execution_count": 19,
   "id": "cc50b0d1-736e-420e-b68f-94ca90ff7ca8",
   "metadata": {},
   "outputs": [
    {
     "data": {
      "image/png": "[encoded data removed]",
      "text/latex": [
       "$\\displaystyle \\left[ \\left( -3, \\  3\\right), \\  \\left( 2, \\  -4\\right)\\right]$"
      ],
      "text/plain": [
       "[(-3, 3), (2, -4)]"
      ]
     },
     "execution_count": 19,
     "metadata": {},
     "output_type": "execute_result"
    }
   ],
   "source": [
    "z = x + I*y\n",
    "sp.solve(z ** 2 + (1 + I) * z + (6 + 18 * I), (x, y))"
   ]
  },
  {
   "cell_type": "code",
   "execution_count": 20,
   "id": "7793e0b7-28ca-4c9a-afc5-919b542d3931",
   "metadata": {},
   "outputs": [],
   "source": [
    "res_1 = sp.solve(z**3-1)"
   ]
  },
  {
   "cell_type": "code",
   "execution_count": 21,
   "id": "9c5bfc36-f2e4-4fe1-911a-45d746c61d91",
   "metadata": {},
   "outputs": [],
   "source": [
    "v = sp.symbols('v')"
   ]
  },
  {
   "cell_type": "code",
   "execution_count": 22,
   "id": "7d6cb645-c430-4279-995f-0289ee04d43a",
   "metadata": {},
   "outputs": [],
   "source": [
    "res_2 = sp.solve(v**3-1)"
   ]
  },
  {
   "cell_type": "code",
   "execution_count": 23,
   "id": "322480b3-b150-487f-b186-1501c50f154d",
   "metadata": {},
   "outputs": [
    {
     "data": {
      "image/png": "[encoded data removed]",
      "text/latex": [
       "$\\displaystyle \\left( \\left[ \\left\\{ x : - \\frac{1}{2}, \\  y : - \\frac{\\sqrt{3}}{2}\\right\\}, \\  \\left\\{ x : - \\frac{1}{2}, \\  y : \\frac{\\sqrt{3}}{2}\\right\\}, \\  \\left\\{ x : 1, \\  y : 0\\right\\}\\right], \\  \\left[ 1, \\  - \\frac{1}{2} - \\frac{\\sqrt{3} i}{2}, \\  - \\frac{1}{2} + \\frac{\\sqrt{3} i}{2}\\right], \\  3, \\  3\\right)$"
      ],
      "text/plain": [
       "⎛⎡⎧            -√3 ⎫  ⎧            √3⎫              ⎤  ⎡     1   √3⋅ⅈ    1   √\n",
       "⎜⎢⎨x: -1/2, y: ────⎬, ⎨x: -1/2, y: ──⎬, {x: 1, y: 0}⎥, ⎢1, - ─ - ────, - ─ + ─\n",
       "⎝⎣⎩             2  ⎭  ⎩            2 ⎭              ⎦  ⎣     2    2      2    \n",
       "\n",
       "3⋅ⅈ⎤      ⎞\n",
       "───⎥, 3, 3⎟\n",
       "2  ⎦      ⎠"
      ]
     },
     "execution_count": 23,
     "metadata": {},
     "output_type": "execute_result"
    }
   ],
   "source": [
    "res_1, res_2, len(res_1), len(res_2)"
   ]
  }
 ],
 "metadata": {
  "kernelspec": {
   "display_name": "Python 3 (ipykernel)",
   "language": "python",
   "name": "python3"
  },
  "language_info": {
   "codemirror_mode": {
    "name": "ipython",
    "version": 3
   },
   "file_extension": ".py",
   "mimetype": "text/x-python",
   "name": "python",
   "nbconvert_exporter": "python",
   "pygments_lexer": "ipython3",
   "version": "3.9.12"
  }
 },
 "nbformat": 4,
 "nbformat_minor": 5
}
