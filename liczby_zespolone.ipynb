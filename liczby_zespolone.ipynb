{
 "cells": [
  {
   "cell_type": "markdown",
   "id": "7cc7f313-3b98-4511-ac34-96a94f9c0abf",
   "metadata": {
    "slideshow": {
     "slide_type": "slide"
    },
    "tags": []
   },
   "source": [
    "# Liczby zespolone"
   ]
  },
  {
   "cell_type": "markdown",
   "id": "4a824246-d14a-4aef-8dac-cb611c01eb4c",
   "metadata": {
    "slideshow": {
     "slide_type": "slide"
    },
    "tags": []
   },
   "source": [
    " Zbiór $\\mathbb{C} = \\left( (x,y)\\in \\mathbb{R}^2, \\oplus , \\odot  \\right)$ nazywać będziemy zbiorem liczb zespolonych.  Zatem przez liczby zespolone rozumieć będziemy zbiór złożony z wszystkich par liczb rzeczywystich wraz ze zdefiniowanymi dwoma działaniami:  dodawania zespolonego i mnożenia zespolonego. Dla dowolnych $z_1=(x_1,y_1), z_2=(x_2,y_2) \\in \\mathbb{C}$ (gdzie $x_1,x_2,y_1,y_2 \\in \\mathbb{R}$) działania zdefiniowane są następująco:\n",
    "$$\n",
    "  z_1 \\oplus z_2 = (x_1,y_1)\\oplus (x_2,y_2)=(x_1+x_2,y_1+y_2),\n",
    "$$ \n",
    "$$\n",
    "  z_1 \\odot z_2 = (x_1,y_1) \\odot (x_2,y_2) = (x_1 \\cdot x_2 - y_1 \\cdot y_2,x_1 \\cdot y_2 + x_2 \\cdot y_1).\n",
    "$$\n",
    "W dalszym ciągu działania zespolone oznaczać będziemy zwykłymi znakami dodawania i mnożenia. W naturalny sposób można zdefiniować operacje odejmowania (dodawanie elementów przeciwnych - patrz niżej) oraz operację mnożenia przez liczbę rzeczywistą (mnożenie przez liczbę postaci $(x,0)$ - patrz niżej). "
   ]
  },
  {
   "cell_type": "markdown",
   "id": "7f0bbbdb-d84a-4899-8fe8-3cadc62a1531",
   "metadata": {},
   "source": [
    "#### Własności zbioru liczb zespolonych\n",
    "\\begin{array}{}\n",
    "1. \\quad  z_1=z_2 \\Leftrightarrow (x_1,y_1)=(x_2,y_2) \\Leftrightarrow x_1=x_2 \\wedge y_1=y_2, && (\\mbox{równość liczb zespolonych}) \\\\\n",
    "2. \\quad z_1 \\oplus z_2=z_2 \\oplus z_1, && (\\mbox{przemienność dodawania})\\\\\n",
    "3. \\quad (z_1 \\oplus z_2) \\oplus z_3 = z_1 \\oplus (z_2 \\oplus z_3), &&  (\\mbox{łączność dodawania}) \\\\\n",
    "4. \\quad \\mbox{dla dowolnego } z\\in \\mathbb{C} \\mbox{ zachodzi } z \\oplus (0,0) = z, && (\\mbox{istnieje element neutralny dodawania 0=(0,0)})\\\\\n",
    "5. \\quad \\mbox{dla dowolnego } z\\in \\mathbb{C} \\mbox{ zachodzi } z \\oplus (-z) = 0, && (\\mbox{istnieje element przeciwny -z=-(x,y)=(-x,-y)})\\\\\n",
    "6. \\quad z_1 \\odot z_2 = z_2 \\odot z_1, &&  (\\mbox{przemienność mnożenia})\\\\\n",
    "7. \\quad (z_1 \\odot z_2) \\odot z_3 = z_1 \\odot (z_2 \\odot z_3)  , &&  (\\mbox{łączność mnożenia})\\\\\n",
    "8. \\quad \\mbox{dla dowolnego } z\\in \\mathbb{C} \\mbox{ zachodzi } z \\odot (1,0) = z, && (\\mbox{istnieje element neutralny mnożenia 1=(1,0)})\\\\\n",
    "9. \\quad \\mbox{dla dowolnego }z\\in \\mathbb{C}\\setminus\\left\\{0\\right\\} \\mbox{ zachodzi } z \\odot \\frac{1}{z} = 1, && (\\mbox{istnieje element odwrotny } \\frac{1}{z}=\\frac{1}{(x,y)}=\\left(\\frac{x}{x^2+y^2},\\frac{-y}{x^2+y^2}\\right) \\mbox{ dla }z\\neq 0)\\\\\n",
    "10. \\quad z_1 \\odot (z_2 \\oplus z_3)=z_1 \\odot z_2 \\oplus z_1 \\odot z_3. && (\\mbox{rozdzielność mnożenia względem dodawania})\n",
    "\\end{array}"
   ]
  },
  {
   "cell_type": "markdown",
   "id": "a65b97a8-d456-4555-8dd0-b2eb3ab82a51",
   "metadata": {},
   "source": [
    "Będziemy dodawanie i mnożenie zespolone zapisywać używając zwyczajnych symboli \"$+$\" i \"$\\cdot$\".\n",
    "Dodatkowo, w sposób naturalny możemy zdefiniować odejmowanie liczb zespolonych jako dodawanie elementu przeciwnego oraz dzielenie liczb zespolonych jako mnożenie przez odwrotnosć.\n"
   ]
  },
  {
   "cell_type": "code",
   "execution_count": 1,
   "id": "c23eda2e-64bc-4fa2-976a-135a96b70370",
   "metadata": {
    "jupyter": {
     "source_hidden": true
    },
    "slideshow": {
     "slide_type": "slide"
    },
    "tags": []
   },
   "outputs": [],
   "source": [
    "import numpy as np                                      # Importowanie biblioteki numerycznej: numpy\n",
    "import sympy as sp                                      # Importowanie biblioteki symbolicznej: sympy\n",
    "import cmath as cm                                      # Importowanie biblioteki symbolicznej: cmath\n",
    "from sympy import I                                     # importowanie jednostki urojonej I z bilbioteki sympy"
   ]
  },
  {
   "cell_type": "code",
   "execution_count": 2,
   "id": "f3b3c150-f4bb-4f0b-adbb-2c107d084c84",
   "metadata": {
    "tags": []
   },
   "outputs": [
    {
     "data": {
      "text/plain": [
       "0.30000000000000004"
      ]
     },
     "execution_count": 2,
     "metadata": {},
     "output_type": "execute_result"
    }
   ],
   "source": [
    "0.1+0.2                                                 # błędy obliczeń numerycznych"
   ]
  },
  {
   "cell_type": "code",
   "execution_count": 3,
   "id": "747bc037-a01e-4866-88df-7549d6e0d668",
   "metadata": {
    "tags": []
   },
   "outputs": [
    {
     "data": {
      "image/png": "[encoded data removed]",
      "text/latex": [
       "$\\displaystyle 0.3$"
      ],
      "text/plain": [
       "0.30000000000000004"
      ]
     },
     "execution_count": 3,
     "metadata": {},
     "output_type": "execute_result"
    }
   ],
   "source": [
    "sp.init_printing()                                      # elegancki wygląd wyników oraz eliminacja błędów przybliżeń\n",
    "0.1+0.2"
   ]
  },
  {
   "cell_type": "code",
   "execution_count": 4,
   "id": "ff400169-bb2d-46f7-86e5-8bf5afcae95d",
   "metadata": {
    "jupyter": {
     "source_hidden": true
    },
    "tags": []
   },
   "outputs": [],
   "source": [
    "#to nie jest nauka programowania!\n",
    "def plus(a,b):                                          # prymitywna funkcja na dodawanie liczb zespolonych jako par\n",
    "    return (a[0]+b[0],a[1]+b[1])\n",
    "def minus(a,b):                                         # prymitywna funkcja na odejmowanie liczb zespolonych jako par\n",
    "    return (a[0]-b[0],a[1]-b[1])\n",
    "def razy(a,b):                                          # prymitywna funkcja na mnożenie liczb zespolonych jako par\n",
    "    return (a[0]*b[0]-a[1]*b[1],a[0]*b[1]+a[1]*b[0])\n",
    "def odwroc(a):                                          # prymitywna funkcja na odwracanie liczb zespolonych jako par\n",
    "    return (a[0]/(a[0]**2+a[1]**2),-a[1]/(a[0]**2+a[1]**2))\n",
    "def dziel(a,b):                                         # prymitywna funkcja na dzielenie liczb zespolonych jako par\n",
    "    return razy(a,odwroc(b))"
   ]
  },
  {
   "cell_type": "markdown",
   "id": "0c4c4284-d542-4e17-88b3-6b2f9b840ad2",
   "metadata": {},
   "source": [
    "#### Poćwiczmy działania na parach\n",
    "Przykładowo:\n",
    "$$(-1,2)\\cdot(1,3)$$\n",
    "$$((3,5)+(2,1))\\cdot((3,1)-(-1,2))$$\n",
    "$$((-1,-2)-(0,1))\\cdot((1,2)+(2,0))$$\n",
    "$$(1,2)/(3,4)$$"
   ]
  },
  {
   "cell_type": "code",
   "execution_count": 5,
   "id": "24e5d6dc-6e7f-448f-a99f-e4ec09739afb",
   "metadata": {
    "jupyter": {
     "source_hidden": true
    },
    "tags": []
   },
   "outputs": [
    {
     "data": {
      "image/png": "[encoded data removed]",
      "text/latex": [
       "$\\displaystyle \\left( -7, \\  -1\\right)$"
      ],
      "text/plain": [
       "(-7, -1)"
      ]
     },
     "execution_count": 5,
     "metadata": {},
     "output_type": "execute_result"
    }
   ],
   "source": [
    "razy((-1,2),(1,3))"
   ]
  },
  {
   "cell_type": "code",
   "execution_count": 6,
   "id": "d35e7826-8c2a-4db0-a69b-b978f31e3fa4",
   "metadata": {
    "jupyter": {
     "source_hidden": true
    },
    "tags": []
   },
   "outputs": [
    {
     "data": {
      "image/png": "[encoded data removed]",
      "text/latex": [
       "$\\displaystyle \\left( 26, \\  19\\right)$"
      ],
      "text/plain": [
       "(26, 19)"
      ]
     },
     "execution_count": 6,
     "metadata": {},
     "output_type": "execute_result"
    }
   ],
   "source": [
    "razy(plus((3,5),(2,1)),minus((3,1),(-1,2)))"
   ]
  },
  {
   "cell_type": "code",
   "execution_count": 83,
   "id": "5d28b1e7-9abf-404f-aee2-0d906f79b7a2",
   "metadata": {
    "jupyter": {
     "source_hidden": true
    },
    "tags": []
   },
   "outputs": [
    {
     "data": {
      "image/png": "[encoded data removed]",
      "text/latex": [
       "$\\displaystyle \\left( 9, \\  -7\\right)$"
      ],
      "text/plain": [
       "(9, -7)"
      ]
     },
     "execution_count": 83,
     "metadata": {},
     "output_type": "execute_result"
    }
   ],
   "source": [
    "razy(minus((1,-2),(0,1)),plus((1,2),(2,0)))"
   ]
  },
  {
   "cell_type": "code",
   "execution_count": 8,
   "id": "d7673761-980e-4e81-bf54-5c7bad8097f9",
   "metadata": {
    "jupyter": {
     "source_hidden": true
    },
    "tags": []
   },
   "outputs": [
    {
     "data": {
      "image/png": "[encoded data removed]",
      "text/latex": [
       "$\\displaystyle \\left( 0.44, \\  0.08\\right)$"
      ],
      "text/plain": [
       "(0.44, 0.07999999999999999)"
      ]
     },
     "execution_count": 8,
     "metadata": {},
     "output_type": "execute_result"
    }
   ],
   "source": [
    "dziel((1,2),(3,4))"
   ]
  },
  {
   "cell_type": "markdown",
   "id": "7d16cc99-6f20-4edd-8b0f-5e8718aeb9f9",
   "metadata": {},
   "source": [
    "Obliczmy jeszcze $(0,1)^2.$"
   ]
  },
  {
   "cell_type": "code",
   "execution_count": 9,
   "id": "664167c1-b5e6-4207-9cc5-63f415eaadb2",
   "metadata": {
    "tags": []
   },
   "outputs": [
    {
     "data": {
      "image/png": "[encoded data removed]",
      "text/latex": [
       "$\\displaystyle \\left( -1, \\  0\\right)$"
      ],
      "text/plain": [
       "(-1, 0)"
      ]
     },
     "execution_count": 9,
     "metadata": {},
     "output_type": "execute_result"
    }
   ],
   "source": [
    "razy((0,1),(0,1))"
   ]
  },
  {
   "cell_type": "markdown",
   "id": "8967c3dc-9012-493a-8738-0108442c409d",
   "metadata": {},
   "source": [
    "#### Definiujemy $\\mathrm{i}=(0,1).$ Z powyższego wynika, że $\\mathrm{i}^2=-1.$ Liczbę $\\mathrm{i}=(0,1)$-nazywamy jednostką urojoną. "
   ]
  },
  {
   "cell_type": "markdown",
   "id": "c4200797-48bd-4944-937c-5d296e51734c",
   "metadata": {},
   "source": [
    "# Postać algebraiczna liczby zespolonej"
   ]
  },
  {
   "cell_type": "markdown",
   "id": "231869d6-6715-4947-ad46-004358657bda",
   "metadata": {},
   "source": [
    "Każdą liczbę zespoloną $z=(x,y)$ możemy zapisać jako $$z=(x,y)= (x,0)+(0,y) = x\\cdot (1,0) + y \\cdot (0,1)= x+y\\mathrm{i}$$ gdzie $x,y \\in \\mathbb{R}.$ Zapis $z=x+y\\mathrm{i}$ nazywamy postacią algebraiczną liczby zespolonej. \n",
    "   \n",
    "Operacje dodawania, odejmowania, mnożenia i dzielenia przenoszą się w sposób naturalny na postać algebraiczną.\n",
    "   "
   ]
  },
  {
   "cell_type": "code",
   "execution_count": 82,
   "id": "eb17b988-5564-4e4f-9fc1-851590956ff8",
   "metadata": {
    "tags": []
   },
   "outputs": [
    {
     "data": {
      "text/plain": [
       "((21-1j), (2 + 3*I)*(3 - 5*I))"
      ]
     },
     "execution_count": 82,
     "metadata": {},
     "output_type": "execute_result"
    }
   ],
   "source": [
    "(2+3j)*(3-5j),(2+3*I)*(3-5*I)                   # działania w trybie numerycznym i symbolicznym"
   ]
  },
  {
   "cell_type": "code",
   "execution_count": 15,
   "id": "d33ada66-b015-4172-b60b-98d31bf1c0bb",
   "metadata": {},
   "outputs": [
    {
     "data": {
      "image/png": "[encoded data removed]",
      "text/latex": [
       "$\\displaystyle \\frac{\\left(2 + i\\right) \\left(3 + i\\right)}{10}$"
      ],
      "text/plain": [
       "(2 + ⅈ)⋅(3 + ⅈ)\n",
       "───────────────\n",
       "       10      "
      ]
     },
     "execution_count": 15,
     "metadata": {},
     "output_type": "execute_result"
    }
   ],
   "source": [
    "((2+I)/(3-I))"
   ]
  },
  {
   "cell_type": "code",
   "execution_count": 16,
   "id": "e393b4b8-b5fc-49eb-b15c-1238ce83a88b",
   "metadata": {},
   "outputs": [
    {
     "data": {
      "image/png": "[encoded data removed]",
      "text/latex": [
       "$\\displaystyle \\frac{1}{2} + \\frac{i}{2}$"
      ],
      "text/plain": [
       "1   ⅈ\n",
       "─ + ─\n",
       "2   2"
      ]
     },
     "execution_count": 16,
     "metadata": {},
     "output_type": "execute_result"
    }
   ],
   "source": [
    "sp.simplify(_)"
   ]
  },
  {
   "cell_type": "code",
   "execution_count": 17,
   "id": "160b28a3-ddb5-428e-9a3d-8a6299d1d46d",
   "metadata": {},
   "outputs": [
    {
     "data": {
      "image/png": "[encoded data removed]",
      "text/latex": [
       "$\\displaystyle \\frac{1}{2} + \\frac{i}{2}$"
      ],
      "text/plain": [
       "1   ⅈ\n",
       "─ + ─\n",
       "2   2"
      ]
     },
     "execution_count": 17,
     "metadata": {},
     "output_type": "execute_result"
    }
   ],
   "source": [
    "sp.re((2+I)/(3-I))+I*sp.im((2+I)/(3-I))"
   ]
  },
  {
   "cell_type": "code",
   "execution_count": 18,
   "id": "0fb78f2d-5398-418b-a2e7-229595e08975",
   "metadata": {},
   "outputs": [
    {
     "data": {
      "text/plain": [
       "(0.5+0.49999999999999994j)"
      ]
     },
     "execution_count": 18,
     "metadata": {},
     "output_type": "execute_result"
    }
   ],
   "source": [
    "(2+1j)/(3-1j)"
   ]
  },
  {
   "cell_type": "code",
   "execution_count": 19,
   "id": "1b677ad7-2c6e-4914-96aa-caf092b3c04b",
   "metadata": {},
   "outputs": [
    {
     "data": {
      "image/png": "[encoded data removed]",
      "text/latex": [
       "$\\displaystyle 0.5 + 0.5 i$"
      ],
      "text/plain": [
       "0.5 + 0.5⋅ⅈ"
      ]
     },
     "execution_count": 19,
     "metadata": {},
     "output_type": "execute_result"
    }
   ],
   "source": [
    "sp.simplify(_)"
   ]
  },
  {
   "cell_type": "code",
   "execution_count": 11,
   "id": "5e065ff0-7896-44f8-a5a7-0bbcc95c1bc4",
   "metadata": {},
   "outputs": [
    {
     "data": {
      "image/png": "[encoded data removed]",
      "text/latex": [
       "$\\displaystyle \\left( 21.0 - 1.0 i, \\  21 - i\\right)$"
      ],
      "text/plain": [
       "(21.0 - ⅈ, 21 - ⅈ)"
      ]
     },
     "execution_count": 11,
     "metadata": {},
     "output_type": "execute_result"
    }
   ],
   "source": [
    "sp.simplify((2+3j)*(3-5j)), sp.simplify((2+3*I)*(3-5*I))"
   ]
  },
  {
   "cell_type": "code",
   "execution_count": 12,
   "id": "1f5f7cc7-694c-43b9-a566-5a9547c1ef46",
   "metadata": {
    "tags": []
   },
   "outputs": [
    {
     "data": {
      "text/plain": [
       "((2+1j), 2 + I)"
      ]
     },
     "execution_count": 12,
     "metadata": {},
     "output_type": "execute_result"
    }
   ],
   "source": [
    "np.sqrt(3+4j), sp.sqrt(3+4*I)"
   ]
  },
  {
   "cell_type": "code",
   "execution_count": 13,
   "id": "3034e2dd-ca30-4585-b676-c15500e7beb7",
   "metadata": {},
   "outputs": [
    {
     "data": {
      "text/plain": [
       "(sqrt(I), (0.7071067811865476+0.7071067811865475j))"
      ]
     },
     "execution_count": 13,
     "metadata": {},
     "output_type": "execute_result"
    }
   ],
   "source": [
    "sp.sqrt(I), np.sqrt(1j)"
   ]
  },
  {
   "cell_type": "code",
   "execution_count": 14,
   "id": "a335b36f-359d-4621-afbb-afee7ba81124",
   "metadata": {},
   "outputs": [
    {
     "data": {
      "image/png": "[encoded data removed]",
      "text/latex": [
       "$\\displaystyle \\frac{\\sqrt{2}}{2} + \\frac{\\sqrt{2} i}{2}$"
      ],
      "text/plain": [
       "√2   √2⋅ⅈ\n",
       "── + ────\n",
       "2     2  "
      ]
     },
     "execution_count": 14,
     "metadata": {},
     "output_type": "execute_result"
    }
   ],
   "source": [
    "sp.sqrt(I).expand(complex=True)"
   ]
  },
  {
   "cell_type": "code",
   "execution_count": 20,
   "id": "bc652fa9-a07f-4ced-ac06-713204848661",
   "metadata": {},
   "outputs": [
    {
     "data": {
      "text/plain": [
       "(2+3.4641016151377544j)"
      ]
     },
     "execution_count": 20,
     "metadata": {},
     "output_type": "execute_result"
    }
   ],
   "source": [
    "np.sqrt((2+2*np.sqrt(3)*1j)**2)"
   ]
  },
  {
   "cell_type": "code",
   "execution_count": 21,
   "id": "20bf08ec-8da9-41dd-bb10-7e3105c1ec25",
   "metadata": {},
   "outputs": [
    {
     "data": {
      "image/png": "[encoded data removed]",
      "text/latex": [
       "$\\displaystyle 2 + 2 \\sqrt{3} i$"
      ],
      "text/plain": [
       "2 + 2⋅√3⋅ⅈ"
      ]
     },
     "execution_count": 21,
     "metadata": {},
     "output_type": "execute_result"
    }
   ],
   "source": [
    "sp.sqrt((2+2*sp.sqrt(3)*I)**2)"
   ]
  },
  {
   "cell_type": "code",
   "execution_count": 22,
   "id": "7a469d1f-79f7-4bf4-b5e9-f526a0d8c65d",
   "metadata": {},
   "outputs": [
    {
     "data": {
      "text/plain": [
       "(2+3.4641016151377544j)"
      ]
     },
     "execution_count": 22,
     "metadata": {},
     "output_type": "execute_result"
    }
   ],
   "source": [
    "cm.sqrt((2+2*np.sqrt(3)*1j)**2)"
   ]
  },
  {
   "cell_type": "code",
   "execution_count": 87,
   "id": "48b7229f-0385-4e52-9acc-4aac1411ce3e",
   "metadata": {},
   "outputs": [
    {
     "data": {
      "text/plain": [
       "((1.455346690225355-0.34356074972251244j),\n",
       " 5**(1/4)*cos(atan(1/2)/2) - 5**(1/4)*I*sin(atan(1/2)/2))"
      ]
     },
     "execution_count": 87,
     "metadata": {},
     "output_type": "execute_result"
    }
   ],
   "source": [
    "np.sqrt(2-1j), sp.sqrt(2-1*I).expand(complex=True)     # pierwiastki drugiego stopnia są dwa różne"
   ]
  },
  {
   "cell_type": "code",
   "execution_count": 84,
   "id": "f40be2f3-1989-4c1b-900c-86b75b803e94",
   "metadata": {},
   "outputs": [
    {
     "data": {
      "image/png": "[encoded data removed]",
      "text/latex": [
       "$\\displaystyle \\sqrt[4]{5} \\cos{\\left(\\frac{\\operatorname{atan}{\\left(\\frac{1}{2} \\right)}}{2} \\right)} - \\sqrt[4]{5} i \\sin{\\left(\\frac{\\operatorname{atan}{\\left(\\frac{1}{2} \\right)}}{2} \\right)}$"
      ],
      "text/plain": [
       "4 ___    ⎛atan(1/2)⎞   4 ___      ⎛atan(1/2)⎞\n",
       "╲╱ 5 ⋅cos⎜─────────⎟ - ╲╱ 5 ⋅ⅈ⋅sin⎜─────────⎟\n",
       "         ⎝    2    ⎠              ⎝    2    ⎠"
      ]
     },
     "execution_count": 84,
     "metadata": {},
     "output_type": "execute_result"
    }
   ],
   "source": [
    "sp.sqrt(2-1*I).expand(complex=True)"
   ]
  },
  {
   "cell_type": "code",
   "execution_count": 89,
   "id": "b65cb4bc-1346-41dc-a5c6-a12cf0456896",
   "metadata": {},
   "outputs": [
    {
     "data": {
      "image/png": "[encoded data removed]",
      "text/latex": [
       "$\\displaystyle \\sqrt[4]{5} \\cos{\\left(\\frac{\\operatorname{atan}{\\left(\\frac{1}{2} \\right)}}{2} \\right)} - \\sqrt[4]{5} i \\sin{\\left(\\frac{\\operatorname{atan}{\\left(\\frac{1}{2} \\right)}}{2} \\right)}$"
      ],
      "text/plain": [
       "4 ___    ⎛atan(1/2)⎞   4 ___      ⎛atan(1/2)⎞\n",
       "╲╱ 5 ⋅cos⎜─────────⎟ - ╲╱ 5 ⋅ⅈ⋅sin⎜─────────⎟\n",
       "         ⎝    2    ⎠              ⎝    2    ⎠"
      ]
     },
     "execution_count": 89,
     "metadata": {},
     "output_type": "execute_result"
    }
   ],
   "source": [
    "sp.expand_complex(sp.sqrt(2-1*I))"
   ]
  },
  {
   "cell_type": "code",
   "execution_count": 90,
   "id": "28f5a58c-1d25-4846-9cd1-34f34d5bc5c1",
   "metadata": {},
   "outputs": [
    {
     "data": {
      "image/png": "[encoded data removed]",
      "text/latex": [
       "$\\displaystyle 1.45534669022535 - 0.343560749722512 i$"
      ],
      "text/plain": [
       "1.45534669022535 - 0.343560749722512⋅ⅈ"
      ]
     },
     "execution_count": 90,
     "metadata": {},
     "output_type": "execute_result"
    }
   ],
   "source": [
    "sp.N(_)"
   ]
  },
  {
   "cell_type": "code",
   "execution_count": 34,
   "id": "a6026297-7210-4b87-941e-4629fdbebe10",
   "metadata": {
    "tags": []
   },
   "outputs": [
    {
     "name": "stdout",
     "output_type": "stream",
     "text": [
      "4.48 µs ± 544 ns per loop (mean ± std. dev. of 7 runs, 100000 loops each)\n"
     ]
    }
   ],
   "source": [
    "%timeit [np.sqrt((2+2*np.sqrt(3)*1j)**2)]"
   ]
  },
  {
   "cell_type": "code",
   "execution_count": 35,
   "id": "afd0e422-493f-4ec2-b712-3c9ffe696b55",
   "metadata": {
    "tags": []
   },
   "outputs": [
    {
     "name": "stdout",
     "output_type": "stream",
     "text": [
      "11.2 µs ± 525 ns per loop (mean ± std. dev. of 7 runs, 100000 loops each)\n"
     ]
    }
   ],
   "source": [
    "%timeit [sp.sqrt((2+2*sp.sqrt(3)*I)**2)]"
   ]
  },
  {
   "cell_type": "code",
   "execution_count": 36,
   "id": "89733ca5-24af-47b7-b181-8d452b004c53",
   "metadata": {},
   "outputs": [
    {
     "name": "stdout",
     "output_type": "stream",
     "text": [
      "3.15 µs ± 65.2 ns per loop (mean ± std. dev. of 7 runs, 100000 loops each)\n"
     ]
    }
   ],
   "source": [
    "%timeit [cm.sqrt((2+2*np.sqrt(3)*1j)**2)]"
   ]
  },
  {
   "cell_type": "markdown",
   "id": "68718e1c-4f78-4454-9187-c40b4b1e105f",
   "metadata": {},
   "source": [
    "#### Dodatkowo możemy zdefiniować kilka kolejnych działań zespolonych\n",
    "1. Część rzeczywista liczby zespolonej: $$Re(z)=Re(x+y\\mathrm{i})=x$$  $x\\in \\mathbb{R}$ tzn. cześć rzeczywista liczby zespolonej jest liczbą rzeczywistą.\n",
    "2. Część urojona liczby zespolonej: $$Im(z)=Im(x+y\\mathrm{i})=y$$  $y\\in \\mathbb{R}$ tzn. cześć urojona liczby zespolonej również jest liczbą rzeczywistą.\n",
    "3. Sprzężenie liczby zespolonej \n",
    "  $$\\overline{z} = \\overline{x+y\\mathrm{i}} = x-y\\mathrm{i} $$ Sprzężenie zmienia znak przy części urojonej.\n",
    "4. Moduł liczby zespolonej\n",
    "  $$|z|=|x+y\\mathrm{i}|=\\sqrt{x^2+y^2}$$  Moduł jest liczbą rzeczywistą.\n",
    "5. Argument liczby zespolonej: $$Arg(z)=Arg(x+y\\mathrm{i})=\\varphi$$ takie, że \n",
    " $$ \\cos{\\varphi}=\\frac{x}{|z|} \\qquad \\mathrm{oraz} \\qquad \\sin{\\varphi}=\\frac{y}{|z|}.$$\n",
    "Jeżeli $\\varphi \\in [0,2\\pi)$ to $\\varphi$ nazywamy argumentem głównym i oznaczamy $arg(z)$.\n",
    "Można również przyjąć, że argument główny należy do przedziału $[-\\pi,\\pi).$"
   ]
  },
  {
   "cell_type": "markdown",
   "id": "dd5372de-084d-484c-a838-6d0a9571e7ab",
   "metadata": {},
   "source": [
    "#### Część rzeczywista i urojona"
   ]
  },
  {
   "cell_type": "code",
   "execution_count": 27,
   "id": "e5714b09-246d-45b0-b092-be1c3bad04a0",
   "metadata": {},
   "outputs": [
    {
     "data": {
      "image/png": "[encoded data removed]",
      "text/latex": [
       "$\\displaystyle \\left( 2.0, \\  3.0, \\  2.0, \\  3.0\\right)$"
      ],
      "text/plain": [
       "(2.0, 3.0, 2.0, 3.0)"
      ]
     },
     "execution_count": 27,
     "metadata": {},
     "output_type": "execute_result"
    }
   ],
   "source": [
    "z=2+3j\n",
    "np.real(z),np.imag(z),sp.re(z), sp.im(z)"
   ]
  },
  {
   "cell_type": "code",
   "execution_count": 28,
   "id": "c2110d8d-57ce-4756-9296-220a25a594db",
   "metadata": {},
   "outputs": [
    {
     "data": {
      "text/plain": [
       "(2, 3, array(2 + 3*I, dtype=object), array(0, dtype=object))"
      ]
     },
     "execution_count": 28,
     "metadata": {},
     "output_type": "execute_result"
    }
   ],
   "source": [
    "w=2+3*I\n",
    "sp.re(w), sp.im(w), np.real(w), np.imag(w)"
   ]
  },
  {
   "cell_type": "markdown",
   "id": "7e8f8587-4cb8-4127-8013-8642a831fc98",
   "metadata": {},
   "source": [
    "#### Sprzężenie"
   ]
  },
  {
   "cell_type": "code",
   "execution_count": 29,
   "id": "1ae48f2b-4c10-4a3c-8475-d054eb6a72c2",
   "metadata": {},
   "outputs": [
    {
     "data": {
      "text/plain": [
       "((2-3j), 2.0 - 3.0*I)"
      ]
     },
     "execution_count": 29,
     "metadata": {},
     "output_type": "execute_result"
    }
   ],
   "source": [
    "z=2+3j\n",
    "np.conjugate(z),sp.conjugate(z)"
   ]
  },
  {
   "cell_type": "code",
   "execution_count": 30,
   "id": "af97c750-7fa3-477f-9254-994ad50073b0",
   "metadata": {},
   "outputs": [
    {
     "data": {
      "image/png": "[encoded data removed]",
      "text/latex": [
       "$\\displaystyle \\left( 2 - 3 i, \\  2 - 3 i\\right)$"
      ],
      "text/plain": [
       "(2 - 3⋅ⅈ, 2 - 3⋅ⅈ)"
      ]
     },
     "execution_count": 30,
     "metadata": {},
     "output_type": "execute_result"
    }
   ],
   "source": [
    "z=2+3*I\n",
    "np.conjugate(z),sp.conjugate(z)"
   ]
  },
  {
   "cell_type": "markdown",
   "id": "e5362de0-b176-4983-8330-aa96074f37c6",
   "metadata": {},
   "source": [
    "#### Moduł"
   ]
  },
  {
   "cell_type": "code",
   "execution_count": 31,
   "id": "8bdcae84-3846-4643-ac35-083e8e6f17c9",
   "metadata": {},
   "outputs": [
    {
     "data": {
      "image/png": "[encoded data removed]",
      "text/latex": [
       "$\\displaystyle \\left( 3.60555127546399, \\  3.60555127546399, \\  3.60555127546399\\right)$"
      ],
      "text/plain": [
       "(3.605551275463989, 3.60555127546399, 3.605551275463989)"
      ]
     },
     "execution_count": 31,
     "metadata": {},
     "output_type": "execute_result"
    }
   ],
   "source": [
    "z=2+3j\n",
    "np.abs(z),sp.Abs(z),abs(z)"
   ]
  },
  {
   "cell_type": "code",
   "execution_count": 32,
   "id": "3591b2c4-198c-446f-ad7a-d284f3170f65",
   "metadata": {},
   "outputs": [
    {
     "data": {
      "image/png": "[encoded data removed]",
      "text/latex": [
       "$\\displaystyle \\left( 5 \\sqrt{27898}, \\  5 \\sqrt{27898}, \\  5 \\sqrt{27898}\\right)$"
      ],
      "text/plain": [
       "(5⋅√27898, 5⋅√27898, 5⋅√27898)"
      ]
     },
     "execution_count": 32,
     "metadata": {},
     "output_type": "execute_result"
    }
   ],
   "source": [
    "z=765+335*I\n",
    "np.abs(z),sp.Abs(z),abs(z)"
   ]
  },
  {
   "cell_type": "code",
   "execution_count": 33,
   "id": "3f140117-ac79-4731-83f2-1006f95ba479",
   "metadata": {},
   "outputs": [
    {
     "data": {
      "image/png": "[encoded data removed]",
      "text/latex": [
       "$\\displaystyle \\left( 49797782.4947166, \\  234512 \\sqrt{45091}\\right)$"
      ],
      "text/plain": [
       "(49797782.49471661, 234512⋅√45091)"
      ]
     },
     "execution_count": 33,
     "metadata": {},
     "output_type": "execute_result"
    }
   ],
   "source": [
    "np.sqrt(2479819141391104), sp.sqrt(2479819141391104)"
   ]
  },
  {
   "cell_type": "markdown",
   "id": "b8f6c896-0fa3-4bfb-91df-788d9b4755b6",
   "metadata": {},
   "source": [
    "#### Argument"
   ]
  },
  {
   "cell_type": "code",
   "execution_count": 98,
   "id": "81a6ee3c-f095-459a-bb58-56cf8fa6a977",
   "metadata": {
    "tags": []
   },
   "outputs": [
    {
     "data": {
      "image/png": "[encoded data removed]",
      "text/latex": [
       "$\\displaystyle \\left( \\frac{\\pi}{2}, \\  \\frac{\\pi}{2}, \\  1.5707963267949\\right)$"
      ],
      "text/plain": [
       "⎛π  π                    ⎞\n",
       "⎜─, ─, 1.5707963267948966⎟\n",
       "⎝2  2                    ⎠"
      ]
     },
     "execution_count": 98,
     "metadata": {},
     "output_type": "execute_result"
    }
   ],
   "source": [
    "sp.arg(I),sp.arg(1j), np.angle(1j)"
   ]
  },
  {
   "cell_type": "code",
   "execution_count": 116,
   "id": "27d0d7de-0b09-4a57-bf3f-6d754d641368",
   "metadata": {},
   "outputs": [
    {
     "data": {
      "image/png": "[encoded data removed]",
      "text/latex": [
       "$\\displaystyle \\left( - \\frac{\\pi}{4}, \\  \\frac{3 \\pi}{4}, \\  - \\frac{3 \\pi}{4}\\right)$"
      ],
      "text/plain": [
       "⎛-π   3⋅π  -3⋅π ⎞\n",
       "⎜───, ───, ─────⎟\n",
       "⎝ 4    4     4  ⎠"
      ]
     },
     "execution_count": 116,
     "metadata": {},
     "output_type": "execute_result"
    }
   ],
   "source": [
    "sp.arg(1-I),sp.arg(-1+I),sp.arg(-1-I)"
   ]
  },
  {
   "cell_type": "code",
   "execution_count": 117,
   "id": "997c6cf5-9ec3-42df-baad-70f28a19e950",
   "metadata": {},
   "outputs": [
    {
     "data": {
      "image/png": "[encoded data removed]",
      "text/latex": [
       "$\\displaystyle \\left( 1.0471975511966, \\  \\frac{\\pi}{3}\\right)$"
      ],
      "text/plain": [
       "⎛                 π⎞\n",
       "⎜1.0471975511966, ─⎟\n",
       "⎝                 3⎠"
      ]
     },
     "execution_count": 117,
     "metadata": {},
     "output_type": "execute_result"
    }
   ],
   "source": [
    "sp.arg(3+3*np.sqrt(3)*I),sp.arg(3+3*sp.sqrt(3)*I)"
   ]
  },
  {
   "cell_type": "markdown",
   "id": "9decc5bc-06d7-406a-899c-74c1ba50264e",
   "metadata": {},
   "source": [
    "# Równania zespolone"
   ]
  },
  {
   "cell_type": "code",
   "execution_count": 37,
   "id": "5e8b83a5-eaeb-4261-a346-f8468e287ff2",
   "metadata": {},
   "outputs": [],
   "source": [
    "x, y = sp.symbols('x y', real=True)"
   ]
  },
  {
   "cell_type": "code",
   "execution_count": 38,
   "id": "cc50b0d1-736e-420e-b68f-94ca90ff7ca8",
   "metadata": {
    "tags": []
   },
   "outputs": [],
   "source": [
    "z = x + I*y"
   ]
  },
  {
   "cell_type": "code",
   "execution_count": 39,
   "id": "12cf007f-8441-4fbb-9c87-565ea8731c22",
   "metadata": {},
   "outputs": [],
   "source": [
    "Eq1 = x*(2+3j)+y*(4-5j)-6+2j"
   ]
  },
  {
   "cell_type": "code",
   "execution_count": 40,
   "id": "a86c9bc2-54b8-45f1-9a4a-1b7dbf5b31da",
   "metadata": {},
   "outputs": [],
   "source": [
    "Sol1 = sp.solve(Eq1, dict = True)"
   ]
  },
  {
   "cell_type": "code",
   "execution_count": 41,
   "id": "4969537a-1c90-4e0d-90a1-acbfdf1b6e35",
   "metadata": {},
   "outputs": [
    {
     "data": {
      "text/plain": [
       "list"
      ]
     },
     "execution_count": 41,
     "metadata": {},
     "output_type": "execute_result"
    }
   ],
   "source": [
    "type(Sol1)"
   ]
  },
  {
   "cell_type": "code",
   "execution_count": 42,
   "id": "b2586832-a05a-4f60-ba47-d7f66ec7c985",
   "metadata": {},
   "outputs": [
    {
     "data": {
      "text/plain": [
       "[True]"
      ]
     },
     "execution_count": 42,
     "metadata": {},
     "output_type": "execute_result"
    }
   ],
   "source": [
    "[Eq1.subs(sol).simplify() == 0 for sol in Sol1]"
   ]
  },
  {
   "cell_type": "code",
   "execution_count": 43,
   "id": "be218d75-300b-4ce3-b2bc-6aacc3fe7b8d",
   "metadata": {},
   "outputs": [
    {
     "data": {
      "image/png": "[encoded data removed]",
      "text/latex": [
       "$\\displaystyle \\left\\{ x : 1, \\  y : 1\\right\\}$"
      ],
      "text/plain": [
       "{x: 1, y: 1}"
      ]
     },
     "execution_count": 43,
     "metadata": {},
     "output_type": "execute_result"
    }
   ],
   "source": [
    "sp.solve(x*(2+3*I)+y*(4-5*I)-6+2*I)"
   ]
  },
  {
   "cell_type": "code",
   "execution_count": 44,
   "id": "bfed270a-0e3a-4e64-9601-fa13609120e0",
   "metadata": {},
   "outputs": [
    {
     "data": {
      "image/png": "[encoded data removed]",
      "text/latex": [
       "$\\displaystyle \\left[ \\left\\{ x : 5, \\  y : 17\\right\\}\\right]$"
      ],
      "text/plain": [
       "[{x: 5, y: 17}]"
      ]
     },
     "execution_count": 44,
     "metadata": {},
     "output_type": "execute_result"
    }
   ],
   "source": [
    "sp.solve((1+y*I)/(x-2*I)-3*I+1)"
   ]
  },
  {
   "cell_type": "code",
   "execution_count": 45,
   "id": "15a8e05f-9915-4e0c-b164-0d5f6032ec27",
   "metadata": {},
   "outputs": [],
   "source": [
    "result = sp.solve(z**2 - I, (x, y))"
   ]
  },
  {
   "cell_type": "code",
   "execution_count": 46,
   "id": "2bd03e5e-3c23-4a36-86f2-9a844fe33b7b",
   "metadata": {},
   "outputs": [
    {
     "data": {
      "image/png": "[encoded data removed]",
      "text/latex": [
       "$\\displaystyle 2$"
      ],
      "text/plain": [
       "2"
      ]
     },
     "execution_count": 46,
     "metadata": {},
     "output_type": "execute_result"
    }
   ],
   "source": [
    "len(result)"
   ]
  },
  {
   "cell_type": "code",
   "execution_count": 47,
   "id": "7dd7470a-65f0-46dd-9203-ae487655f91b",
   "metadata": {},
   "outputs": [
    {
     "data": {
      "image/png": "[encoded data removed]",
      "text/latex": [
       "$\\displaystyle \\left[ \\left( - \\frac{\\sqrt{2}}{2}, \\  - \\frac{\\sqrt{2}}{2}\\right), \\  \\left( \\frac{\\sqrt{2}}{2}, \\  \\frac{\\sqrt{2}}{2}\\right)\\right]$"
      ],
      "text/plain": [
       "⎡⎛-√2   -√2 ⎞  ⎛√2  √2⎞⎤\n",
       "⎢⎜────, ────⎟, ⎜──, ──⎟⎥\n",
       "⎣⎝ 2     2  ⎠  ⎝2   2 ⎠⎦"
      ]
     },
     "execution_count": 47,
     "metadata": {},
     "output_type": "execute_result"
    }
   ],
   "source": [
    "result"
   ]
  },
  {
   "cell_type": "code",
   "execution_count": 48,
   "id": "7a555498-aa51-4b54-9d38-a663c946027e",
   "metadata": {},
   "outputs": [
    {
     "data": {
      "image/png": "[encoded data removed]",
      "text/latex": [
       "$\\displaystyle \\left[ \\left\\{ x : - \\frac{\\sqrt{2}}{2}, \\  y : - \\frac{\\sqrt{2}}{2}\\right\\}, \\  \\left\\{ x : \\frac{\\sqrt{2}}{2}, \\  y : \\frac{\\sqrt{2}}{2}\\right\\}\\right]$"
      ],
      "text/plain": [
       "⎡⎧   -√2      -√2 ⎫  ⎧   √2     √2⎫⎤\n",
       "⎢⎨x: ────, y: ────⎬, ⎨x: ──, y: ──⎬⎥\n",
       "⎣⎩    2        2  ⎭  ⎩   2      2 ⎭⎦"
      ]
     },
     "execution_count": 48,
     "metadata": {},
     "output_type": "execute_result"
    }
   ],
   "source": [
    "sp.solve(z**2-I)"
   ]
  },
  {
   "cell_type": "code",
   "execution_count": 49,
   "id": "6e9a633b-363a-4a3e-aa9b-78016c1ef763",
   "metadata": {},
   "outputs": [
    {
     "data": {
      "image/png": "[encoded data removed]",
      "text/latex": [
       "$\\displaystyle \\left[ \\left( -3, \\  3\\right), \\  \\left( 2, \\  -4\\right)\\right]$"
      ],
      "text/plain": [
       "[(-3, 3), (2, -4)]"
      ]
     },
     "execution_count": 49,
     "metadata": {},
     "output_type": "execute_result"
    }
   ],
   "source": [
    "sp.solve(z ** 2 + (1 + I) * z + (6 + 18 * I), (x, y))"
   ]
  },
  {
   "cell_type": "code",
   "execution_count": 50,
   "id": "9c5bfc36-f2e4-4fe1-911a-45d746c61d91",
   "metadata": {},
   "outputs": [],
   "source": [
    "v = sp.symbols('v')"
   ]
  },
  {
   "cell_type": "code",
   "execution_count": 51,
   "id": "a5bf21c7-66bd-4367-932f-6037f5c5f010",
   "metadata": {},
   "outputs": [
    {
     "data": {
      "image/png": "[encoded data removed]",
      "text/latex": [
       "$\\displaystyle \\left[ -0.707106781186548 - 0.707106781186548 i, \\  0.707106781186548 + 0.707106781186548 i\\right]$"
      ],
      "text/plain": [
       "[-0.707106781186548 - 0.707106781186548⋅ⅈ, 0.707106781186548 + 0.7071067811865\n",
       "48⋅ⅈ]"
      ]
     },
     "execution_count": 51,
     "metadata": {},
     "output_type": "execute_result"
    }
   ],
   "source": [
    "sp.solve(v**2-1j)"
   ]
  },
  {
   "cell_type": "code",
   "execution_count": 52,
   "id": "7793e0b7-28ca-4c9a-afc5-919b542d3931",
   "metadata": {},
   "outputs": [],
   "source": [
    "res_1 = sp.solve(z**3-1)"
   ]
  },
  {
   "cell_type": "code",
   "execution_count": 53,
   "id": "7d6cb645-c430-4279-995f-0289ee04d43a",
   "metadata": {},
   "outputs": [],
   "source": [
    "res_2 = sp.solve(v**3-1)"
   ]
  },
  {
   "cell_type": "code",
   "execution_count": 54,
   "id": "322480b3-b150-487f-b186-1501c50f154d",
   "metadata": {},
   "outputs": [
    {
     "data": {
      "image/png": "[encoded data removed]",
      "text/latex": [
       "$\\displaystyle \\left( \\left[ \\left\\{ x : - \\frac{1}{2}, \\  y : - \\frac{\\sqrt{3}}{2}\\right\\}, \\  \\left\\{ x : - \\frac{1}{2}, \\  y : \\frac{\\sqrt{3}}{2}\\right\\}, \\  \\left\\{ x : 1, \\  y : 0\\right\\}\\right], \\  \\left[ 1, \\  - \\frac{1}{2} - \\frac{\\sqrt{3} i}{2}, \\  - \\frac{1}{2} + \\frac{\\sqrt{3} i}{2}\\right], \\  3, \\  3\\right)$"
      ],
      "text/plain": [
       "⎛⎡⎧            -√3 ⎫  ⎧            √3⎫              ⎤  ⎡     1   √3⋅ⅈ    1   √\n",
       "⎜⎢⎨x: -1/2, y: ────⎬, ⎨x: -1/2, y: ──⎬, {x: 1, y: 0}⎥, ⎢1, - ─ - ────, - ─ + ─\n",
       "⎝⎣⎩             2  ⎭  ⎩            2 ⎭              ⎦  ⎣     2    2      2    \n",
       "\n",
       "3⋅ⅈ⎤      ⎞\n",
       "───⎥, 3, 3⎟\n",
       "2  ⎦      ⎠"
      ]
     },
     "execution_count": 54,
     "metadata": {},
     "output_type": "execute_result"
    }
   ],
   "source": [
    "res_1, res_2, len(res_1), len(res_2)"
   ]
  },
  {
   "cell_type": "code",
   "execution_count": 55,
   "id": "f5d61286-39dd-475b-bb88-e58ceb2cfeec",
   "metadata": {},
   "outputs": [
    {
     "data": {
      "image/png": "[encoded data removed]",
      "text/latex": [
       "$\\displaystyle \\left[ \\left\\{ x : - \\frac{1}{2}, \\  y : - \\frac{\\sqrt{3}}{2}\\right\\}, \\  \\left\\{ x : - \\frac{1}{2}, \\  y : \\frac{\\sqrt{3}}{2}\\right\\}, \\  \\left\\{ x : 0, \\  y : 0\\right\\}, \\  \\left\\{ x : 1, \\  y : 0\\right\\}\\right]$"
      ],
      "text/plain": [
       "⎡⎧            -√3 ⎫  ⎧            √3⎫                            ⎤\n",
       "⎢⎨x: -1/2, y: ────⎬, ⎨x: -1/2, y: ──⎬, {x: 0, y: 0}, {x: 1, y: 0}⎥\n",
       "⎣⎩             2  ⎭  ⎩            2 ⎭                            ⎦"
      ]
     },
     "execution_count": 55,
     "metadata": {},
     "output_type": "execute_result"
    }
   ],
   "source": [
    "sp.solve(z**2-sp.conjugate(z))"
   ]
  },
  {
   "cell_type": "code",
   "execution_count": 56,
   "id": "3f4902ed-311b-4984-bb09-3e86ecc77f23",
   "metadata": {},
   "outputs": [],
   "source": [
    "x1, x2, y1, y2 = sp.symbols('x1 x2 y1 y2', real=True)"
   ]
  },
  {
   "cell_type": "code",
   "execution_count": 57,
   "id": "4a5e2bbf-68e6-41db-8c0e-c97856c737fe",
   "metadata": {},
   "outputs": [],
   "source": [
    "z1 = x1 + I*y1"
   ]
  },
  {
   "cell_type": "code",
   "execution_count": 58,
   "id": "2515d052-4dea-4621-9a9e-31f3611b6aa2",
   "metadata": {},
   "outputs": [],
   "source": [
    "z2 = x2 + I*y2"
   ]
  },
  {
   "cell_type": "code",
   "execution_count": 59,
   "id": "95f5e5ae-f806-48c5-9cba-90a0c6adc521",
   "metadata": {},
   "outputs": [
    {
     "data": {
      "text/plain": [
       "True"
      ]
     },
     "execution_count": 59,
     "metadata": {},
     "output_type": "execute_result"
    }
   ],
   "source": [
    "sp.Abs(z1*z2)==sp.Abs(z1)*sp.Abs(z2)"
   ]
  },
  {
   "cell_type": "code",
   "execution_count": 60,
   "id": "a7a70f18-21df-475c-be66-d17fa449c998",
   "metadata": {},
   "outputs": [
    {
     "data": {
      "text/plain": [
       "True"
      ]
     },
     "execution_count": 60,
     "metadata": {},
     "output_type": "execute_result"
    }
   ],
   "source": [
    "sp.Abs(z1/z2)==sp.Abs(z1)/sp.Abs(z2)"
   ]
  },
  {
   "cell_type": "code",
   "execution_count": 61,
   "id": "0672e211-3438-4671-968e-f0f837279297",
   "metadata": {},
   "outputs": [
    {
     "data": {
      "text/plain": [
       "False"
      ]
     },
     "execution_count": 61,
     "metadata": {},
     "output_type": "execute_result"
    }
   ],
   "source": [
    "sp.Abs(z1*z2)==sp.Abs(z1)+sp.Abs(z2)"
   ]
  },
  {
   "cell_type": "code",
   "execution_count": 62,
   "id": "009300c8-4a5d-4025-84e6-0a6e7ec05153",
   "metadata": {},
   "outputs": [
    {
     "data": {
      "text/plain": [
       "False"
      ]
     },
     "execution_count": 62,
     "metadata": {},
     "output_type": "execute_result"
    }
   ],
   "source": [
    "z*sp.conjugate(z)==(sp.Abs(z))**2 # tu jest zła odpowiedź"
   ]
  },
  {
   "cell_type": "code",
   "execution_count": 63,
   "id": "f98c7702-7d48-427d-9a5e-df11bba88400",
   "metadata": {},
   "outputs": [
    {
     "data": {
      "text/plain": [
       "True"
      ]
     },
     "execution_count": 63,
     "metadata": {},
     "output_type": "execute_result"
    }
   ],
   "source": [
    "sp.simplify(z*sp.conjugate(z)-(sp.Abs(z))**2) == 0 # a tu jest dobra"
   ]
  },
  {
   "cell_type": "code",
   "execution_count": 66,
   "id": "19b80111-912a-4aaf-94f2-b084dae43d71",
   "metadata": {},
   "outputs": [
    {
     "data": {
      "image/png": "[encoded data removed]",
      "text/latex": [
       "$\\displaystyle i e^{x} \\sin{\\left(y \\right)} + e^{x} \\cos{\\left(y \\right)}$"
      ],
      "text/plain": [
       "   x           x       \n",
       "ⅈ⋅ℯ ⋅sin(y) + ℯ ⋅cos(y)"
      ]
     },
     "execution_count": 66,
     "metadata": {},
     "output_type": "execute_result"
    }
   ],
   "source": [
    "sp.expand_complex(sp.exp(z))"
   ]
  },
  {
   "cell_type": "code",
   "execution_count": 65,
   "id": "437c842f-4739-41d2-9528-274a87289f90",
   "metadata": {},
   "outputs": [
    {
     "data": {
      "image/png": "[encoded data removed]",
      "text/latex": [
       "$\\displaystyle e^{1 + i}$"
      ],
      "text/plain": [
       " 1 + ⅈ\n",
       "ℯ     "
      ]
     },
     "execution_count": 65,
     "metadata": {},
     "output_type": "execute_result"
    }
   ],
   "source": [
    "sp.exp_polar(1+I)"
   ]
  },
  {
   "cell_type": "code",
   "execution_count": 67,
   "id": "c6b0940e-fa3d-4e98-a027-d5410305c3e2",
   "metadata": {},
   "outputs": [
    {
     "data": {
      "image/png": "[encoded data removed]",
      "text/latex": [
       "$\\displaystyle e^{x + i y}$"
      ],
      "text/plain": [
       " x + ⅈ⋅y\n",
       "ℯ       "
      ]
     },
     "execution_count": 67,
     "metadata": {},
     "output_type": "execute_result"
    }
   ],
   "source": [
    "sp.exp(z)"
   ]
  },
  {
   "cell_type": "code",
   "execution_count": 68,
   "id": "95f1c658-76cc-464a-b895-90977a3788be",
   "metadata": {},
   "outputs": [
    {
     "data": {
      "image/png": "[encoded data removed]",
      "text/latex": [
       "$\\displaystyle i^{i}$"
      ],
      "text/plain": [
       " ⅈ\n",
       "ⅈ "
      ]
     },
     "execution_count": 68,
     "metadata": {},
     "output_type": "execute_result"
    }
   ],
   "source": [
    "I**I"
   ]
  },
  {
   "cell_type": "code",
   "execution_count": 69,
   "id": "0a05a852-400b-4dcf-8fd4-86dd8e73fc38",
   "metadata": {},
   "outputs": [
    {
     "data": {
      "image/png": "[encoded data removed]",
      "text/latex": [
       "$\\displaystyle 0.207879576350762$"
      ],
      "text/plain": [
       "0.207879576350762"
      ]
     },
     "execution_count": 69,
     "metadata": {},
     "output_type": "execute_result"
    }
   ],
   "source": [
    "sp.N(I**I)"
   ]
  },
  {
   "cell_type": "code",
   "execution_count": 70,
   "id": "49129d54-2dc5-4760-9848-bcca42efd36b",
   "metadata": {},
   "outputs": [
    {
     "data": {
      "image/png": "[encoded data removed]",
      "text/latex": [
       "$\\displaystyle 0.4548324228266097550275651435950424840881901692745698315112602114261923517223860019466134351130877831 + 0.8905770416677470590749273065651780951029009097305923198497592243632863441171277273359466686462237879 i$"
      ],
      "text/plain": [
       "0.4548324228266097550275651435950424840881901692745698315112602114261923517223\n",
       "860019466134351130877831 + 0.8905770416677470590749273065651780951029009097305\n",
       "923198497592243632863441171277273359466686462237879⋅ⅈ"
      ]
     },
     "execution_count": 70,
     "metadata": {},
     "output_type": "execute_result"
    }
   ],
   "source": [
    "sp.N(3**I,100)"
   ]
  },
  {
   "cell_type": "code",
   "execution_count": 99,
   "id": "49951b8d-d56a-418c-9d93-096596fc3cb5",
   "metadata": {},
   "outputs": [
    {
     "data": {
      "image/png": "[encoded data removed]",
      "text/latex": [
       "$\\displaystyle - i$"
      ],
      "text/plain": [
       "-ⅈ"
      ]
     },
     "execution_count": 99,
     "metadata": {},
     "output_type": "execute_result"
    }
   ],
   "source": [
    "sp.E**(-I*sp.pi/2)"
   ]
  },
  {
   "cell_type": "code",
   "execution_count": 101,
   "id": "4b5d18d0-cd3d-42c8-93cc-7135df1f65c4",
   "metadata": {},
   "outputs": [
    {
     "data": {
      "image/png": "[encoded data removed]",
      "text/latex": [
       "$\\displaystyle 0.947158998072378 + 0.320764449979309 i$"
      ],
      "text/plain": [
       "0.947158998072378 + 0.320764449979309⋅ⅈ"
      ]
     },
     "execution_count": 101,
     "metadata": {},
     "output_type": "execute_result"
    }
   ],
   "source": [
    "sp.N(I**I**I)"
   ]
  },
  {
   "cell_type": "code",
   "execution_count": 73,
   "id": "a7ebd388-7c3f-446c-9cd7-590e64551e65",
   "metadata": {},
   "outputs": [
    {
     "data": {
      "image/png": "[encoded data removed]",
      "text/latex": [
       "$\\displaystyle 0.0500922361093211 + 0.602116527036004 i$"
      ],
      "text/plain": [
       "0.0500922361093211 + 0.602116527036004⋅ⅈ"
      ]
     },
     "execution_count": 73,
     "metadata": {},
     "output_type": "execute_result"
    }
   ],
   "source": [
    "sp.N(I**I**I**I)"
   ]
  },
  {
   "cell_type": "code",
   "execution_count": 74,
   "id": "d3998c74-66f5-444c-83f4-943eb72052f6",
   "metadata": {},
   "outputs": [],
   "source": [
    "pierwiastki=sp.solve(v**5-1+I)                              #nie działą dla trudnych wielomianów. Niżej pakiet numpy sobie doskonale radzi."
   ]
  },
  {
   "cell_type": "code",
   "execution_count": 75,
   "id": "83a099d8-ddd2-4b7f-90d3-1b0c61d98b90",
   "metadata": {},
   "outputs": [
    {
     "data": {
      "image/png": "[encoded data removed]",
      "text/latex": [
       "$\\displaystyle \\left[ - \\frac{2^{\\frac{3}{5}}}{2} + \\frac{2^{\\frac{3}{5}} i}{2}, \\  \\frac{2^{\\frac{3}{5}}}{8} + \\frac{2^{\\frac{3}{5}} \\sqrt{5}}{8} + \\frac{2^{\\frac{3}{5}} \\sqrt{\\frac{5}{8} - \\frac{\\sqrt{5}}{8}}}{2} - \\frac{2^{\\frac{3}{5}} \\sqrt{5} i}{8} - \\frac{2^{\\frac{3}{5}} i}{8} + \\frac{2^{\\frac{3}{5}} i \\sqrt{\\frac{5}{8} - \\frac{\\sqrt{5}}{8}}}{2}, \\  - \\frac{2^{\\frac{3}{5}} \\sqrt{5} \\sqrt{\\frac{5}{8} - \\frac{\\sqrt{5}}{8}}}{4} - \\frac{2^{\\frac{3}{5}} \\sqrt{5}}{8} - \\frac{2^{\\frac{3}{5}} \\sqrt{\\frac{5}{8} - \\frac{\\sqrt{5}}{8}}}{4} + \\frac{2^{\\frac{3}{5}}}{8} - \\frac{2^{\\frac{3}{5}} \\sqrt{5} i \\sqrt{\\frac{5}{8} - \\frac{\\sqrt{5}}{8}}}{4} - \\frac{2^{\\frac{3}{5}} i \\sqrt{\\frac{5}{8} - \\frac{\\sqrt{5}}{8}}}{4} - \\frac{2^{\\frac{3}{5}} i}{8} + \\frac{2^{\\frac{3}{5}} \\sqrt{5} i}{8}, \\  - \\frac{2^{\\frac{3}{5}} \\sqrt{5} \\sqrt{\\frac{\\sqrt{5}}{8} + \\frac{5}{8}}}{8} - \\frac{2^{\\frac{3}{5}} \\sqrt{\\frac{\\sqrt{5}}{8} + \\frac{5}{8}}}{8} - \\frac{2^{\\frac{3}{5}} \\sqrt{\\frac{5}{8} - \\frac{\\sqrt{5}}{8}}}{8} + \\frac{2^{\\frac{3}{5}}}{8} + \\frac{2^{\\frac{3}{5}} \\sqrt{5} \\sqrt{\\frac{5}{8} - \\frac{\\sqrt{5}}{8}}}{8} + \\frac{2^{\\frac{3}{5}} \\sqrt{\\frac{5}{8} - \\frac{\\sqrt{5}}{8}} \\sqrt{\\frac{\\sqrt{5}}{8} + \\frac{5}{8}}}{2} - \\frac{2^{\\frac{3}{5}} i \\sqrt{\\frac{5}{8} - \\frac{\\sqrt{5}}{8}} \\sqrt{\\frac{\\sqrt{5}}{8} + \\frac{5}{8}}}{2} - \\frac{2^{\\frac{3}{5}} \\sqrt{5} i \\sqrt{\\frac{\\sqrt{5}}{8} + \\frac{5}{8}}}{8} - \\frac{2^{\\frac{3}{5}} i}{8} - \\frac{2^{\\frac{3}{5}} i \\sqrt{\\frac{\\sqrt{5}}{8} + \\frac{5}{8}}}{8} - \\frac{2^{\\frac{3}{5}} i \\sqrt{\\frac{5}{8} - \\frac{\\sqrt{5}}{8}}}{8} + \\frac{2^{\\frac{3}{5}} \\sqrt{5} i \\sqrt{\\frac{5}{8} - \\frac{\\sqrt{5}}{8}}}{8}, \\  - \\frac{2^{\\frac{3}{5}} \\sqrt{\\frac{5}{8} - \\frac{\\sqrt{5}}{8}} \\sqrt{\\frac{\\sqrt{5}}{8} + \\frac{5}{8}}}{2} - \\frac{2^{\\frac{3}{5}} \\sqrt{\\frac{5}{8} - \\frac{\\sqrt{5}}{8}}}{8} + \\frac{2^{\\frac{3}{5}} \\sqrt{\\frac{\\sqrt{5}}{8} + \\frac{5}{8}}}{8} + \\frac{2^{\\frac{3}{5}}}{8} + \\frac{2^{\\frac{3}{5}} \\sqrt{5} \\sqrt{\\frac{5}{8} - \\frac{\\sqrt{5}}{8}}}{8} + \\frac{2^{\\frac{3}{5}} \\sqrt{5} \\sqrt{\\frac{\\sqrt{5}}{8} + \\frac{5}{8}}}{8} - \\frac{2^{\\frac{3}{5}} i}{8} - \\frac{2^{\\frac{3}{5}} i \\sqrt{\\frac{5}{8} - \\frac{\\sqrt{5}}{8}}}{8} + \\frac{2^{\\frac{3}{5}} i \\sqrt{\\frac{\\sqrt{5}}{8} + \\frac{5}{8}}}{8} + \\frac{2^{\\frac{3}{5}} \\sqrt{5} i \\sqrt{\\frac{5}{8} - \\frac{\\sqrt{5}}{8}}}{8} + \\frac{2^{\\frac{3}{5}} \\sqrt{5} i \\sqrt{\\frac{\\sqrt{5}}{8} + \\frac{5}{8}}}{8} + \\frac{2^{\\frac{3}{5}} i \\sqrt{\\frac{5}{8} - \\frac{\\sqrt{5}}{8}} \\sqrt{\\frac{\\sqrt{5}}{8} + \\frac{5}{8}}}{2}\\right]$"
      ],
      "text/plain": [
       "⎡                                           ________                          \n",
       "⎢                                   3/5    ╱ 5   √5                          3\n",
       "⎢   3/5    3/5     3/5    3/5      2   ⋅  ╱  ─ - ──     3/5         3/5     2 \n",
       "⎢  2      2   ⋅ⅈ  2      2   ⋅√5        ╲╱   8   8     2   ⋅√5⋅ⅈ   2   ⋅ⅈ     \n",
       "⎢- ──── + ──────, ──── + ─────── + ───────────────── - ───────── - ────── + ──\n",
       "⎣   2       2      8        8              2               8         8        \n",
       "\n",
       "         ________                ________                      ________       \n",
       "/5      ╱ 5   √5      3/5       ╱ 5   √5               3/5    ╱ 5   √5        \n",
       "  ⋅ⅈ⋅  ╱  ─ - ──     2   ⋅√5⋅  ╱  ─ - ──     3/5      2   ⋅  ╱  ─ - ──     3/5\n",
       "     ╲╱   8   8              ╲╱   8   8     2   ⋅√5        ╲╱   8   8     2   \n",
       "─────────────────, - ──────────────────── - ─────── - ───────────────── + ────\n",
       "       2                      4                8              4            8  \n",
       "\n",
       "                 ________              ________                               \n",
       "    3/5         ╱ 5   √5     3/5      ╱ 5   √5                           3/5  \n",
       "   2   ⋅√5⋅ⅈ⋅  ╱  ─ - ──    2   ⋅ⅈ⋅  ╱  ─ - ──     3/5      3/5         2   ⋅√\n",
       "             ╲╱   8   8            ╲╱   8   8     2   ⋅ⅈ   2   ⋅√5⋅ⅈ          \n",
       " - ────────────────────── - ─────────────────── - ────── + ─────────, - ──────\n",
       "             4                       4              8          8              \n",
       "\n",
       "      ________            ________            ________                      __\n",
       "     ╱ √5   5     3/5    ╱ √5   5     3/5    ╱ 5   √5            3/5       ╱ 5\n",
       "5⋅  ╱  ── + ─    2   ⋅  ╱  ── + ─    2   ⋅  ╱  ─ - ──     3/5   2   ⋅√5⋅  ╱  ─\n",
       "  ╲╱   8    8         ╲╱   8    8         ╲╱   8   8     2              ╲╱   8\n",
       "────────────── - ───────────────── - ───────────────── + ──── + ──────────────\n",
       "   8                     8                   8            8              8    \n",
       "\n",
       "______            ________     ________              ________     ________    \n",
       "   √5     3/5    ╱ 5   √5     ╱ √5   5     3/5      ╱ 5   √5     ╱ √5   5     \n",
       " - ──    2   ⋅  ╱  ─ - ── ⋅  ╱  ── + ─    2   ⋅ⅈ⋅  ╱  ─ - ── ⋅  ╱  ── + ─    2\n",
       "   8          ╲╱   8   8   ╲╱   8    8           ╲╱   8   8   ╲╱   8    8     \n",
       "────── + ────────────────────────────── - ──────────────────────────────── - ─\n",
       "                       2                                 2                    \n",
       "\n",
       "             ________                       ________              ________    \n",
       "3/5         ╱ √5   5              3/5      ╱ √5   5     3/5      ╱ 5   √5     \n",
       "   ⋅√5⋅ⅈ⋅  ╱  ── + ─     3/5     2   ⋅ⅈ⋅  ╱  ── + ─    2   ⋅ⅈ⋅  ╱  ─ - ──    2\n",
       "         ╲╱   8    8    2   ⋅ⅈ          ╲╱   8    8           ╲╱   8   8      \n",
       "───────────────────── - ────── - ─────────────────── - ─────────────────── + ─\n",
       "         8                8               8                     8             \n",
       "\n",
       "             ________             ________     ________            ________   \n",
       "3/5         ╱ 5   √5      3/5    ╱ 5   √5     ╱ √5   5     3/5    ╱ 5   √5    \n",
       "   ⋅√5⋅ⅈ⋅  ╱  ─ - ──     2   ⋅  ╱  ─ - ── ⋅  ╱  ── + ─    2   ⋅  ╱  ─ - ──    \n",
       "         ╲╱   8   8           ╲╱   8   8   ╲╱   8    8         ╲╱   8   8     \n",
       "─────────────────────, - ────────────────────────────── - ───────────────── + \n",
       "         8                             2                          8           \n",
       "\n",
       "         ________                      ________               ________        \n",
       " 3/5    ╱ √5   5            3/5       ╱ 5   √5     3/5       ╱ √5   5         \n",
       "2   ⋅  ╱  ── + ─     3/5   2   ⋅√5⋅  ╱  ─ - ──    2   ⋅√5⋅  ╱  ── + ─     3/5 \n",
       "     ╲╱   8    8    2              ╲╱   8   8             ╲╱   8    8    2   ⋅\n",
       "───────────────── + ──── + ──────────────────── + ──────────────────── - ─────\n",
       "        8            8              8                      8               8  \n",
       "\n",
       "               ________              ________                 ________        \n",
       "     3/5      ╱ 5   √5     3/5      ╱ √5   5     3/5         ╱ 5   √5     3/5 \n",
       "    2   ⋅ⅈ⋅  ╱  ─ - ──    2   ⋅ⅈ⋅  ╱  ── + ─    2   ⋅√5⋅ⅈ⋅  ╱  ─ - ──    2   ⋅\n",
       "ⅈ          ╲╱   8   8            ╲╱   8    8              ╲╱   8   8          \n",
       "─ - ─────────────────── + ─────────────────── + ────────────────────── + ─────\n",
       "             8                     8                      8                   \n",
       "\n",
       "         ________              ________     ________⎤\n",
       "        ╱ √5   5     3/5      ╱ 5   √5     ╱ √5   5 ⎥\n",
       "√5⋅ⅈ⋅  ╱  ── + ─    2   ⋅ⅈ⋅  ╱  ─ - ── ⋅  ╱  ── + ─ ⎥\n",
       "     ╲╱   8    8           ╲╱   8   8   ╲╱   8    8 ⎥\n",
       "───────────────── + ────────────────────────────────⎥\n",
       "     8                             2                ⎦"
      ]
     },
     "execution_count": 75,
     "metadata": {},
     "output_type": "execute_result"
    }
   ],
   "source": [
    "pierwiastki"
   ]
  },
  {
   "cell_type": "code",
   "execution_count": 76,
   "id": "769e3295-f490-46c1-8f56-fa0079813572",
   "metadata": {},
   "outputs": [
    {
     "data": {
      "image/png": "[encoded data removed]",
      "text/latex": [
       "$\\displaystyle \\left[ -0.757858283255199 + 0.757858283255199 i, \\  1.05857815270638 - 0.167662308256181 i, \\  -0.954957147571795 - 0.486574969864436 i, \\  0.167662308256181 - 1.05857815270638 i, \\  0.486574969864436 + 0.954957147571795 i\\right]$"
      ],
      "text/plain": [
       "[-0.757858283255199 + 0.757858283255199⋅ⅈ, 1.05857815270638 - 0.16766230825618\n",
       "1⋅ⅈ, -0.954957147571795 - 0.486574969864436⋅ⅈ, 0.167662308256181 - 1.058578152\n",
       "70638⋅ⅈ, 0.486574969864436 + 0.954957147571795⋅ⅈ]"
      ]
     },
     "execution_count": 76,
     "metadata": {},
     "output_type": "execute_result"
    }
   ],
   "source": [
    "[sp.N(pierwiastki[licz]) for licz in range(len(pierwiastki))]"
   ]
  },
  {
   "cell_type": "code",
   "execution_count": 77,
   "id": "689caee4-5bbf-4b27-a282-c9bfa3eef96e",
   "metadata": {
    "tags": []
   },
   "outputs": [
    {
     "name": "stdout",
     "output_type": "stream",
     "text": [
      "z_ 0 = -0.757858283255199 + 0.757858283255199*I\n",
      "z_ 1 = 1.05857815270638 - 0.167662308256181*I\n",
      "z_ 2 = -0.954957147571795 - 0.486574969864436*I\n",
      "z_ 3 = 0.167662308256181 - 1.05857815270638*I\n",
      "z_ 4 = 0.486574969864436 + 0.954957147571795*I\n"
     ]
    }
   ],
   "source": [
    "[print('z_',licz,'=',sp.N(pierwiastki[licz])) for licz in range(len(pierwiastki))];"
   ]
  },
  {
   "cell_type": "code",
   "execution_count": 78,
   "id": "f77de245-ca47-4f00-82bb-aa2ac32d1b1a",
   "metadata": {},
   "outputs": [
    {
     "data": {
      "image/png": "[encoded data removed]",
      "text/latex": [
       "$\\displaystyle \\left[ - \\frac{2^{\\frac{3}{5}}}{2} + \\frac{2^{\\frac{3}{5}} i}{2}, \\  \\frac{2^{\\frac{3}{5}}}{8} + \\frac{2^{\\frac{3}{5}} \\sqrt{5}}{8} + \\frac{2^{\\frac{3}{5}} \\sqrt{\\frac{5}{8} - \\frac{\\sqrt{5}}{8}}}{2} + i \\left(- \\frac{2^{\\frac{3}{5}} \\sqrt{5}}{8} - \\frac{2^{\\frac{3}{5}}}{8} + \\frac{2^{\\frac{3}{5}} \\sqrt{\\frac{5}{8} - \\frac{\\sqrt{5}}{8}}}{2}\\right), \\  - \\frac{2^{\\frac{3}{5}} \\sqrt{5} \\sqrt{\\frac{5}{8} - \\frac{\\sqrt{5}}{8}}}{4} - \\frac{2^{\\frac{3}{5}} \\sqrt{5}}{8} - \\frac{2^{\\frac{3}{5}} \\sqrt{\\frac{5}{8} - \\frac{\\sqrt{5}}{8}}}{4} + \\frac{2^{\\frac{3}{5}}}{8} + i \\left(- \\frac{2^{\\frac{3}{5}} \\sqrt{5} \\sqrt{\\frac{5}{8} - \\frac{\\sqrt{5}}{8}}}{4} - \\frac{2^{\\frac{3}{5}} \\sqrt{\\frac{5}{8} - \\frac{\\sqrt{5}}{8}}}{4} - \\frac{2^{\\frac{3}{5}}}{8} + \\frac{2^{\\frac{3}{5}} \\sqrt{5}}{8}\\right), \\  - \\frac{2^{\\frac{3}{5}} \\sqrt{5} \\sqrt{\\frac{\\sqrt{5}}{8} + \\frac{5}{8}}}{8} - \\frac{2^{\\frac{3}{5}} \\sqrt{\\frac{\\sqrt{5}}{8} + \\frac{5}{8}}}{8} - \\frac{2^{\\frac{3}{5}} \\sqrt{\\frac{5}{8} - \\frac{\\sqrt{5}}{8}}}{8} + \\frac{2^{\\frac{3}{5}}}{8} + \\frac{2^{\\frac{3}{5}} \\sqrt{5} \\sqrt{\\frac{5}{8} - \\frac{\\sqrt{5}}{8}}}{8} + \\frac{2^{\\frac{3}{5}} \\sqrt{\\frac{5}{8} - \\frac{\\sqrt{5}}{8}} \\sqrt{\\frac{\\sqrt{5}}{8} + \\frac{5}{8}}}{2} + i \\left(- \\frac{2^{\\frac{3}{5}} \\sqrt{\\frac{5}{8} - \\frac{\\sqrt{5}}{8}} \\sqrt{\\frac{\\sqrt{5}}{8} + \\frac{5}{8}}}{2} - \\frac{2^{\\frac{3}{5}} \\sqrt{5} \\sqrt{\\frac{\\sqrt{5}}{8} + \\frac{5}{8}}}{8} - \\frac{2^{\\frac{3}{5}}}{8} - \\frac{2^{\\frac{3}{5}} \\sqrt{\\frac{\\sqrt{5}}{8} + \\frac{5}{8}}}{8} - \\frac{2^{\\frac{3}{5}} \\sqrt{\\frac{5}{8} - \\frac{\\sqrt{5}}{8}}}{8} + \\frac{2^{\\frac{3}{5}} \\sqrt{5} \\sqrt{\\frac{5}{8} - \\frac{\\sqrt{5}}{8}}}{8}\\right), \\  - \\frac{2^{\\frac{3}{5}} \\sqrt{\\frac{5}{8} - \\frac{\\sqrt{5}}{8}} \\sqrt{\\frac{\\sqrt{5}}{8} + \\frac{5}{8}}}{2} - \\frac{2^{\\frac{3}{5}} \\sqrt{\\frac{5}{8} - \\frac{\\sqrt{5}}{8}}}{8} + \\frac{2^{\\frac{3}{5}} \\sqrt{\\frac{\\sqrt{5}}{8} + \\frac{5}{8}}}{8} + \\frac{2^{\\frac{3}{5}}}{8} + \\frac{2^{\\frac{3}{5}} \\sqrt{5} \\sqrt{\\frac{5}{8} - \\frac{\\sqrt{5}}{8}}}{8} + \\frac{2^{\\frac{3}{5}} \\sqrt{5} \\sqrt{\\frac{\\sqrt{5}}{8} + \\frac{5}{8}}}{8} + i \\left(- \\frac{2^{\\frac{3}{5}}}{8} - \\frac{2^{\\frac{3}{5}} \\sqrt{\\frac{5}{8} - \\frac{\\sqrt{5}}{8}}}{8} + \\frac{2^{\\frac{3}{5}} \\sqrt{\\frac{\\sqrt{5}}{8} + \\frac{5}{8}}}{8} + \\frac{2^{\\frac{3}{5}} \\sqrt{5} \\sqrt{\\frac{5}{8} - \\frac{\\sqrt{5}}{8}}}{8} + \\frac{2^{\\frac{3}{5}} \\sqrt{5} \\sqrt{\\frac{\\sqrt{5}}{8} + \\frac{5}{8}}}{8} + \\frac{2^{\\frac{3}{5}} \\sqrt{\\frac{5}{8} - \\frac{\\sqrt{5}}{8}} \\sqrt{\\frac{\\sqrt{5}}{8} + \\frac{5}{8}}}{2}\\right)\\right]$"
      ],
      "text/plain": [
       "⎡                                           ________     ⎛                    \n",
       "⎢                                   3/5    ╱ 5   √5      ⎜                    \n",
       "⎢   3/5    3/5     3/5    3/5      2   ⋅  ╱  ─ - ──      ⎜   3/5       3/5   2\n",
       "⎢  2      2   ⋅ⅈ  2      2   ⋅√5        ╲╱   8   8       ⎜  2   ⋅√5   2       \n",
       "⎢- ──── + ──────, ──── + ─────── + ───────────────── + ⅈ⋅⎜- ─────── - ──── + ─\n",
       "⎣   2       2      8        8              2             ⎝     8       8      \n",
       "\n",
       "        ________⎞                ________                      ________       \n",
       "3/5    ╱ 5   √5 ⎟     3/5       ╱ 5   √5               3/5    ╱ 5   √5        \n",
       "   ⋅  ╱  ─ - ── ⎟    2   ⋅√5⋅  ╱  ─ - ──     3/5      2   ⋅  ╱  ─ - ──     3/5\n",
       "    ╲╱   8   8  ⎟            ╲╱   8   8     2   ⋅√5        ╲╱   8   8     2   \n",
       "────────────────⎟, - ──────────────────── - ─────── - ───────────────── + ────\n",
       "       2        ⎠             4                8              4            8  \n",
       "\n",
       "     ⎛              ________            ________                 ⎞            \n",
       "     ⎜   3/5       ╱ 5   √5     3/5    ╱ 5   √5                  ⎟     3/5    \n",
       "     ⎜  2   ⋅√5⋅  ╱  ─ - ──    2   ⋅  ╱  ─ - ──     3/5    3/5   ⎟    2   ⋅√5⋅\n",
       "     ⎜          ╲╱   8   8          ╲╱   8   8     2      2   ⋅√5⎟            \n",
       " + ⅈ⋅⎜- ──────────────────── - ───────────────── - ──── + ───────⎟, - ────────\n",
       "     ⎝           4                     4            8        8   ⎠            \n",
       "\n",
       "    ________            ________            ________                      ____\n",
       "   ╱ √5   5     3/5    ╱ √5   5     3/5    ╱ 5   √5            3/5       ╱ 5  \n",
       "  ╱  ── + ─    2   ⋅  ╱  ── + ─    2   ⋅  ╱  ─ - ──     3/5   2   ⋅√5⋅  ╱  ─ -\n",
       "╲╱   8    8         ╲╱   8    8         ╲╱   8   8     2              ╲╱   8  \n",
       "──────────── - ───────────────── - ───────────────── + ──── + ────────────────\n",
       " 8                     8                   8            8              8      \n",
       "\n",
       "____            ________     ________     ⎛           ________     ________   \n",
       " √5     3/5    ╱ 5   √5     ╱ √5   5      ⎜   3/5    ╱ 5   √5     ╱ √5   5    \n",
       " ──    2   ⋅  ╱  ─ - ── ⋅  ╱  ── + ─      ⎜  2   ⋅  ╱  ─ - ── ⋅  ╱  ── + ─    \n",
       " 8          ╲╱   8   8   ╲╱   8    8      ⎜       ╲╱   8   8   ╲╱   8    8    \n",
       "──── + ────────────────────────────── + ⅈ⋅⎜- ────────────────────────────── - \n",
       "                     2                    ⎝                2                  \n",
       "\n",
       "            ________                   ________            ________           \n",
       " 3/5       ╱ √5   5            3/5    ╱ √5   5     3/5    ╱ 5   √5     3/5    \n",
       "2   ⋅√5⋅  ╱  ── + ─     3/5   2   ⋅  ╱  ── + ─    2   ⋅  ╱  ─ - ──    2   ⋅√5⋅\n",
       "        ╲╱   8    8    2           ╲╱   8    8         ╲╱   8   8             \n",
       "──────────────────── - ──── - ───────────────── - ───────────────── + ────────\n",
       "         8              8             8                   8                   \n",
       "\n",
       "    ________⎞             ________     ________            ________           \n",
       "   ╱ 5   √5 ⎟     3/5    ╱ 5   √5     ╱ √5   5     3/5    ╱ 5   √5     3/5    \n",
       "  ╱  ─ - ── ⎟    2   ⋅  ╱  ─ - ── ⋅  ╱  ── + ─    2   ⋅  ╱  ─ - ──    2   ⋅  ╱\n",
       "╲╱   8   8  ⎟         ╲╱   8   8   ╲╱   8    8         ╲╱   8   8          ╲╱ \n",
       "────────────⎟, - ────────────────────────────── - ───────────────── + ────────\n",
       " 8          ⎠                  2                          8                   \n",
       "\n",
       " ________                      ________               ________     ⎛          \n",
       "╱ √5   5            3/5       ╱ 5   √5     3/5       ╱ √5   5      ⎜          \n",
       "  ── + ─     3/5   2   ⋅√5⋅  ╱  ─ - ──    2   ⋅√5⋅  ╱  ── + ─      ⎜   3/5   2\n",
       "  8    8    2              ╲╱   8   8             ╲╱   8    8      ⎜  2       \n",
       "───────── + ──── + ──────────────────── + ──────────────────── + ⅈ⋅⎜- ──── - ─\n",
       "8            8              8                      8               ⎝   8      \n",
       "\n",
       "        ________            ________               ________               ____\n",
       "3/5    ╱ 5   √5     3/5    ╱ √5   5     3/5       ╱ 5   √5     3/5       ╱ √5 \n",
       "   ⋅  ╱  ─ - ──    2   ⋅  ╱  ── + ─    2   ⋅√5⋅  ╱  ─ - ──    2   ⋅√5⋅  ╱  ── \n",
       "    ╲╱   8   8          ╲╱   8    8            ╲╱   8   8             ╲╱   8  \n",
       "──────────────── + ───────────────── + ──────────────────── + ────────────────\n",
       "       8                   8                    8                      8      \n",
       "\n",
       "____            ________     ________⎞⎤\n",
       "  5     3/5    ╱ 5   √5     ╱ √5   5 ⎟⎥\n",
       "+ ─    2   ⋅  ╱  ─ - ── ⋅  ╱  ── + ─ ⎟⎥\n",
       "  8         ╲╱   8   8   ╲╱   8    8 ⎟⎥\n",
       "──── + ──────────────────────────────⎟⎥\n",
       "                     2               ⎠⎦"
      ]
     },
     "execution_count": 78,
     "metadata": {},
     "output_type": "execute_result"
    }
   ],
   "source": [
    "[sp.collect(pierwiastki[licz],I) for licz in range(len(pierwiastki))]"
   ]
  },
  {
   "cell_type": "markdown",
   "id": "82a867bc-1933-459b-bdec-5c0be3da28e3",
   "metadata": {},
   "source": [
    "## Numeryczne rozwiazaywanie równań wielomianowych z użyciem numpy"
   ]
  },
  {
   "cell_type": "code",
   "execution_count": 79,
   "id": "8b17d363-0d0a-4073-884d-7df005f4be50",
   "metadata": {
    "tags": []
   },
   "outputs": [],
   "source": [
    "wsp = [2,0,0,0,0,0,2+3j,0,3, 2, 1j]                        "
   ]
  },
  {
   "cell_type": "code",
   "execution_count": 80,
   "id": "6e54dab5-e9eb-4609-b10b-dfb6609ee7e9",
   "metadata": {},
   "outputs": [
    {
     "name": "stdout",
     "output_type": "stream",
     "text": [
      "   10            4     2\n",
      "2 x  + (2 + 3j) x + 3 x + 2 x + 1j\n"
     ]
    }
   ],
   "source": [
    "print(np.poly1d(wsp))"
   ]
  },
  {
   "cell_type": "code",
   "execution_count": 81,
   "id": "34384593-9831-4c8c-b914-6b946a9545a1",
   "metadata": {
    "tags": []
   },
   "outputs": [
    {
     "data": {
      "text/plain": [
       "array([-0.26132655+1.14908652j,  0.50762914+0.87875608j,\n",
       "        0.98818258+0.53570782j,  1.13814098-0.42842889j,\n",
       "       -1.05707068+0.40725178j, -0.92820066-0.63103508j,\n",
       "       -0.58899933+0.30622049j,  0.31391816-1.06190296j,\n",
       "       -0.27988648-0.81480286j,  0.16761283-0.3408529j ])"
      ]
     },
     "execution_count": 81,
     "metadata": {},
     "output_type": "execute_result"
    }
   ],
   "source": [
    "np.roots(wsp)"
   ]
  },
  {
   "cell_type": "code",
   "execution_count": null,
   "id": "d6aa238d-c90b-4e8c-b992-aeb071f3e15e",
   "metadata": {},
   "outputs": [],
   "source": []
  }
 ],
 "metadata": {
  "kernelspec": {
   "display_name": "Python 3 (ipykernel)",
   "language": "python",
   "name": "python3"
  },
  "language_info": {
   "codemirror_mode": {
    "name": "ipython",
    "version": 3
   },
   "file_extension": ".py",
   "mimetype": "text/x-python",
   "name": "python",
   "nbconvert_exporter": "python",
   "pygments_lexer": "ipython3",
   "version": "3.9.13"
  }
 },
 "nbformat": 4,
 "nbformat_minor": 5
}
