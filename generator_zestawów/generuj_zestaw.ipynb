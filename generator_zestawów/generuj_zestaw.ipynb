{
 "cells": [
  {
   "cell_type": "code",
   "execution_count": 1,
   "id": "28f8f8c3-5ed8-47eb-b654-6d7228f0e808",
   "metadata": {},
   "outputs": [],
   "source": [
    "import random\n",
    "import sympy\n",
    "sympy.init_printing()\n",
    "import numpy as np\n",
    "from sympy import I, latex\n",
    "from sympy.abc import z\n",
    "from pathlib import Path"
   ]
  },
  {
   "cell_type": "code",
   "execution_count": 10,
   "id": "250506bd-3a93-41da-94cf-f5439cb4f1f6",
   "metadata": {},
   "outputs": [],
   "source": [
    "def rownanie_kwadratowe():\n",
    "    random.seed()\n",
    "    wspolczynniki = [-6,-5,-4,-3,-2,-1,2,3,4,5,6,7,8,9]\n",
    "    while True:\n",
    "        z1=[random.choice(wspolczynniki),random.choice(wspolczynniki)]\n",
    "        z2=[random.choice(wspolczynniki),random.choice(wspolczynniki)]\n",
    "        a=[random.choice([1,2,3,4,5,6,7,8,9]),random.choice(wspolczynniki)]\n",
    "        delta=((a[0]+a[1]*1j)*(-(z1[0]+z1[1]*1j) - (z2[0]+z2[1]*1j)))**2-4*(a[0]+a[1]*1j)**2*(z1[0]+z1[1]*1j)*(z2[0]+z2[1]*1j)\n",
    "        if (abs(delta)<12 and abs((a[0]+a[1]*1j)*(-(z1[0]+z1[1]*1j)-(z2[0]+z2[1]*1j)))<12 and np.real(delta)!=0 and np.imag(delta)!=0):\n",
    "            break\n",
    "    przestawiony_trojmian=sympy.collect(sympy.expand((a[0]+a[1]*I)*(z-(z1[0]+z1[1]*I))*(z-(z2[0]+z2[1]*I))),z)\n",
    "    poprawiony_trojmian = str('\\\\left('+str(przestawiony_trojmian.coeff(z, 2))+'\\\\right)z^2 + \\\\left('+str(przestawiony_trojmian.coeff(z,1))+'\\\\right) z + \\\\left('+str(przestawiony_trojmian.coeff(z,0))+'\\\\right)')\n",
    "    poprawiony_trojmian = poprawiony_trojmian.replace('I', 'i')\n",
    "    poprawiony_trojmian = poprawiony_trojmian.replace('*', ' ')\n",
    "    return poprawiony_trojmian"
   ]
  },
  {
   "cell_type": "code",
   "execution_count": 25,
   "id": "5392705f-e2b5-4d13-975a-a4860daf5160",
   "metadata": {},
   "outputs": [],
   "source": [
    "def rownanie_liniowe():\n",
    "    random.seed()\n",
    "    wspolczynniki = [-6,-5,-4,-3,-2,-1,2,3,4,5,6,7,8,9]\n",
    "    while True: \n",
    "        a=[random.choice([2,3,4,5,6,7,8,9]),random.choice(wspolczynniki)]\n",
    "        b=[random.choice([2,3,4,5,6,7,8,9]),random.choice(wspolczynniki)]\n",
    "        c=[random.choice(wspolczynniki),random.choice(wspolczynniki)]\n",
    "        rozwiazanie = sympy.solve((a[0]+a[1]*I)*z-(b[0]+b[1]*I)*z-(c[0]+c[1]*I))\n",
    "        if len(rozwiazanie)==0:\n",
    "            rozwiazanie = [0.5+0.5*I]\n",
    "        if (a[1]!=b[1] and sympy.re(rozwiazanie[0]) != 0 and sympy.im(rozwiazanie[0]) != 0 and int(sympy.re(rozwiazanie[0])) == sympy.re(rozwiazanie[0]) and int(sympy.im(rozwiazanie[0])) == sympy.im(rozwiazanie[0])):\n",
    "            break\n",
    "    #    print(rozwiazanie)\n",
    "\n",
    "    rownanie=str('\\\\left('+str(sympy.expand((a[0]+a[1]*I)))+'\\\\right)z = '+str(sympy.expand((c[0]+c[1]*I)))+'+\\\\left('+str(sympy.expand((b[0]+b[1]*I)))+'\\\\right)z')\n",
    "    rownanie = rownanie.replace('I', 'i')\n",
    "    rownanie = rownanie.replace('*', '')\n",
    "    return rownanie"
   ]
  },
  {
   "cell_type": "code",
   "execution_count": 29,
   "id": "93a7d401-f1f1-4c0a-bdad-cfce251003cd",
   "metadata": {},
   "outputs": [],
   "source": [
    "def rownanie_macierzowe():\n",
    "    random.seed()\n",
    "    rng = np.random.default_rng()\n",
    "    #wspolczynniki = [-6,-5,-4,-3,-2,-1,2,3,4,5,6,7,8,9]\n",
    "    while True:\n",
    "        A = rng.integers(-1,3, size=(2, 5))\n",
    "        B = rng.integers(-2,2, size=(2,5))\n",
    "        C = rng.integers(-1,3, size=(5, 2))\n",
    "        D = rng.integers(-2,2, size=(5,2))\n",
    "        strona = random.choice(['l','p'])\n",
    "        stala = random.choice([2,3,4])\n",
    "        Ident = stala*np.identity(2)\n",
    "        wyznacznik1 = random.choice([-3,-2,2,3,4,5,6])\n",
    "        wyznacznik2 = random.choice([-3,-2,2,3,4,5])\n",
    "        if abs(np.linalg.det(A@B.transpose())-wyznacznik1)<0.1 and abs(np.linalg.det(C.transpose()@D-Ident)-wyznacznik2)<0.1:\n",
    "            break\n",
    "    if strona=='p':\n",
    "        rownanie = str(str(latex(sympy.Array(A)))+'\\\\cdot'+\n",
    "                                  str(latex(sympy.Array(B)))+'^T + '+str(stala)+' X='+\n",
    "                                  str(latex(sympy.Array(C)))+'^T \\\\cdot'+str(latex(sympy.Array(D)))+'\\\\cdot X')\n",
    "    else:\n",
    "        rownanie = str(str(latex(sympy.Array(A)))+'\\\\cdot'+str(latex(sympy.Array(B)))+'^T + '+str(stala)+' X=X \\\\cdot'+str(latex(sympy.Array(C)))+'^T \\\\cdot'+str(latex(sympy.Array(D))))\n",
    "        return rownanie"
   ]
  },
  {
   "cell_type": "code",
   "execution_count": 31,
   "id": "a110fb5d-00b8-4a25-8a73-413f43d6622f",
   "metadata": {},
   "outputs": [],
   "source": [
    "plik = Path('cwiczenia.tex')\n",
    "plik.touch(exist_ok=True)\n",
    "plik = open(plik,'w+')\n",
    "plik.write(r'\\documentclass[a4paper,12pt]{article}'+'\\n')\n",
    "plik.write(r'\\linespread{1.3} %odstepy miedzy liniami'+'\\n')\n",
    "plik.write(r'\\usepackage[a4paper, lmargin=2cm, rmargin=1cm]{geometry}'+'\\n')\n",
    "plik.write(r'\\usepackage[OT4]{polski}'+'\\n')\n",
    "plik.write(r'\\usepackage[cp1250]{inputenc}'+'\\n')\n",
    "plik.write(r'\\usepackage{enumitem}'+'\\n')\n",
    "plik.write(r'\\usepackage{amsmath} '+'\\n')\n",
    "plik.write(r'\\begin{document}'+'\\n')\n",
    "plik.write(r'\\begin{center}{\\Large \\textbf{ Kierunek \\\\ Kolokwium nr 1 \\\\ Data}} \\end{center}'+'\\n')\n",
    "plik.write(r'\\begin{center} \\Large{01 luty 2022} \\end{center}'+'\\n')\n",
    "plik.write(r'\\large{' + '\\n' + r'\\begin{enumerate}[label= \\textbf{Zad. \\arabic* \\\\ }]'+'\\n')\n",
    "\n",
    "plik.write(r'    \\item Rozwiązać równanie w zbiorze liczb zespolonych. Sprawdzić jeden z pierwiastków.'+'\\n'+\n",
    "           '    $$'+rownanie_kwadratowe()+\n",
    "           '=0.'+'$$\\n')\n",
    "plik.write(r'    \\item Rozwiązać równanie w zbiorze liczb zespolonych. Sprawdzić rozwiązanie.'+'\\n'+\n",
    "           '    $$'+rownanie_liniowe()+'$$\\n')\n",
    "plik.write(r'    \\item Rozwiązać równanie macierzowe. Sprawdzić rozwiązanie. \\\\\\ '+'\\n'+\n",
    "           '    $$'+rownanie_macierzowe()+'$$\\n')\n",
    "plik.write(r'\\end{enumerate}'+'\\n')\n",
    "plik.write(r'}' + '\\n' + '\\end{document}'+'\\n')\n",
    "plik.close()"
   ]
  },
  {
   "cell_type": "code",
   "execution_count": 20,
   "id": "b63c66dd-c1e7-498e-97cc-9717afe27514",
   "metadata": {},
   "outputs": [
    {
     "data": {
      "text/plain": [
       "'\\\\left(2 - i\\\\right)z^2 + \\\\left(-5 + 10 i\\\\right) z + \\\\left(-2 - 14 i\\\\right)'"
      ]
     },
     "execution_count": 20,
     "metadata": {},
     "output_type": "execute_result"
    }
   ],
   "source": [
    "rownanie_kwadratowe()"
   ]
  },
  {
   "cell_type": "code",
   "execution_count": null,
   "id": "73351e51-089f-4a91-bf09-241fd24e95ff",
   "metadata": {},
   "outputs": [],
   "source": []
  },
  {
   "cell_type": "code",
   "execution_count": null,
   "id": "a76fc632-7aa3-4e1d-8629-5ea857e3433d",
   "metadata": {},
   "outputs": [],
   "source": []
  }
 ],
 "metadata": {
  "kernelspec": {
   "display_name": "Python 3 (ipykernel)",
   "language": "python",
   "name": "python3"
  },
  "language_info": {
   "codemirror_mode": {
    "name": "ipython",
    "version": 3
   },
   "file_extension": ".py",
   "mimetype": "text/x-python",
   "name": "python",
   "nbconvert_exporter": "python",
   "pygments_lexer": "ipython3",
   "version": "3.9.13"
  }
 },
 "nbformat": 4,
 "nbformat_minor": 5
}
