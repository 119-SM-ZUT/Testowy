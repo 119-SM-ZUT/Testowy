{
 "cells": [
  {
   "cell_type": "code",
   "execution_count": 1,
   "id": "2387c734",
   "metadata": {},
   "outputs": [],
   "source": [
    "import matplotlib.pyplot as plt\n",
    "import numpy as np\n",
    "import random\n",
    "plt.rcParams['text.usetex'] = True\n"
   ]
  },
  {
   "cell_type": "code",
   "execution_count": 2,
   "id": "624e2f3e",
   "metadata": {
    "scrolled": true
   },
   "outputs": [
    {
     "data": {
      "image/png": "[encoded data removed]",
      "text/plain": [
       "<Figure size 400x300 with 1 Axes>"
      ]
     },
     "metadata": {},
     "output_type": "display_data"
    }
   ],
   "source": [
    "fig = plt.figure(figsize=(4, 3))\n",
    "ax = fig.add_subplot(1, 1, 1)\n",
    "\n",
    "# plt.axis([-4.2,4.2,-4.2,4.2])  # zakres wykresu\n",
    "# Set the range of x-axis\n",
    "# plt.xlim(-5, 5)\n",
    "# Set the range of y-axis\n",
    "#plt.ylim(-5, 5)\n",
    "\n",
    "# Some sample data.\n",
    "# x = np.linspace(-4, 4, 100)\n",
    "# ax.plot(x, x**2-4)\n",
    "\n",
    "liczby = np.random.randint(-10,10, size=[7,2])\n",
    "for licznik in range(len(liczby)): plt.scatter(liczby[licznik][0], liczby[licznik][1], color=\"red\") # plotting single point\n",
    "\n",
    "# plt.plot([2,2],[0,3], linestyle = '--', linewidth=.5, color='r')\n",
    "# plt.plot([0,2],[3,3], linestyle = '--', linewidth=.5, color='r')\n",
    "\n",
    "xmin, xmax = ax.get_xlim()\n",
    "ymin, ymax = ax.get_ylim()\n",
    "# Major ticks every 20, minor ticks every 5\n",
    "xmajor_ticks = np.arange(round(xmin), round(xmax), 1)\n",
    "xminor_ticks = np.arange(round(xmin), round(xmax), .25)\n",
    "ymajor_ticks = np.arange(round(ymin), round(ymax), 1)\n",
    "yminor_ticks = np.arange(round(ymin), round(ymax), .25)\n",
    "\n",
    "ax.set_xticks(xmajor_ticks)\n",
    "ax.set_xticks(xminor_ticks, minor=True)\n",
    "ax.set_yticks(ymajor_ticks)\n",
    "ax.set_yticks(yminor_ticks, minor=True)\n",
    "\n",
    "# And a corresponding grid\n",
    "ax.grid(which='both')\n",
    "\n",
    "# If you want different settings for the grids:\n",
    "ax.grid(which='minor', alpha=.1)\n",
    "ax.grid(which='major', alpha=.5)\n",
    "\n",
    "plt.title(r'Płaszczyzna zespolona', loc='center', fontsize=16)\n",
    "plt.xlabel(r'$\\mathrm{Re(z)}$',loc='right',fontsize=14)\n",
    "plt.ylabel(r'$\\mathrm{Im(z)}$',loc='top',fontsize=14)\n",
    "\n",
    "# plt.xticks(np.arange(-4, 5, step=0.5)) # podziałka na y\n",
    "# plt.yticks(np.arange(-4, 5, step=0.5)) # podziałka na y\n",
    "# plt.grid(color = 'grey', linestyle = '--', linewidth = 0.2) # siatka\n",
    "\n",
    "ax.arrow(0, round(ymin), 0, round(ymax-ymin), head_width=1./75.*(xmax-xmin), head_length=1./30.*(ymax-ymin), length_includes_head= True, clip_on=False)\n",
    "ax.arrow(round(xmin), 0, round(xmax-xmin), 0, head_width=1./30.*(xmax-xmin), head_length=1./75.*(ymax-ymin), length_includes_head= True, clip_on=False)\n",
    "# plt.axline((0, 0), (1, 1), linewidth=1, color='r') # prosta przez punkty\n",
    "\n",
    "\n",
    "\n",
    "\n",
    "# plt.plot([0,1], [0,-1]) # odcinek\n",
    "\n",
    "# plt.plot(1, 1, marker=\"o\", markersize=10, markeredgecolor=\"red\", markerfacecolor=\"green\")\n",
    "#plt.scatter([2], [3], color=\"red\") # plotting single point\n",
    "\n",
    "#plt.plot([2,2],[0,3], linestyle = '--', linewidth=.5, color='r')\n",
    "#plt.plot([0,2],[3,3], linestyle = '--', linewidth=.5, color='r')\n",
    "#plt.gca().annotate(r'(2, 2)', xy=(2 + 0.1, 3 + 0.1), xycoords='data', fontsize=10)\n",
    "#ax.spines[[\"left\", \"bottom\"]].set_position((\"data\", 0))\n",
    "\n",
    "plt.show()\n",
    "\n"
   ]
  },
  {
   "cell_type": "code",
   "execution_count": 3,
   "id": "7699db60",
   "metadata": {
    "scrolled": true
   },
   "outputs": [
    {
     "data": {
      "text/plain": [
       "array([[-10,   2],\n",
       "       [ -3,  -8],\n",
       "       [-10,  -4],\n",
       "       [ -3,   9],\n",
       "       [-10,   0],\n",
       "       [ -9,  -1],\n",
       "       [  3,   5]])"
      ]
     },
     "execution_count": 3,
     "metadata": {},
     "output_type": "execute_result"
    }
   ],
   "source": [
    "liczby"
   ]
  },
  {
   "cell_type": "code",
   "execution_count": 4,
   "id": "421a18d8",
   "metadata": {},
   "outputs": [
    {
     "data": {
      "text/plain": [
       "((-11.7, 3.7), -10)"
      ]
     },
     "execution_count": 4,
     "metadata": {},
     "output_type": "execute_result"
    }
   ],
   "source": [
    "ax.get_xlim(), round(ax.get_ylim()[0])"
   ]
  }
 ],
 "metadata": {
  "kernelspec": {
   "display_name": "Python 3 (ipykernel)",
   "language": "python",
   "name": "python3"
  },
  "language_info": {
   "codemirror_mode": {
    "name": "ipython",
    "version": 3
   },
   "file_extension": ".py",
   "mimetype": "text/x-python",
   "name": "python",
   "nbconvert_exporter": "python",
   "pygments_lexer": "ipython3",
   "version": "3.9.13"
  }
 },
 "nbformat": 4,
 "nbformat_minor": 5
}
