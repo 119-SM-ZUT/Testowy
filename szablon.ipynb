{
 "cells": [
  {
   "cell_type": "code",
   "execution_count": 1,
   "id": "2387c734",
   "metadata": {},
   "outputs": [],
   "source": [
    "import matplotlib.pyplot as plt\n",
    "import numpy as np\n",
    "import random\n",
    "plt.rcParams['text.usetex'] = True\n",
    "from matplotlib.ticker import MultipleLocator, FormatStrFormatter\n",
    "\n"
   ]
  },
  {
   "cell_type": "code",
   "execution_count": 37,
   "id": "624e2f3e",
   "metadata": {
    "scrolled": true
   },
   "outputs": [
    {
     "data": {
      "image/png": "[encoded data removed]",
      "text/plain": [
       "<Figure size 300x300 with 1 Axes>"
      ]
     },
     "metadata": {},
     "output_type": "display_data"
    }
   ],
   "source": [
    "fig = plt.figure(figsize=(3, 3))\n",
    "ax = fig.add_subplot(1, 1, 1).set_aspect('equal')\n",
    "# plt.margins(.5)\n",
    "# plt.axis([-4.2,4.2,-4.2,4.2])  # zakres wykresu\n",
    "# Set the range of x-axis\n",
    "plt.xlim(-15, 15)\n",
    "# Set the range of y-axis\n",
    "plt.ylim(-15, 15)\n",
    "\n",
    "# Some sample data.\n",
    "# x = np.linspace(-4, 4, 100)\n",
    "# ax.plot(x, x**2-4)\n",
    "\n",
    "liczby = np.random.randint(-10,10, size=[3,2])\n",
    "for licznik in range(len(liczby)):\n",
    "    # plt.plot([2,1], [3,2], linestyle = '--', linewidth=1, color='r')\n",
    "    plt.plot([liczby[licznik][0],liczby[licznik][0]],[0,liczby[licznik][1]], linestyle = '--', linewidth=.5, color='r')\n",
    "    plt.plot([0,liczby[licznik][0]],[liczby[licznik][1],liczby[licznik][1]], linestyle = '--', linewidth=.5, color='r')\n",
    "    plt.plot([0,liczby[licznik][0]],[0,liczby[licznik][1]], linestyle = '--', linewidth=.5, color='r')\n",
    "    plt.scatter(liczby[licznik][0], liczby[licznik][1], s=10, color=\"blue\") # plotting single point\n",
    "\n",
    "# plt.plot([2,2],[0,3], linestyle = '--', linewidth=.5, color='r')\n",
    "# plt.plot([0,2],[3,3], linestyle = '--', linewidth=.5, color='r')\n",
    "\n",
    "# xmin, xmax = ax.get_xlim()\n",
    "# ymin, ymax = ax.get_ylim()\n",
    "# # Major ticks every 20, minor ticks every 5\n",
    "# xmajor_ticks = np.arange(round(xmin), round(xmax), 1)\n",
    "# xminor_ticks = np.arange(round(xmin), round(xmax), .25)\n",
    "# ymajor_ticks = np.arange(round(ymin), round(ymax), 1)\n",
    "# yminor_ticks = np.arange(round(ymin), round(ymax), .25)\n",
    "\n",
    "# ax.set_xticks(xmajor_ticks)\n",
    "# ax.set_xticks(xminor_ticks, minor=True)\n",
    "# ax.set_yticks(ymajor_ticks)\n",
    "# yminor_ticks = np.arange(round(ymin), round(ymax), .25)ax.set_yticks(yminor_ticks, minor=True)\n",
    "\n",
    "# # And a corresponding grid\n",
    "# ax.grid(which='both')\n",
    "\n",
    "# # If you want different settings for the grids:\n",
    "# ax.grid(which='minor', alpha=.1)\n",
    "# ax.grid(which='major', alpha=.5)\n",
    "\n",
    "plt.title(r'Płaszczyzna zespolona', loc='center', fontsize=16)\n",
    "plt.xlabel(r'$\\mathrm{Re(z)}$',loc='center',fontsize=14)\n",
    "plt.ylabel(r'$\\mathrm{Im(z)}$',loc='center',fontsize=14)\n",
    "\n",
    "# plt.xticks(np.arange(-4, 5, step=0.5)) # podziałka na y\n",
    "# plt.yticks(np.arange(-4, 5, step=0.5)) # podziałka na y\n",
    "# plt.grid(color = 'grey', linestyle = '--', linewidth = 0.2) # siatka\n",
    "\n",
    "# ax.arrow(0, round(ymin), 0, round(ymax-ymin), head_width=1./75.*(xmax-xmin), head_length=1./30.*(ymax-ymin), length_includes_head= True, clip_on=False)\n",
    "# ax.arrow(round(xmin), 0, round(xmax-xmin), 0, head_width=1./30.*(xmax-xmin), head_length=1./75.*(ymax-ymin), length_includes_head= True, clip_on=False)\n",
    "# plt.axline((0, 0), (1, 1), linewidth=1, color='r') # prosta przez punkt\n",
    "\n",
    "# plt.plot([0,1], [0,-1]) # odcinek\n",
    "\n",
    "# plt.plot(1, 1, marker=\"o\", markersize=10, markeredgecolor=\"red\", markerfacecolor=\"green\")\n",
    "#plt.scatter([2], [3], color=\"red\") # plotting single point\n",
    "plt.axvline(x=0, c=\"red\", linewidth=.7)\n",
    "plt.axhline(y=0, c=\"red\", linewidth=.7)\n",
    "\n",
    "#plt.plot([0,2],[3,3], linestyle = '--', linewidth=.5, color='r')\n",
    "#plt.gca().annotate(r'(2, 2)', xy=(2 + 0.1, 3 + 0.1), xycoords='data', fontsize=10)\n",
    "#ax.spines[[\"left\", \"bottom\"]].set_position((\"data\", 0))\n",
    "\n",
    "\n",
    "plt.locator_params(nbins=10)\n",
    "\n",
    "plt.grid(which='major', color='green', linestyle='-',linewidth=.1)\n",
    "# Show the minor grid as well. Style it in very light gray as a thin,\n",
    "# dotted line.\n",
    "plt.grid(which='minor', color='green', linestyle=':', linewidth=.1)\n",
    "# Make the minor ticks and gridlines show.\n",
    "plt.minorticks_on()\n",
    "plt.show()\n",
    "\n"
   ]
  },
  {
   "cell_type": "code",
   "execution_count": null,
   "id": "a17bf6ea-f0c0-476b-af63-53f7e3891678",
   "metadata": {},
   "outputs": [],
   "source": []
  }
 ],
 "metadata": {
  "kernelspec": {
   "display_name": "Python 3 (ipykernel)",
   "language": "python",
   "name": "python3"
  },
  "language_info": {
   "codemirror_mode": {
    "name": "ipython",
    "version": 3
   },
   "file_extension": ".py",
   "mimetype": "text/x-python",
   "name": "python",
   "nbconvert_exporter": "python",
   "pygments_lexer": "ipython3",
   "version": "3.9.13"
  }
 },
 "nbformat": 4,
 "nbformat_minor": 5
}
