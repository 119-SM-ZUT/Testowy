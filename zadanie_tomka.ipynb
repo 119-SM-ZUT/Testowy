{
 "cells": [
  {
   "cell_type": "code",
   "execution_count": 1,
   "id": "a4c17c3b-4d65-4d72-99d2-dc9a7f625ca5",
   "metadata": {},
   "outputs": [],
   "source": [
    "from sympy import I,poly,symbols,init_printing\n",
    "init_printing() \n",
    "import numpy as np\n",
    "z = symbols('z', complex=True)"
   ]
  },
  {
   "cell_type": "code",
   "execution_count": 2,
   "id": "eb2f66f1-e91c-41c5-8efd-5848ce394d90",
   "metadata": {},
   "outputs": [],
   "source": [
    "wielomian = poly(6*z**500+7*z**499-z**497+3*1j*z**3-(3+4j)*z**2+(4+1j)*z-1,z)"
   ]
  },
  {
   "cell_type": "code",
   "execution_count": 3,
   "id": "9032d6f9-54c8-4c96-9002-63143e5d68ba",
   "metadata": {},
   "outputs": [],
   "source": [
    "wspolczynniki=wielomian.all_coeffs()"
   ]
  },
  {
   "cell_type": "code",
   "execution_count": 4,
   "id": "4afe9618-d090-461c-b2c2-6e95aad834ba",
   "metadata": {},
   "outputs": [],
   "source": [
    "for i in range(len(wspolczynniki)): wspolczynniki[i]=complex(wspolczynniki[i])"
   ]
  },
  {
   "cell_type": "code",
   "execution_count": 5,
   "id": "43c8f10a-6f54-475a-8aa4-3fd2b047c9d6",
   "metadata": {},
   "outputs": [],
   "source": [
    "pierwiastki = np.roots(wspolczynniki)"
   ]
  },
  {
   "cell_type": "code",
   "execution_count": 7,
   "id": "f65f515d-7d23-438e-a381-d1c054cac34a",
   "metadata": {
    "tags": []
   },
   "outputs": [
    {
     "name": "stdout",
     "output_type": "stream",
     "text": [
      "(0.3333333333333335-1.9591951239284616e-16j)\n"
     ]
    }
   ],
   "source": [
    "for i in range(len(pierwiastki)):\n",
    "    if abs(np.imag(pierwiastki[i]))<0.00000000001:\n",
    "        print(pierwiastki[i])"
   ]
  },
  {
   "cell_type": "code",
   "execution_count": null,
   "id": "a21cca77-e557-4c0b-9f65-790058ea840a",
   "metadata": {},
   "outputs": [],
   "source": []
  }
 ],
 "metadata": {
  "kernelspec": {
   "display_name": "Python 3 (ipykernel)",
   "language": "python",
   "name": "python3"
  },
  "language_info": {
   "codemirror_mode": {
    "name": "ipython",
    "version": 3
   },
   "file_extension": ".py",
   "mimetype": "text/x-python",
   "name": "python",
   "nbconvert_exporter": "python",
   "pygments_lexer": "ipython3",
   "version": "3.9.12"
  }
 },
 "nbformat": 4,
 "nbformat_minor": 5
}
