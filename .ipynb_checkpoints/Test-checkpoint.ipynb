{
 "cells": [
  {
   "cell_type": "markdown",
   "id": "574ef3e0-1a69-4b4f-a6a9-a828b5448f74",
   "metadata": {},
   "source": [
    "# Biblioteka Numpy"
   ]
  },
  {
   "cell_type": "markdown",
   "id": "298cb84f-6025-475e-b697-90aab629b5aa",
   "metadata": {},
   "source": [
    "Czy to się zmieni na GitHubie? "
   ]
  },
  {
   "cell_type": "markdown",
   "id": "7cc7f313-3b98-4511-ac34-96a94f9c0abf",
   "metadata": {},
   "source": [
    "## Liczby zespolone"
   ]
  },
  {
   "cell_type": "markdown",
   "id": "0a9e01c1-ff6b-4736-8be1-e6c25df637d0",
   "metadata": {},
   "source": [
    "Importowanie biblioteki numerycznej: numpy"
   ]
  },
  {
   "cell_type": "code",
   "execution_count": 19,
   "id": "eb17b988-5564-4e4f-9fc1-851590956ff8",
   "metadata": {},
   "outputs": [],
   "source": [
    "a = (3+4j)**2+1"
   ]
  },
  {
   "cell_type": "code",
   "execution_count": 20,
   "id": "c23eda2e-64bc-4fa2-976a-135a96b70370",
   "metadata": {},
   "outputs": [],
   "source": [
    "import numpy as np"
   ]
  },
  {
   "cell_type": "code",
   "execution_count": 21,
   "id": "1f5f7cc7-694c-43b9-a566-5a9547c1ef46",
   "metadata": {},
   "outputs": [
    {
     "data": {
      "text/plain": [
       "(3.06093398766667+3.920372032964854j)"
      ]
     },
     "execution_count": 21,
     "metadata": {},
     "output_type": "execute_result"
    }
   ],
   "source": [
    "np.sqrt(a)"
   ]
  },
  {
   "cell_type": "code",
   "execution_count": 24,
   "id": "a6026297-7210-4b87-941e-4629fdbebe10",
   "metadata": {},
   "outputs": [
    {
     "data": {
      "text/plain": [
       "2"
      ]
     },
     "execution_count": 24,
     "metadata": {},
     "output_type": "execute_result"
    }
   ],
   "source": [
    "np.mod(2,3)"
   ]
  },
  {
   "cell_type": "code",
   "execution_count": 18,
   "id": "f66b5b74-983b-445c-b31c-12a55e7ef223",
   "metadata": {},
   "outputs": [
    {
     "data": {
      "text/plain": [
       "array([[1, 2, 3],\n",
       "       [3, 4, 5],\n",
       "       [5, 6, 7]])"
      ]
     },
     "execution_count": 18,
     "metadata": {},
     "output_type": "execute_result"
    }
   ],
   "source": [
    "np.array([[1, 2,3], [3, 4,5], [5, 6,7]])"
   ]
  },
  {
   "cell_type": "markdown",
   "id": "aca2938e-c951-4156-a84f-cdb6438e7643",
   "metadata": {},
   "source": [
    "## Nagłówek drugi - Section"
   ]
  },
  {
   "cell_type": "markdown",
   "id": "a1b43cb5-f6af-486a-b922-46e11ef8c72a",
   "metadata": {},
   "source": [
    "### Nagłówek trzeci - SubSection"
   ]
  },
  {
   "cell_type": "markdown",
   "id": "8ea3548c-9078-4fc8-bfdd-06a5b8cdfec0",
   "metadata": {},
   "source": [
    "#### Nagłówek czwarty - SubSubSection"
   ]
  },
  {
   "cell_type": "code",
   "execution_count": 1,
   "id": "a1b4e7de-eb57-4e43-a56b-963e0717d2a1",
   "metadata": {},
   "outputs": [
    {
     "data": {
      "text/plain": [
       "'C:\\\\Users\\\\adam\\\\OneDrive - Zachodniopomorski Uniwersytet Technologiczny w Szczecinie\\\\Jupyter_lab'"
      ]
     },
     "execution_count": 1,
     "metadata": {},
     "output_type": "execute_result"
    }
   ],
   "source": [
    "pwd"
   ]
  },
  {
   "cell_type": "code",
   "execution_count": null,
   "id": "0d491777-a7fe-438f-bd69-410bb2f2929f",
   "metadata": {},
   "outputs": [],
   "source": [
    "Ciekawe czy się zapisze w nowej lokalizacji. - Zapisało się :)"
   ]
  },
  {
   "cell_type": "code",
   "execution_count": null,
   "id": "b158d747-feea-4bba-905c-0a3c65c39602",
   "metadata": {},
   "outputs": [],
   "source": []
  }
 ],
 "metadata": {
  "kernelspec": {
   "display_name": "Python 3 (ipykernel)",
   "language": "python",
   "name": "python3"
  },
  "language_info": {
   "codemirror_mode": {
    "name": "ipython",
    "version": 3
   },
   "file_extension": ".py",
   "mimetype": "text/x-python",
   "name": "python",
   "nbconvert_exporter": "python",
   "pygments_lexer": "ipython3",
   "version": "3.9.12"
  }
 },
 "nbformat": 4,
 "nbformat_minor": 5
}
