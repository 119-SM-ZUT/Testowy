{
 "cells": [
  {
   "cell_type": "markdown",
   "id": "39358da0-6272-4d6d-9396-ef8aaed63f05",
   "metadata": {},
   "source": [
    "## Różne"
   ]
  },
  {
   "cell_type": "code",
   "execution_count": 1,
   "id": "69125dde-5f9e-42b9-9438-98eda9a656be",
   "metadata": {},
   "outputs": [],
   "source": [
    "import numpy as np                                      # Importowanie biblioteki numerycznej: numpy\n",
    "import sympy as sp                                      # Importowanie biblioteki symbolicznej: sympy"
   ]
  },
  {
   "cell_type": "code",
   "execution_count": 2,
   "id": "8b24ec90-d166-44c1-8723-206eeb20172a",
   "metadata": {},
   "outputs": [
    {
     "data": {
      "text/plain": [
       "array([[1, 2, 3],\n",
       "       [3, 4, 5],\n",
       "       [5, 6, 7]])"
      ]
     },
     "execution_count": 2,
     "metadata": {},
     "output_type": "execute_result"
    }
   ],
   "source": [
    "np.array([[1, 2,3], [3, 4,5], [5, 6,7]])"
   ]
  },
  {
   "cell_type": "code",
   "execution_count": 3,
   "id": "bb925cff-8046-477a-9897-23cf37c464ab",
   "metadata": {},
   "outputs": [
    {
     "data": {
      "text/plain": [
       "array([[1, 2, 3],\n",
       "       [3, 4, 5],\n",
       "       [5, 6, 7]])"
      ]
     },
     "execution_count": 3,
     "metadata": {},
     "output_type": "execute_result"
    }
   ],
   "source": [
    "np.array([[1, 2,3], [3, 4,5], [5, 6,7]])"
   ]
  },
  {
   "cell_type": "code",
   "execution_count": 4,
   "id": "632e0580-e1c7-46f5-83b4-13bffdec90d3",
   "metadata": {
    "tags": []
   },
   "outputs": [
    {
     "data": {
      "text/plain": [
       "1.2246467991473532e-16"
      ]
     },
     "execution_count": 4,
     "metadata": {},
     "output_type": "execute_result"
    }
   ],
   "source": [
    "np.sin(np.pi)"
   ]
  },
  {
   "cell_type": "code",
   "execution_count": 5,
   "id": "a16b85d9-cd16-4658-b51a-b8c3ba78b625",
   "metadata": {},
   "outputs": [
    {
     "data": {
      "text/latex": [
       "$\\displaystyle -3.14159265358979 + \\pi$"
      ],
      "text/plain": [
       "-3.14159265358979 + pi"
      ]
     },
     "execution_count": 5,
     "metadata": {},
     "output_type": "execute_result"
    }
   ],
   "source": [
    "sp.pi-np.pi"
   ]
  },
  {
   "cell_type": "code",
   "execution_count": 6,
   "id": "c10c79c6-f2b6-4661-99bc-c99724d5d39a",
   "metadata": {},
   "outputs": [
    {
     "data": {
      "text/latex": [
       "$\\displaystyle 0.0000000000000001224646799147353177226065932275001058209749445923078164062862089986280348253421170679821480865132823$"
      ],
      "text/plain": [
       "0.0000000000000001224646799147353177226065932275001058209749445923078164062862089986280348253421170679821480865132823"
      ]
     },
     "execution_count": 6,
     "metadata": {},
     "output_type": "execute_result"
    }
   ],
   "source": [
    "sp.N(_,100)"
   ]
  },
  {
   "cell_type": "code",
   "execution_count": 7,
   "id": "0bb31fdb-5b53-4faa-aa77-7ece38ad307a",
   "metadata": {},
   "outputs": [
    {
     "data": {
      "text/latex": [
       "$\\displaystyle 1.22464679914735 \\cdot 10^{-16}$"
      ],
      "text/plain": [
       "1.22464679914735e-16"
      ]
     },
     "execution_count": 7,
     "metadata": {},
     "output_type": "execute_result"
    }
   ],
   "source": [
    "sp.sin(np.pi)"
   ]
  },
  {
   "cell_type": "code",
   "execution_count": 39,
   "id": "ec3db4f6-1a9b-475e-9aa7-f37ad1381fea",
   "metadata": {},
   "outputs": [
    {
     "name": "stdin",
     "output_type": "stream",
     "text": [
      "Podaj  całkowite A i B:  1 2\n"
     ]
    }
   ],
   "source": [
    "nums = input(\"Podaj  całkowite A i B: \").split()"
   ]
  },
  {
   "cell_type": "code",
   "execution_count": 41,
   "id": "c84bb33f-823b-4e49-b9a8-1327e9572bda",
   "metadata": {},
   "outputs": [
    {
     "name": "stdout",
     "output_type": "stream",
     "text": [
      "1 2\n"
     ]
    }
   ],
   "source": [
    "print(int(nums[0]), int(nums[1]))"
   ]
  },
  {
   "cell_type": "code",
   "execution_count": 17,
   "id": "ca7ae300-e70b-472b-8ddd-f76859198506",
   "metadata": {},
   "outputs": [
    {
     "data": {
      "text/plain": [
       "str"
      ]
     },
     "execution_count": 17,
     "metadata": {},
     "output_type": "execute_result"
    }
   ],
   "source": [
    "type(nums[0])"
   ]
  },
  {
   "cell_type": "code",
   "execution_count": 16,
   "id": "2bc7cc5a-2f12-40f0-9779-434eaf0586b5",
   "metadata": {},
   "outputs": [
    {
     "data": {
      "text/plain": [
       "2"
      ]
     },
     "execution_count": 16,
     "metadata": {},
     "output_type": "execute_result"
    }
   ],
   "source": [
    "len(nums)"
   ]
  },
  {
   "cell_type": "code",
   "execution_count": 22,
   "id": "73060d47-d58c-42fc-8d94-cc07ba9ea6ad",
   "metadata": {},
   "outputs": [
    {
     "data": {
      "text/plain": [
       "int"
      ]
     },
     "execution_count": 22,
     "metadata": {},
     "output_type": "execute_result"
    }
   ],
   "source": [
    "type(int(nums[0]))"
   ]
  },
  {
   "cell_type": "code",
   "execution_count": 47,
   "id": "36fb6604-33f7-4ce2-a2b3-72c219898c40",
   "metadata": {},
   "outputs": [
    {
     "data": {
      "text/plain": [
       "True"
      ]
     },
     "execution_count": 47,
     "metadata": {},
     "output_type": "execute_result"
    }
   ],
   "source": [
    "type(nums) != dict"
   ]
  },
  {
   "cell_type": "code",
   "execution_count": 42,
   "id": "99f4c4f0-6b86-45a9-978c-f6a01d882d64",
   "metadata": {},
   "outputs": [
    {
     "name": "stdin",
     "output_type": "stream",
     "text": [
      "Wprowadź kierunek fdsafsa\n"
     ]
    },
    {
     "name": "stdout",
     "output_type": "stream",
     "text": [
      "Twój kierunek to:  fdsafsa\n"
     ]
    }
   ],
   "source": [
    "# print(\"Wprowadź kierunek\")\n",
    "kierunek = input(\"Wprowadź kierunek\")\n",
    "print(\"Twój kierunek to: \", kierunek)"
   ]
  },
  {
   "cell_type": "code",
   "execution_count": null,
   "id": "f5071675-6c85-416c-9cd3-a17e135e4842",
   "metadata": {},
   "outputs": [],
   "source": []
  }
 ],
 "metadata": {
  "kernelspec": {
   "display_name": "Python 3 (ipykernel)",
   "language": "python",
   "name": "python3"
  },
  "language_info": {
   "codemirror_mode": {
    "name": "ipython",
    "version": 3
   },
   "file_extension": ".py",
   "mimetype": "text/x-python",
   "name": "python",
   "nbconvert_exporter": "python",
   "pygments_lexer": "ipython3",
   "version": "3.9.12"
  }
 },
 "nbformat": 4,
 "nbformat_minor": 5
}
