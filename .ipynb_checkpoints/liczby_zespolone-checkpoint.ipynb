{
 "cells": [
  {
   "cell_type": "markdown",
   "id": "7cc7f313-3b98-4511-ac34-96a94f9c0abf",
   "metadata": {},
   "source": [
    "## Liczby zespolone"
   ]
  },
  {
   "cell_type": "code",
   "execution_count": 1,
   "id": "c23eda2e-64bc-4fa2-976a-135a96b70370",
   "metadata": {},
   "outputs": [],
   "source": [
    "import numpy as np                                      # Importowanie biblioteki numerycznej: numpy\n",
    "import sympy as sp                                      # Importowanie biblioteki symbolicznej: sympy"
   ]
  },
  {
   "cell_type": "code",
   "execution_count": 2,
   "id": "747bc037-a01e-4866-88df-7549d6e0d668",
   "metadata": {},
   "outputs": [],
   "source": [
    "from sympy import I                                     # importowanie jednostki urojonej I z bilbioteki sympy\n",
    "sp.init_printing()                                      # elegancki wygląd wyników"
   ]
  },
  {
   "cell_type": "code",
   "execution_count": 3,
   "id": "eb17b988-5564-4e4f-9fc1-851590956ff8",
   "metadata": {},
   "outputs": [
    {
     "data": {
      "text/plain": [
       "((21-1j), (2 + 3*I)*(3 - 5*I))"
      ]
     },
     "execution_count": 3,
     "metadata": {},
     "output_type": "execute_result"
    }
   ],
   "source": [
    "(2+3j)*(3-5j),(2+3*I)*(3-5*I)"
   ]
  },
  {
   "cell_type": "code",
   "execution_count": 4,
   "id": "5e065ff0-7896-44f8-a5a7-0bbcc95c1bc4",
   "metadata": {},
   "outputs": [
    {
     "data": {
      "image/png": "[encoded data removed]",
      "text/latex": [
       "$\\displaystyle \\left( 21.0 - 1.0 i, \\  21 - i\\right)$"
      ],
      "text/plain": [
       "(21.0 - ⅈ, 21 - ⅈ)"
      ]
     },
     "execution_count": 4,
     "metadata": {},
     "output_type": "execute_result"
    }
   ],
   "source": [
    "sp.simplify((2+3j)*(3-5j)), sp.simplify((2+3*I)*(3-5*I))"
   ]
  },
  {
   "cell_type": "code",
   "execution_count": 5,
   "id": "3f140117-ac79-4731-83f2-1006f95ba479",
   "metadata": {},
   "outputs": [
    {
     "data": {
      "image/png": "[encoded data removed]",
      "text/latex": [
       "$\\displaystyle \\left( 2.82842712474619, \\  2 \\sqrt{2}\\right)$"
      ],
      "text/plain": [
       "(2.8284271247461903, 2⋅√2)"
      ]
     },
     "execution_count": 5,
     "metadata": {},
     "output_type": "execute_result"
    }
   ],
   "source": [
    "np.sqrt(8), sp.sqrt(8)"
   ]
  },
  {
   "cell_type": "code",
   "execution_count": 6,
   "id": "1f5f7cc7-694c-43b9-a566-5a9547c1ef46",
   "metadata": {
    "tags": []
   },
   "outputs": [
    {
     "data": {
      "text/plain": [
       "((4.583873691629638-0.10907804918643871j),\n",
       " (2+1j),\n",
       " 2 + I,\n",
       " sqrt(I),\n",
       " (0.7071067811865476+0.7071067811865475j))"
      ]
     },
     "execution_count": 6,
     "metadata": {},
     "output_type": "execute_result"
    }
   ],
   "source": [
    "np.sqrt(21-1j), np.sqrt(3+4j), sp.sqrt(3+4*I), sp.sqrt(I), np.sqrt(1j)"
   ]
  },
  {
   "cell_type": "code",
   "execution_count": 7,
   "id": "0b3095ee-820f-4ae7-8908-18b72f5aba81",
   "metadata": {},
   "outputs": [
    {
     "data": {
      "image/png": "[encoded data removed]",
      "text/latex": [
       "$\\displaystyle \\frac{\\sqrt{2}}{2} + \\frac{\\sqrt{2} i}{2}$"
      ],
      "text/plain": [
       "√2   √2⋅ⅈ\n",
       "── + ────\n",
       "2     2  "
      ]
     },
     "execution_count": 7,
     "metadata": {},
     "output_type": "execute_result"
    }
   ],
   "source": [
    "sp.sqrt(I).expand(complex=True)"
   ]
  },
  {
   "cell_type": "code",
   "execution_count": 107,
   "id": "b65cb4bc-1346-41dc-a5c6-a12cf0456896",
   "metadata": {},
   "outputs": [
    {
     "data": {
      "image/png": "[encoded data removed]",
      "text/latex": [
       "$\\displaystyle \\frac{\\sqrt{2}}{2} + \\frac{\\sqrt{2} i}{2}$"
      ],
      "text/plain": [
       "√2   √2⋅ⅈ\n",
       "── + ────\n",
       "2     2  "
      ]
     },
     "execution_count": 107,
     "metadata": {},
     "output_type": "execute_result"
    }
   ],
   "source": [
    "sp.expand_complex(sp.sqrt(I))"
   ]
  },
  {
   "cell_type": "code",
   "execution_count": 8,
   "id": "d33ada66-b015-4172-b60b-98d31bf1c0bb",
   "metadata": {},
   "outputs": [
    {
     "data": {
      "image/png": "[encoded data removed]",
      "text/latex": [
       "$\\displaystyle \\frac{\\left(2 + i\\right) \\left(3 + i\\right)}{10}$"
      ],
      "text/plain": [
       "(2 + ⅈ)⋅(3 + ⅈ)\n",
       "───────────────\n",
       "       10      "
      ]
     },
     "execution_count": 8,
     "metadata": {},
     "output_type": "execute_result"
    }
   ],
   "source": [
    "(2+I)/(3-I)"
   ]
  },
  {
   "cell_type": "code",
   "execution_count": 9,
   "id": "e393b4b8-b5fc-49eb-b15c-1238ce83a88b",
   "metadata": {},
   "outputs": [
    {
     "data": {
      "image/png": "[encoded data removed]",
      "text/latex": [
       "$\\displaystyle \\frac{1}{2} + \\frac{i}{2}$"
      ],
      "text/plain": [
       "1   ⅈ\n",
       "─ + ─\n",
       "2   2"
      ]
     },
     "execution_count": 9,
     "metadata": {},
     "output_type": "execute_result"
    }
   ],
   "source": [
    "sp.simplify(_)"
   ]
  },
  {
   "cell_type": "code",
   "execution_count": 10,
   "id": "0fb78f2d-5398-418b-a2e7-229595e08975",
   "metadata": {},
   "outputs": [
    {
     "data": {
      "text/plain": [
       "(0.5+0.49999999999999994j)"
      ]
     },
     "execution_count": 10,
     "metadata": {},
     "output_type": "execute_result"
    }
   ],
   "source": [
    "(2+1j)/(3-1j)"
   ]
  },
  {
   "cell_type": "code",
   "execution_count": 11,
   "id": "1b677ad7-2c6e-4914-96aa-caf092b3c04b",
   "metadata": {},
   "outputs": [
    {
     "data": {
      "image/png": "[encoded data removed]",
      "text/latex": [
       "$\\displaystyle 0.5 + 0.5 i$"
      ],
      "text/plain": [
       "0.5 + 0.5⋅ⅈ"
      ]
     },
     "execution_count": 11,
     "metadata": {},
     "output_type": "execute_result"
    }
   ],
   "source": [
    "sp.simplify(_)"
   ]
  },
  {
   "cell_type": "code",
   "execution_count": 12,
   "id": "a6026297-7210-4b87-941e-4629fdbebe10",
   "metadata": {},
   "outputs": [
    {
     "name": "stdout",
     "output_type": "stream",
     "text": [
      "10.8 µs ± 2.95 µs per loop (mean ± std. dev. of 7 runs, 100,000 loops each)\n"
     ]
    }
   ],
   "source": [
    "%timeit [np.sqrt((2+2*np.sqrt(3)*1j)**2)]"
   ]
  },
  {
   "cell_type": "code",
   "execution_count": 13,
   "id": "afd0e422-493f-4ec2-b712-3c9ffe696b55",
   "metadata": {},
   "outputs": [
    {
     "name": "stdout",
     "output_type": "stream",
     "text": [
      "22.1 µs ± 3.03 µs per loop (mean ± std. dev. of 7 runs, 100,000 loops each)\n"
     ]
    }
   ],
   "source": [
    "%timeit [sp.sqrt((2+2*sp.sqrt(3)*I)**2)]"
   ]
  },
  {
   "cell_type": "markdown",
   "id": "9decc5bc-06d7-406a-899c-74c1ba50264e",
   "metadata": {},
   "source": [
    "# Równania zespolone"
   ]
  },
  {
   "cell_type": "code",
   "execution_count": 14,
   "id": "5e8b83a5-eaeb-4261-a346-f8468e287ff2",
   "metadata": {},
   "outputs": [],
   "source": [
    "x, y = sp.symbols('x y', real=True)"
   ]
  },
  {
   "cell_type": "code",
   "execution_count": 15,
   "id": "cc50b0d1-736e-420e-b68f-94ca90ff7ca8",
   "metadata": {
    "tags": []
   },
   "outputs": [],
   "source": [
    "z = x + I*y"
   ]
  },
  {
   "cell_type": "code",
   "execution_count": 43,
   "id": "a86c9bc2-54b8-45f1-9a4a-1b7dbf5b31da",
   "metadata": {},
   "outputs": [
    {
     "data": {
      "image/png": "[encoded data removed]",
      "text/latex": [
       "$\\displaystyle \\left\\{ x : 1.0, \\  y : 1.0\\right\\}$"
      ],
      "text/plain": [
       "{x: 1.0, y: 1.0}"
      ]
     },
     "execution_count": 43,
     "metadata": {},
     "output_type": "execute_result"
    }
   ],
   "source": [
    "sp.solve(x*(2+3j)+y*(4-5j)-6+2j)"
   ]
  },
  {
   "cell_type": "code",
   "execution_count": 42,
   "id": "be218d75-300b-4ce3-b2bc-6aacc3fe7b8d",
   "metadata": {},
   "outputs": [
    {
     "data": {
      "image/png": "[encoded data removed]",
      "text/latex": [
       "$\\displaystyle \\left\\{ x : 1, \\  y : 1\\right\\}$"
      ],
      "text/plain": [
       "{x: 1, y: 1}"
      ]
     },
     "execution_count": 42,
     "metadata": {},
     "output_type": "execute_result"
    }
   ],
   "source": [
    "sp.solve(x*(2+3*I)+y*(4-5*I)-6+2*I)"
   ]
  },
  {
   "cell_type": "code",
   "execution_count": 41,
   "id": "bfed270a-0e3a-4e64-9601-fa13609120e0",
   "metadata": {},
   "outputs": [
    {
     "data": {
      "image/png": "[encoded data removed]",
      "text/latex": [
       "$\\displaystyle \\left[ \\left\\{ x : 5, \\  y : 17\\right\\}\\right]$"
      ],
      "text/plain": [
       "[{x: 5, y: 17}]"
      ]
     },
     "execution_count": 41,
     "metadata": {},
     "output_type": "execute_result"
    }
   ],
   "source": [
    "sp.solve((1+y*I)/(x-2*I)-3*I+1)"
   ]
  },
  {
   "cell_type": "code",
   "execution_count": 16,
   "id": "15a8e05f-9915-4e0c-b164-0d5f6032ec27",
   "metadata": {},
   "outputs": [],
   "source": [
    "result = sp.solve(z**2 - I, (x, y))"
   ]
  },
  {
   "cell_type": "code",
   "execution_count": 17,
   "id": "2bd03e5e-3c23-4a36-86f2-9a844fe33b7b",
   "metadata": {},
   "outputs": [
    {
     "data": {
      "image/png": "[encoded data removed]",
      "text/latex": [
       "$\\displaystyle 2$"
      ],
      "text/plain": [
       "2"
      ]
     },
     "execution_count": 17,
     "metadata": {},
     "output_type": "execute_result"
    }
   ],
   "source": [
    "len(result)"
   ]
  },
  {
   "cell_type": "code",
   "execution_count": 18,
   "id": "7dd7470a-65f0-46dd-9203-ae487655f91b",
   "metadata": {},
   "outputs": [
    {
     "data": {
      "image/png": "[encoded data removed]",
      "text/latex": [
       "$\\displaystyle \\left[ \\left( - \\frac{\\sqrt{2}}{2}, \\  - \\frac{\\sqrt{2}}{2}\\right), \\  \\left( \\frac{\\sqrt{2}}{2}, \\  \\frac{\\sqrt{2}}{2}\\right)\\right]$"
      ],
      "text/plain": [
       "⎡⎛-√2   -√2 ⎞  ⎛√2  √2⎞⎤\n",
       "⎢⎜────, ────⎟, ⎜──, ──⎟⎥\n",
       "⎣⎝ 2     2  ⎠  ⎝2   2 ⎠⎦"
      ]
     },
     "execution_count": 18,
     "metadata": {},
     "output_type": "execute_result"
    }
   ],
   "source": [
    "result"
   ]
  },
  {
   "cell_type": "code",
   "execution_count": 19,
   "id": "7a555498-aa51-4b54-9d38-a663c946027e",
   "metadata": {},
   "outputs": [
    {
     "data": {
      "image/png": "[encoded data removed]",
      "text/latex": [
       "$\\displaystyle \\left[ \\left\\{ x : - \\frac{\\sqrt{2}}{2}, \\  y : - \\frac{\\sqrt{2}}{2}\\right\\}, \\  \\left\\{ x : \\frac{\\sqrt{2}}{2}, \\  y : \\frac{\\sqrt{2}}{2}\\right\\}\\right]$"
      ],
      "text/plain": [
       "⎡⎧   -√2      -√2 ⎫  ⎧   √2     √2⎫⎤\n",
       "⎢⎨x: ────, y: ────⎬, ⎨x: ──, y: ──⎬⎥\n",
       "⎣⎩    2        2  ⎭  ⎩   2      2 ⎭⎦"
      ]
     },
     "execution_count": 19,
     "metadata": {},
     "output_type": "execute_result"
    }
   ],
   "source": [
    "sp.solve(z**2-I)"
   ]
  },
  {
   "cell_type": "code",
   "execution_count": 20,
   "id": "6e9a633b-363a-4a3e-aa9b-78016c1ef763",
   "metadata": {},
   "outputs": [
    {
     "data": {
      "image/png": "[encoded data removed]",
      "text/latex": [
       "$\\displaystyle \\left[ \\left( -3, \\  3\\right), \\  \\left( 2, \\  -4\\right)\\right]$"
      ],
      "text/plain": [
       "[(-3, 3), (2, -4)]"
      ]
     },
     "execution_count": 20,
     "metadata": {},
     "output_type": "execute_result"
    }
   ],
   "source": [
    "sp.solve(z ** 2 + (1 + I) * z + (6 + 18 * I), (x, y))"
   ]
  },
  {
   "cell_type": "code",
   "execution_count": 21,
   "id": "9c5bfc36-f2e4-4fe1-911a-45d746c61d91",
   "metadata": {},
   "outputs": [],
   "source": [
    "v = sp.symbols('v')"
   ]
  },
  {
   "cell_type": "code",
   "execution_count": 22,
   "id": "a5bf21c7-66bd-4367-932f-6037f5c5f010",
   "metadata": {},
   "outputs": [
    {
     "data": {
      "image/png": "[encoded data removed]",
      "text/latex": [
       "$\\displaystyle \\left[ -0.707106781186548 - 0.707106781186548 i, \\  0.707106781186548 + 0.707106781186548 i\\right]$"
      ],
      "text/plain": [
       "[-0.707106781186548 - 0.707106781186548⋅ⅈ, 0.707106781186548 + 0.7071067811865\n",
       "48⋅ⅈ]"
      ]
     },
     "execution_count": 22,
     "metadata": {},
     "output_type": "execute_result"
    }
   ],
   "source": [
    "sp.solve(v**2-1j)"
   ]
  },
  {
   "cell_type": "code",
   "execution_count": 23,
   "id": "7793e0b7-28ca-4c9a-afc5-919b542d3931",
   "metadata": {},
   "outputs": [],
   "source": [
    "res_1 = sp.solve(z**3-1)"
   ]
  },
  {
   "cell_type": "code",
   "execution_count": 24,
   "id": "7d6cb645-c430-4279-995f-0289ee04d43a",
   "metadata": {},
   "outputs": [],
   "source": [
    "res_2 = sp.solve(v**3-1)"
   ]
  },
  {
   "cell_type": "code",
   "execution_count": 25,
   "id": "322480b3-b150-487f-b186-1501c50f154d",
   "metadata": {},
   "outputs": [
    {
     "data": {
      "image/png": "[encoded data removed]",
      "text/latex": [
       "$\\displaystyle \\left( \\left[ \\left\\{ x : - \\frac{1}{2}, \\  y : - \\frac{\\sqrt{3}}{2}\\right\\}, \\  \\left\\{ x : - \\frac{1}{2}, \\  y : \\frac{\\sqrt{3}}{2}\\right\\}, \\  \\left\\{ x : 1, \\  y : 0\\right\\}\\right], \\  \\left[ 1, \\  - \\frac{1}{2} - \\frac{\\sqrt{3} i}{2}, \\  - \\frac{1}{2} + \\frac{\\sqrt{3} i}{2}\\right], \\  3, \\  3\\right)$"
      ],
      "text/plain": [
       "⎛⎡⎧            -√3 ⎫  ⎧            √3⎫              ⎤  ⎡     1   √3⋅ⅈ    1   √\n",
       "⎜⎢⎨x: -1/2, y: ────⎬, ⎨x: -1/2, y: ──⎬, {x: 1, y: 0}⎥, ⎢1, - ─ - ────, - ─ + ─\n",
       "⎝⎣⎩             2  ⎭  ⎩            2 ⎭              ⎦  ⎣     2    2      2    \n",
       "\n",
       "3⋅ⅈ⎤      ⎞\n",
       "───⎥, 3, 3⎟\n",
       "2  ⎦      ⎠"
      ]
     },
     "execution_count": 25,
     "metadata": {},
     "output_type": "execute_result"
    }
   ],
   "source": [
    "res_1, res_2, len(res_1), len(res_2)"
   ]
  },
  {
   "cell_type": "code",
   "execution_count": 45,
   "id": "f5d61286-39dd-475b-bb88-e58ceb2cfeec",
   "metadata": {},
   "outputs": [
    {
     "data": {
      "image/png": "[encoded data removed]",
      "text/latex": [
       "$\\displaystyle \\left[ \\left\\{ x : - \\frac{1}{2}, \\  y : - \\frac{\\sqrt{3}}{2}\\right\\}, \\  \\left\\{ x : - \\frac{1}{2}, \\  y : \\frac{\\sqrt{3}}{2}\\right\\}, \\  \\left\\{ x : 0, \\  y : 0\\right\\}, \\  \\left\\{ x : 1, \\  y : 0\\right\\}\\right]$"
      ],
      "text/plain": [
       "⎡⎧            -√3 ⎫  ⎧            √3⎫                            ⎤\n",
       "⎢⎨x: -1/2, y: ────⎬, ⎨x: -1/2, y: ──⎬, {x: 0, y: 0}, {x: 1, y: 0}⎥\n",
       "⎣⎩             2  ⎭  ⎩            2 ⎭                            ⎦"
      ]
     },
     "execution_count": 45,
     "metadata": {},
     "output_type": "execute_result"
    }
   ],
   "source": [
    "sp.solve(z**2-sp.conjugate(z))"
   ]
  },
  {
   "cell_type": "code",
   "execution_count": 71,
   "id": "3f4902ed-311b-4984-bb09-3e86ecc77f23",
   "metadata": {},
   "outputs": [],
   "source": [
    "x1, x2, y1, y2 = sp.symbols('x1 x2 y1 y2', real=True)"
   ]
  },
  {
   "cell_type": "code",
   "execution_count": 74,
   "id": "4a5e2bbf-68e6-41db-8c0e-c97856c737fe",
   "metadata": {},
   "outputs": [],
   "source": [
    "z1 = x1 + I*y1"
   ]
  },
  {
   "cell_type": "code",
   "execution_count": 75,
   "id": "2515d052-4dea-4621-9a9e-31f3611b6aa2",
   "metadata": {},
   "outputs": [],
   "source": [
    "z2 = x2 + I*y2"
   ]
  },
  {
   "cell_type": "code",
   "execution_count": 76,
   "id": "95f5e5ae-f806-48c5-9cba-90a0c6adc521",
   "metadata": {},
   "outputs": [
    {
     "data": {
      "text/plain": [
       "True"
      ]
     },
     "execution_count": 76,
     "metadata": {},
     "output_type": "execute_result"
    }
   ],
   "source": [
    "sp.Abs(z1*z2)==sp.Abs(z1)*sp.Abs(z2)"
   ]
  },
  {
   "cell_type": "code",
   "execution_count": 77,
   "id": "a7a70f18-21df-475c-be66-d17fa449c998",
   "metadata": {},
   "outputs": [
    {
     "data": {
      "text/plain": [
       "True"
      ]
     },
     "execution_count": 77,
     "metadata": {},
     "output_type": "execute_result"
    }
   ],
   "source": [
    "sp.Abs(z1/z2)==sp.Abs(z1)/sp.Abs(z2)"
   ]
  },
  {
   "cell_type": "code",
   "execution_count": 78,
   "id": "0672e211-3438-4671-968e-f0f837279297",
   "metadata": {},
   "outputs": [
    {
     "data": {
      "text/plain": [
       "False"
      ]
     },
     "execution_count": 78,
     "metadata": {},
     "output_type": "execute_result"
    }
   ],
   "source": [
    "sp.Abs(z1*z2)==sp.Abs(z1)+sp.Abs(z2)"
   ]
  },
  {
   "cell_type": "code",
   "execution_count": 89,
   "id": "009300c8-4a5d-4025-84e6-0a6e7ec05153",
   "metadata": {},
   "outputs": [
    {
     "data": {
      "text/plain": [
       "False"
      ]
     },
     "execution_count": 89,
     "metadata": {},
     "output_type": "execute_result"
    }
   ],
   "source": [
    "z*sp.conjugate(z)==(sp.Abs(z))**2 # tu jest zła odpowiedź"
   ]
  },
  {
   "cell_type": "code",
   "execution_count": 90,
   "id": "f98c7702-7d48-427d-9a5e-df11bba88400",
   "metadata": {},
   "outputs": [
    {
     "data": {
      "text/plain": [
       "True"
      ]
     },
     "execution_count": 90,
     "metadata": {},
     "output_type": "execute_result"
    }
   ],
   "source": [
    "sp.simplify(z*sp.conjugate(z)-(sp.Abs(z))**2) == 0 # a tu jest dobra"
   ]
  },
  {
   "cell_type": "code",
   "execution_count": 95,
   "id": "81a6ee3c-f095-459a-bb58-56cf8fa6a977",
   "metadata": {},
   "outputs": [
    {
     "data": {
      "image/png": "[encoded data removed]",
      "text/latex": [
       "$\\displaystyle - \\frac{\\pi}{2}$"
      ],
      "text/plain": [
       "-π \n",
       "───\n",
       " 2 "
      ]
     },
     "execution_count": 95,
     "metadata": {},
     "output_type": "execute_result"
    }
   ],
   "source": [
    "sp.arg(-I)"
   ]
  },
  {
   "cell_type": "code",
   "execution_count": 97,
   "id": "437c842f-4739-41d2-9528-274a87289f90",
   "metadata": {},
   "outputs": [
    {
     "data": {
      "image/png": "[encoded data removed]",
      "text/latex": [
       "$\\displaystyle e^{1 + i}$"
      ],
      "text/plain": [
       " 1 + ⅈ\n",
       "ℯ     "
      ]
     },
     "execution_count": 97,
     "metadata": {},
     "output_type": "execute_result"
    }
   ],
   "source": [
    "sp.exp_polar(1+I)"
   ]
  },
  {
   "cell_type": "code",
   "execution_count": 106,
   "id": "19b80111-912a-4aaf-94f2-b084dae43d71",
   "metadata": {},
   "outputs": [
    {
     "data": {
      "image/png": "[encoded data removed]",
      "text/latex": [
       "$\\displaystyle i e^{x} \\sin{\\left(y \\right)} + e^{x} \\cos{\\left(y \\right)}$"
      ],
      "text/plain": [
       "   x           x       \n",
       "ⅈ⋅ℯ ⋅sin(y) + ℯ ⋅cos(y)"
      ]
     },
     "execution_count": 106,
     "metadata": {},
     "output_type": "execute_result"
    }
   ],
   "source": [
    "sp.expand_complex(sp.exp(z))"
   ]
  },
  {
   "cell_type": "code",
   "execution_count": 108,
   "id": "c6b0940e-fa3d-4e98-a027-d5410305c3e2",
   "metadata": {},
   "outputs": [
    {
     "data": {
      "image/png": "[encoded data removed]",
      "text/latex": [
       "$\\displaystyle e^{x + i y}$"
      ],
      "text/plain": [
       " x + ⅈ⋅y\n",
       "ℯ       "
      ]
     },
     "execution_count": 108,
     "metadata": {},
     "output_type": "execute_result"
    }
   ],
   "source": [
    "sp.exp(z)"
   ]
  },
  {
   "cell_type": "code",
   "execution_count": null,
   "id": "95f1c658-76cc-464a-b895-90977a3788be",
   "metadata": {},
   "outputs": [],
   "source": []
  }
 ],
 "metadata": {
  "kernelspec": {
   "display_name": "Python 3 (ipykernel)",
   "language": "python",
   "name": "python3"
  },
  "language_info": {
   "codemirror_mode": {
    "name": "ipython",
    "version": 3
   },
   "file_extension": ".py",
   "mimetype": "text/x-python",
   "name": "python",
   "nbconvert_exporter": "python",
   "pygments_lexer": "ipython3",
   "version": "3.9.12"
  }
 },
 "nbformat": 4,
 "nbformat_minor": 5
}
