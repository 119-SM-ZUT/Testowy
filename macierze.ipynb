{
 "cells": [
  {
   "cell_type": "code",
   "execution_count": 1,
   "id": "bd723e8c-494b-4d81-b1a3-3181487fbe4c",
   "metadata": {},
   "outputs": [],
   "source": [
    "import numpy as np                                      # Importowanie biblioteki numerycznej: numpy\n",
    "import sympy as sp                                      # Importowanie biblioteki symbolicznej: sympy\n",
    "import cmath as cm                                      # Importowanie biblioteki symbolicznej: cmath"
   ]
  },
  {
   "cell_type": "code",
   "execution_count": 2,
   "id": "2ea823bf-747d-4a01-ad30-0c644f76c8ce",
   "metadata": {},
   "outputs": [],
   "source": [
    "from sympy import I                                     # importowanie jednostki urojonej I z bilbioteki sympy\n",
    "sp.init_printing()                                      # elegancki wygląd wyników"
   ]
  },
  {
   "cell_type": "code",
   "execution_count": 3,
   "id": "02e9075a-03a3-430d-b4c4-5e4e74cf1833",
   "metadata": {},
   "outputs": [],
   "source": [
    "tablica=np.array([[1,2,3],[2,3,4],[-2,1,0]])"
   ]
  },
  {
   "cell_type": "code",
   "execution_count": 4,
   "id": "15dcb67a-deb7-47b9-98e2-99c1d857dd2e",
   "metadata": {},
   "outputs": [
    {
     "data": {
      "text/plain": [
       "array([[ 1,  2,  3],\n",
       "       [ 2,  3,  4],\n",
       "       [-2,  1,  0]])"
      ]
     },
     "execution_count": 4,
     "metadata": {},
     "output_type": "execute_result"
    }
   ],
   "source": [
    "tablica"
   ]
  },
  {
   "cell_type": "code",
   "execution_count": 5,
   "id": "10a84855-398e-433f-b8ad-8bf792061670",
   "metadata": {},
   "outputs": [],
   "source": [
    "wiersz=np.array([[1,2,3]],dtype=complex)"
   ]
  },
  {
   "cell_type": "code",
   "execution_count": 6,
   "id": "28320cfb-0a96-489d-87f0-85e63d3dffeb",
   "metadata": {},
   "outputs": [
    {
     "data": {
      "text/plain": [
       "array([[1.+0.j, 2.+0.j, 3.+0.j]])"
      ]
     },
     "execution_count": 6,
     "metadata": {},
     "output_type": "execute_result"
    }
   ],
   "source": [
    "wiersz"
   ]
  },
  {
   "cell_type": "code",
   "execution_count": 7,
   "id": "7aea881b-4e1e-49ac-891c-61d0dabeef03",
   "metadata": {},
   "outputs": [],
   "source": [
    "kolumna=np.array([[1],[2],[3]])"
   ]
  },
  {
   "cell_type": "code",
   "execution_count": 8,
   "id": "ea3f29f0-d39f-4f54-af9a-5a0ee0d56df2",
   "metadata": {},
   "outputs": [
    {
     "data": {
      "text/plain": [
       "array([[1],\n",
       "       [2],\n",
       "       [3]])"
      ]
     },
     "execution_count": 8,
     "metadata": {},
     "output_type": "execute_result"
    }
   ],
   "source": [
    "kolumna"
   ]
  },
  {
   "cell_type": "code",
   "execution_count": 9,
   "id": "8fd912bb-837c-43d8-a86a-9ff83a8f9d28",
   "metadata": {},
   "outputs": [
    {
     "data": {
      "text/plain": [
       "(2, (3, 3), dtype('int32'), 9)"
      ]
     },
     "execution_count": 9,
     "metadata": {},
     "output_type": "execute_result"
    }
   ],
   "source": [
    "tablica.ndim, tablica.shape, tablica.dtype, tablica.size"
   ]
  },
  {
   "cell_type": "code",
   "execution_count": 10,
   "id": "b8a81c25-8497-4fd5-8166-53ad04d2ad11",
   "metadata": {},
   "outputs": [],
   "source": [
    "tablica_losowa = np.random.rand(100,100)"
   ]
  },
  {
   "cell_type": "code",
   "execution_count": 11,
   "id": "7b3b071f-41fc-4d70-85dc-94d2b2ec8d8d",
   "metadata": {},
   "outputs": [
    {
     "data": {
      "text/plain": [
       "array([[0.76506647, 0.24014068, 0.35980287, ..., 0.96583247, 0.42154139,\n",
       "        0.11912753],\n",
       "       [0.93243397, 0.50486817, 0.27981348, ..., 0.64403235, 0.51226863,\n",
       "        0.13055774],\n",
       "       [0.15433216, 0.36540453, 0.31426088, ..., 0.64314997, 0.48047053,\n",
       "        0.7087477 ],\n",
       "       ...,\n",
       "       [0.18034589, 0.8817119 , 0.08828139, ..., 0.27704676, 0.72051335,\n",
       "        0.79063636],\n",
       "       [0.26081095, 0.00410059, 0.09783956, ..., 0.3586309 , 0.34894164,\n",
       "        0.50356   ],\n",
       "       [0.80795171, 0.27351913, 0.82440754, ..., 0.66049294, 0.94990969,\n",
       "        0.88532059]])"
      ]
     },
     "execution_count": 11,
     "metadata": {},
     "output_type": "execute_result"
    }
   ],
   "source": [
    "tablica_losowa"
   ]
  },
  {
   "cell_type": "code",
   "execution_count": 12,
   "id": "3f0f9742-30cd-4da8-8742-851f2b8f3481",
   "metadata": {},
   "outputs": [
    {
     "data": {
      "text/plain": [
       "array([[ 0.40141862, -0.82161614, -0.49039142, ...,  0.27664442,\n",
       "        -0.16357052,  0.0323056 ],\n",
       "       [ 0.77844059, -0.77815511, -1.06083378, ...,  0.50708101,\n",
       "        -0.68559718, -0.75086551],\n",
       "       [-0.54694104,  1.10105087,  0.679194  , ..., -0.52598007,\n",
       "         0.08939666,  0.82437319],\n",
       "       ...,\n",
       "       [-0.4291252 ,  1.48445223,  0.93421876, ..., -0.27347565,\n",
       "        -0.19037922,  0.65311318],\n",
       "       [ 0.05451906,  0.46321468,  0.59556906, ...,  0.18176056,\n",
       "        -0.18917745,  0.66243574],\n",
       "       [ 0.20471564, -0.35549139, -0.20856354, ...,  0.28250179,\n",
       "        -0.38371024, -0.03034887]])"
      ]
     },
     "execution_count": 12,
     "metadata": {},
     "output_type": "execute_result"
    }
   ],
   "source": [
    "np.linalg.inv(tablica_losowa)"
   ]
  },
  {
   "cell_type": "code",
   "execution_count": 13,
   "id": "3bf5ba19-f519-4f2a-9d98-b5cc542de890",
   "metadata": {},
   "outputs": [
    {
     "data": {
      "image/png": "[encoded data removed]",
      "text/latex": [
       "$\\displaystyle -5.7199095332686 \\cdot 10^{25}$"
      ],
      "text/plain": [
       "-5.719909533268596e+25"
      ]
     },
     "execution_count": 13,
     "metadata": {},
     "output_type": "execute_result"
    }
   ],
   "source": [
    "np.linalg.det(tablica_losowa)"
   ]
  },
  {
   "cell_type": "code",
   "execution_count": 14,
   "id": "eb081976-555a-48a6-b29f-71b12c8ab3fd",
   "metadata": {},
   "outputs": [
    {
     "data": {
      "text/plain": [
       "array([[ 1.00000000e+00,  5.30825264e-15, -9.77897488e-16, ...,\n",
       "        -3.15025783e-15, -1.33226763e-15,  8.88178420e-16],\n",
       "       [ 5.43634982e-15,  1.00000000e+00, -1.72476260e-15, ...,\n",
       "         2.22044605e-16, -1.51267887e-15,  4.44089210e-16],\n",
       "       [ 1.54326767e-15, -6.07858497e-15,  1.00000000e+00, ...,\n",
       "         9.99200722e-16,  4.44089210e-16, -2.66453526e-15],\n",
       "       ...,\n",
       "       [-1.59243309e-15, -4.72410052e-15, -7.86824441e-15, ...,\n",
       "         1.00000000e+00,  3.10862447e-15,  8.88178420e-16],\n",
       "       [ 2.40144133e-15,  3.07372622e-15,  3.44486891e-15, ...,\n",
       "        -9.99200722e-16,  1.00000000e+00,  1.77635684e-15],\n",
       "       [-1.52741648e-15,  5.19876048e-16, -4.52252498e-17, ...,\n",
       "         6.66133815e-16, -8.88178420e-16,  1.00000000e+00]])"
      ]
     },
     "execution_count": 14,
     "metadata": {},
     "output_type": "execute_result"
    }
   ],
   "source": [
    "tablica_losowa@np.linalg.inv(tablica_losowa)"
   ]
  },
  {
   "cell_type": "code",
   "execution_count": 15,
   "id": "1929349a-02b3-4942-9b8f-2622d2fd7596",
   "metadata": {},
   "outputs": [
    {
     "data": {
      "text/plain": [
       "array([[ 1.,  0., -0., ..., -0., -0.,  0.],\n",
       "       [ 0.,  1., -0., ...,  0., -0.,  0.],\n",
       "       [ 0., -0.,  1., ...,  0.,  0., -0.],\n",
       "       ...,\n",
       "       [-0., -0., -0., ...,  1.,  0.,  0.],\n",
       "       [ 0.,  0.,  0., ..., -0.,  1.,  0.],\n",
       "       [-0.,  0., -0., ...,  0., -0.,  1.]])"
      ]
     },
     "execution_count": 15,
     "metadata": {},
     "output_type": "execute_result"
    }
   ],
   "source": [
    "np.around(_)"
   ]
  },
  {
   "cell_type": "code",
   "execution_count": 16,
   "id": "e2a73be4-e2da-488a-9cf3-c12ea0fa8d26",
   "metadata": {},
   "outputs": [],
   "source": [
    "jednostkowa=np.identity(4)"
   ]
  },
  {
   "cell_type": "code",
   "execution_count": 17,
   "id": "9683bea1-32bb-42a1-bab1-7f37ba9a1984",
   "metadata": {},
   "outputs": [
    {
     "data": {
      "text/plain": [
       "array([[1., 0., 0., 0.],\n",
       "       [0., 1., 0., 0.],\n",
       "       [0., 0., 1., 0.],\n",
       "       [0., 0., 0., 1.]])"
      ]
     },
     "execution_count": 17,
     "metadata": {},
     "output_type": "execute_result"
    }
   ],
   "source": [
    "jednostkowa"
   ]
  },
  {
   "cell_type": "code",
   "execution_count": 18,
   "id": "368ebbc7-b983-4d17-ab87-fddc579253f9",
   "metadata": {},
   "outputs": [],
   "source": [
    "tablica_przyrostowa=np.linspace(0,10,3)"
   ]
  },
  {
   "cell_type": "code",
   "execution_count": 19,
   "id": "e1fc27dd-7a43-410c-a3fc-998a25d7c634",
   "metadata": {},
   "outputs": [
    {
     "data": {
      "text/plain": [
       "array([ 0.,  5., 10.])"
      ]
     },
     "execution_count": 19,
     "metadata": {},
     "output_type": "execute_result"
    }
   ],
   "source": [
    "tablica_przyrostowa"
   ]
  },
  {
   "cell_type": "code",
   "execution_count": 20,
   "id": "62007193-b53d-474e-8f3d-af6cf3318f54",
   "metadata": {},
   "outputs": [],
   "source": [
    "# a = numpy.random.randint(4, size=(2,2))\n",
    "a = np.array([[1,2],[3,4]])\n",
    "# b = sympy.Matrix(a)\n",
    "b = sp.Matrix([[1,2],[3,4]])\n",
    "x,y,z,t = sp.symbols('x y z t')\n",
    "c = sp.Matrix([[x,y],[z,t]])\n",
    "d = np.matrix([[1, 2], [3, 4]])"
   ]
  },
  {
   "cell_type": "code",
   "execution_count": 21,
   "id": "63a1534e-9af3-44f9-ab28-8a5288849a72",
   "metadata": {},
   "outputs": [
    {
     "data": {
      "text/plain": [
       "(array([[ 1,  4],\n",
       "        [ 9, 16]]),\n",
       " array([[ 7, 10],\n",
       "        [15, 22]]),\n",
       " array([[ 7, 10],\n",
       "        [15, 22]]))"
      ]
     },
     "execution_count": 21,
     "metadata": {},
     "output_type": "execute_result"
    }
   ],
   "source": [
    "a*a, a@a, np.dot(a,a)"
   ]
  },
  {
   "cell_type": "code",
   "execution_count": 22,
   "id": "6d555204-a00b-492f-8a79-e95ea982a1f5",
   "metadata": {},
   "outputs": [
    {
     "data": {
      "text/plain": [
       "(array([[ 1,  4],\n",
       "        [ 9, 16]]),\n",
       " Matrix([\n",
       " [ 7, 10],\n",
       " [15, 22]]),\n",
       " Matrix([\n",
       " [ 7, 10],\n",
       " [15, 22]]),\n",
       " matrix([[ 7, 10],\n",
       "         [15, 22]]),\n",
       " matrix([[ 7, 10],\n",
       "         [15, 22]]),\n",
       " Matrix([\n",
       " [ 7, 10],\n",
       " [15, 22]]),\n",
       " Matrix([\n",
       " [ 7, 10],\n",
       " [15, 22]]),\n",
       " array([[ 7, 10],\n",
       "        [15, 22]]),\n",
       " Matrix([\n",
       " [ 7, 10],\n",
       " [15, 22]]),\n",
       " Matrix([\n",
       " [ 7, 10],\n",
       " [15, 22]]),\n",
       " matrix([[ 7, 10],\n",
       "         [15, 22]]),\n",
       " matrix([[ 7, 10],\n",
       "         [15, 22]]),\n",
       " Matrix([\n",
       " [ 7, 10],\n",
       " [15, 22]]),\n",
       " Matrix([\n",
       " [ 7, 10],\n",
       " [15, 22]]))"
      ]
     },
     "execution_count": 22,
     "metadata": {},
     "output_type": "execute_result"
    }
   ],
   "source": [
    "a * a,a*b,b*a,a*d,d*a,b*d,d*b, a @ a,a@b,b@a,a@d,d@a,b@d,d@b"
   ]
  },
  {
   "cell_type": "code",
   "execution_count": 23,
   "id": "ebb44fbd-583a-490f-86f6-08a4d94c5e27",
   "metadata": {},
   "outputs": [
    {
     "data": {
      "image/png": "[encoded data removed]",
      "text/latex": [
       "$\\displaystyle \\left[\\begin{matrix}\\frac{t}{t x - y z} & - \\frac{y}{t x - y z}\\\\- \\frac{z}{t x - y z} & \\frac{x}{t x - y z}\\end{matrix}\\right]$"
      ],
      "text/plain": [
       "⎡    t         -y    ⎤\n",
       "⎢─────────  ─────────⎥\n",
       "⎢t⋅x - y⋅z  t⋅x - y⋅z⎥\n",
       "⎢                    ⎥\n",
       "⎢   -z          x    ⎥\n",
       "⎢─────────  ─────────⎥\n",
       "⎣t⋅x - y⋅z  t⋅x - y⋅z⎦"
      ]
     },
     "execution_count": 23,
     "metadata": {},
     "output_type": "execute_result"
    }
   ],
   "source": [
    "c.inv()"
   ]
  },
  {
   "cell_type": "code",
   "execution_count": 24,
   "id": "226982ad-87dc-464a-b338-314c9c1afc4d",
   "metadata": {},
   "outputs": [],
   "source": [
    "tab1 = np.array([[1,2],[3,4]])"
   ]
  },
  {
   "cell_type": "code",
   "execution_count": 25,
   "id": "f6ab584e-8ae3-4913-a0a4-7c0f4ca1f50f",
   "metadata": {},
   "outputs": [],
   "source": [
    "tab2 = np.matrix([[1,2],[3,4]])"
   ]
  },
  {
   "cell_type": "code",
   "execution_count": 26,
   "id": "8b7e3c14-71d7-4ce4-893f-b7bb27f89667",
   "metadata": {},
   "outputs": [],
   "source": [
    "tab3 = sp.Matrix([[1,2],[3,4]])"
   ]
  },
  {
   "cell_type": "code",
   "execution_count": 27,
   "id": "3622e5a1-c62e-4721-a88e-6992182aabd9",
   "metadata": {},
   "outputs": [
    {
     "data": {
      "text/plain": [
       "(array([[1, 2],\n",
       "        [3, 4]]),\n",
       " matrix([[1, 2],\n",
       "         [3, 4]]),\n",
       " Matrix([\n",
       " [1, 2],\n",
       " [3, 4]]))"
      ]
     },
     "execution_count": 27,
     "metadata": {},
     "output_type": "execute_result"
    }
   ],
   "source": [
    "tab1,tab2,tab3"
   ]
  },
  {
   "cell_type": "code",
   "execution_count": 28,
   "id": "e3f6faa1-37f4-45cd-925c-20df07a8ecb9",
   "metadata": {},
   "outputs": [
    {
     "data": {
      "text/plain": [
       "(numpy.ndarray, numpy.matrix, sympy.matrices.dense.MutableDenseMatrix)"
      ]
     },
     "execution_count": 28,
     "metadata": {},
     "output_type": "execute_result"
    }
   ],
   "source": [
    "type(tab1),type(tab2),type(tab3)"
   ]
  },
  {
   "cell_type": "code",
   "execution_count": 29,
   "id": "fa2a044f-188d-49e4-b80a-fc1f6569cf96",
   "metadata": {},
   "outputs": [
    {
     "data": {
      "text/plain": [
       "(matrix([[-2. ,  1. ],\n",
       "         [ 1.5, -0.5]]),\n",
       " matrix([[1, 3],\n",
       "         [2, 4]]))"
      ]
     },
     "execution_count": 29,
     "metadata": {},
     "output_type": "execute_result"
    }
   ],
   "source": [
    "tab2.I, tab2.H"
   ]
  },
  {
   "cell_type": "code",
   "execution_count": 30,
   "id": "8788cf11-c1d6-4166-8020-5f68288454d5",
   "metadata": {},
   "outputs": [
    {
     "data": {
      "image/png": "[encoded data removed]",
      "text/latex": [
       "$\\displaystyle -2$"
      ],
      "text/plain": [
       "-2"
      ]
     },
     "execution_count": 30,
     "metadata": {},
     "output_type": "execute_result"
    }
   ],
   "source": [
    "tab3.det()"
   ]
  },
  {
   "cell_type": "code",
   "execution_count": 31,
   "id": "aad5ec1f-82cc-4f5a-be32-e28051f055e6",
   "metadata": {},
   "outputs": [
    {
     "data": {
      "image/png": "[encoded data removed]",
      "text/latex": [
       "$\\displaystyle -2.0$"
      ],
      "text/plain": [
       "-2.0000000000000004"
      ]
     },
     "execution_count": 31,
     "metadata": {},
     "output_type": "execute_result"
    }
   ],
   "source": [
    "np.linalg.det(tab1)"
   ]
  },
  {
   "cell_type": "code",
   "execution_count": 32,
   "id": "f04a58ce-9208-4b07-882f-891075766028",
   "metadata": {},
   "outputs": [
    {
     "data": {
      "image/png": "[encoded data removed]",
      "text/latex": [
       "$\\displaystyle \\left[\\begin{matrix}-2 & 1\\\\\\frac{3}{2} & - \\frac{1}{2}\\end{matrix}\\right]$"
      ],
      "text/plain": [
       "⎡-2    1  ⎤\n",
       "⎢         ⎥\n",
       "⎣3/2  -1/2⎦"
      ]
     },
     "execution_count": 32,
     "metadata": {},
     "output_type": "execute_result"
    }
   ],
   "source": [
    "tab3.inv()"
   ]
  },
  {
   "cell_type": "code",
   "execution_count": 33,
   "id": "0f28f784-e2cc-4fa5-aeee-7f7948af28bf",
   "metadata": {},
   "outputs": [
    {
     "data": {
      "text/plain": [
       "array([[-2. ,  1. ],\n",
       "       [ 1.5, -0.5]])"
      ]
     },
     "execution_count": 33,
     "metadata": {},
     "output_type": "execute_result"
    }
   ],
   "source": [
    "np.linalg.inv(tab1)"
   ]
  },
  {
   "cell_type": "code",
   "execution_count": 34,
   "id": "da9ecac9-f09a-4204-a9cf-650fc2f1f287",
   "metadata": {},
   "outputs": [
    {
     "data": {
      "text/plain": [
       "array([[1.+0.j, 2.+0.j, 3.+0.j],\n",
       "       [2.+0.j, 4.+0.j, 6.+0.j],\n",
       "       [3.+0.j, 6.+0.j, 9.+0.j]])"
      ]
     },
     "execution_count": 34,
     "metadata": {},
     "output_type": "execute_result"
    }
   ],
   "source": [
    "wiersz*kolumna"
   ]
  },
  {
   "cell_type": "code",
   "execution_count": 35,
   "id": "b5412c61-cab6-431e-b8e3-c96e736378a7",
   "metadata": {},
   "outputs": [
    {
     "data": {
      "text/plain": [
       "array([[14.+0.j]])"
      ]
     },
     "execution_count": 35,
     "metadata": {},
     "output_type": "execute_result"
    }
   ],
   "source": [
    "wiersz@kolumna"
   ]
  },
  {
   "cell_type": "code",
   "execution_count": 36,
   "id": "a186f398-a1d1-4fd3-ada1-0611d2fbb1f7",
   "metadata": {},
   "outputs": [
    {
     "data": {
      "text/plain": [
       "array([[1],\n",
       "       [2],\n",
       "       [3]])"
      ]
     },
     "execution_count": 36,
     "metadata": {},
     "output_type": "execute_result"
    }
   ],
   "source": [
    "kolumna"
   ]
  },
  {
   "cell_type": "code",
   "execution_count": 37,
   "id": "079257f2-7c75-41aa-8ec7-6ed8ead93912",
   "metadata": {},
   "outputs": [
    {
     "data": {
      "text/plain": [
       "array([[1.+0.j, 2.+0.j, 3.+0.j]])"
      ]
     },
     "execution_count": 37,
     "metadata": {},
     "output_type": "execute_result"
    }
   ],
   "source": [
    "wiersz"
   ]
  },
  {
   "cell_type": "code",
   "execution_count": 38,
   "id": "5cfd6fbf-c571-4650-9c0e-7d67f4fae541",
   "metadata": {},
   "outputs": [
    {
     "data": {
      "image/png": "[encoded data removed]",
      "text/latex": [
       "$\\displaystyle \\left( 1, \\  3\\right)$"
      ],
      "text/plain": [
       "(1, 3)"
      ]
     },
     "execution_count": 38,
     "metadata": {},
     "output_type": "execute_result"
    }
   ],
   "source": [
    "wiersz.shape"
   ]
  },
  {
   "cell_type": "code",
   "execution_count": 39,
   "id": "c584abf0-e870-4960-8a2d-7a2d6e3c334c",
   "metadata": {},
   "outputs": [
    {
     "data": {
      "image/png": "[encoded data removed]",
      "text/latex": [
       "$\\displaystyle \\left( 3, \\  1\\right)$"
      ],
      "text/plain": [
       "(3, 1)"
      ]
     },
     "execution_count": 39,
     "metadata": {},
     "output_type": "execute_result"
    }
   ],
   "source": [
    "kolumna.shape"
   ]
  },
  {
   "cell_type": "code",
   "execution_count": 40,
   "id": "696afd2d-3595-45d3-a14c-6831964b6b66",
   "metadata": {},
   "outputs": [
    {
     "data": {
      "text/plain": [
       "array([[1.+0.j, 2.+0.j, 3.+0.j],\n",
       "       [2.+0.j, 4.+0.j, 6.+0.j],\n",
       "       [3.+0.j, 6.+0.j, 9.+0.j]])"
      ]
     },
     "execution_count": 40,
     "metadata": {},
     "output_type": "execute_result"
    }
   ],
   "source": [
    "kolumna@wiersz"
   ]
  },
  {
   "cell_type": "code",
   "execution_count": null,
   "id": "725850a0-b6dd-4601-8252-391333529110",
   "metadata": {},
   "outputs": [],
   "source": []
  }
 ],
 "metadata": {
  "kernelspec": {
   "display_name": "Python 3 (ipykernel)",
   "language": "python",
   "name": "python3"
  },
  "language_info": {
   "codemirror_mode": {
    "name": "ipython",
    "version": 3
   },
   "file_extension": ".py",
   "mimetype": "text/x-python",
   "name": "python",
   "nbconvert_exporter": "python",
   "pygments_lexer": "ipython3",
   "version": "3.9.12"
  }
 },
 "nbformat": 4,
 "nbformat_minor": 5
}
