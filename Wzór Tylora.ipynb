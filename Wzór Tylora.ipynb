{
 "cells": [
  {
   "cell_type": "code",
   "execution_count": 1,
   "id": "f6161a74-c64e-4353-b248-8e7c12bbdff4",
   "metadata": {},
   "outputs": [],
   "source": [
    "%matplotlib widget"
   ]
  },
  {
   "cell_type": "code",
   "execution_count": 2,
   "id": "8e958fb7-f46c-41c7-a71d-15b055a9187e",
   "metadata": {},
   "outputs": [],
   "source": [
    "import numpy\n",
    "import sympy\n",
    "x = sympy.symbols('x', real=True)\n",
    "import ipywidgets as widgets\n",
    "import matplotlib.pyplot as plt\n",
    "# from IPython.display import display\n",
    "sympy.init_printing(order='old')"
   ]
  },
  {
   "cell_type": "code",
   "execution_count": 7,
   "id": "11931f2a-7c73-4454-b5cf-ff9cece13b45",
   "metadata": {},
   "outputs": [
    {
     "data": {
      "application/vnd.jupyter.widget-view+json": {
       "model_id": "b2f4cd72e38742e7a999f04b72313534",
       "version_major": 2,
       "version_minor": 0
      },
      "text/plain": [
       "interactive(children=(IntSlider(value=3, description='f', max=30, min=3), Output()), _dom_classes=('widget-int…"
      ]
     },
     "metadata": {},
     "output_type": "display_data"
    }
   ],
   "source": [
    "t = numpy.arange(-3*numpy.pi, 3*numpy.pi, 0.001)\n",
    "function=sympy.cos(x)\n",
    "def pltsin(f):\n",
    "    plt.clf()\n",
    "    plt.axis()\n",
    "    plt.xlim(-3*numpy.pi,3*numpy.pi)\n",
    "    plt.ylim(-3*numpy.pi,3*numpy.pi)\n",
    "    sympy.function =sympy.lambdify(x,function)\n",
    "    y1=sympy.function(t)\n",
    "    plt.plot(t,y1)\n",
    "    sympy_tylor = sympy.lambdify(x,sympy.series(function,x,0,f).removeO())\n",
    "    y = sympy_tylor(t)\n",
    "    plt.axvline(x=0, c=\"red\", linewidth=.7)\n",
    "    plt.axhline(y=0, c=\"red\", linewidth=.7)\n",
    "    plt.locator_params(nbins=10)\n",
    "    plt.minorticks_on()\n",
    "    plt.grid(which='minor', color='green', linestyle=':', linewidth=.1)\n",
    "    plt.grid(linewidth=0.3)\n",
    "    plt.plot(t,y,c='green')\n",
    "    if f<15:\n",
    "        rozwiniecie=sympy.latex(sympy.series(function,x,0,f).removeO())\n",
    "    else:\n",
    "        rozwiniecie=str(sympy.latex(sympy.series(function,x,0,15).removeO()))+'+...'\n",
    "    plt.annotate(r'$'+rozwiniecie+'$', xy=(-5, 4), fontsize=10)\n",
    "    plt.show()\n",
    "    \n",
    "widgets.interact(pltsin, f=widgets.IntSlider(min=3, max=30, step=1, value=2));"
   ]
  },
  {
   "cell_type": "code",
   "execution_count": null,
   "id": "e63356d5",
   "metadata": {},
   "outputs": [],
   "source": []
  },
  {
   "cell_type": "code",
   "execution_count": null,
   "id": "d5c3c955",
   "metadata": {},
   "outputs": [],
   "source": []
  },
  {
   "cell_type": "code",
   "execution_count": null,
   "id": "ef9bc129",
   "metadata": {},
   "outputs": [],
   "source": []
  },
  {
   "cell_type": "code",
   "execution_count": null,
   "id": "c0bae058",
   "metadata": {},
   "outputs": [],
   "source": []
  }
 ],
 "metadata": {
  "kernelspec": {
   "display_name": "Python 3 (ipykernel)",
   "language": "python",
   "name": "python3"
  },
  "language_info": {
   "codemirror_mode": {
    "name": "ipython",
    "version": 3
   },
   "file_extension": ".py",
   "mimetype": "text/x-python",
   "name": "python",
   "nbconvert_exporter": "python",
   "pygments_lexer": "ipython3",
   "version": "3.9.13"
  }
 },
 "nbformat": 4,
 "nbformat_minor": 5
}
